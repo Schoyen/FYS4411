{
 "cells": [
  {
   "cell_type": "markdown",
   "metadata": {},
   "source": [
    "# Metropolis sampling\n",
    "\n",
    "In this notebook we analyse the results from VMC calculations on a spherical harmonic oscillator using brute force Metropolis."
   ]
  },
  {
   "cell_type": "code",
   "execution_count": 33,
   "metadata": {
    "collapsed": true
   },
   "outputs": [],
   "source": [
    "%matplotlib inline\n",
    "\n",
    "import matplotlib.pyplot as plt\n",
    "import numpy as np\n",
    "import tqdm\n",
    "\n",
    "from vmc.interface import PyHarmonicOscillator, PyMetropolisAlgorithm, \\\n",
    "    PySimpleGaussian, PySimpleGaussianNumerical"
   ]
  },
  {
   "cell_type": "markdown",
   "metadata": {},
   "source": [
    "We use natural units with $m = \\hbar = c = 1$. We also restrict our views to $\\omega = 1$ in this analysis."
   ]
  },
  {
   "cell_type": "code",
   "execution_count": 20,
   "metadata": {
    "collapsed": true
   },
   "outputs": [],
   "source": [
    "mass = 1.0\n",
    "omega = 1.0"
   ]
  },
  {
   "cell_type": "code",
   "execution_count": 21,
   "metadata": {
    "collapsed": true
   },
   "outputs": [],
   "source": [
    "spread = 1.0\n",
    "step_length = 0.05"
   ]
  },
  {
   "cell_type": "markdown",
   "metadata": {},
   "source": [
    "## The one dimensional spherical harmonic oscillator\n",
    "\n",
    "Starting with the simplest case we look at the one dimensional spherical harmonic oscillator.\n",
    "\n",
    "\\begin{align}\n",
    "    \\Psi_T(\\mathbf{x}) &= \\prod_{i = 1}^N\\exp(-\\alpha x_i).\n",
    "\\end{align}\n",
    "\n",
    "We wish to compare the CPU time of the analytical scheme, i.e., an analytical expression for the Laplcian and hence the local energy, versus a central difference scheme of second order."
   ]
  },
  {
   "cell_type": "markdown",
   "metadata": {},
   "source": [
    "We know that the exact ground state energy for the one dimensional spherical harmonic oscillator can be found at $\\alpha = 0.5$. By restricting our view to the region $\\alpha \\in [0.1, 0.7]$ we should observe a trend where the average energy goes towards a minimum at $\\alpha = 0.5$ and increases on both sides."
   ]
  },
  {
   "cell_type": "code",
   "execution_count": 15,
   "metadata": {},
   "outputs": [],
   "source": [
    "alpha_min = 0.1\n",
    "alpha_max = 0.7\n",
    "num_alphas = 16\n",
    "\n",
    "alphas = np.linspace(alpha_min, alpha_max, num_alphas).reshape(num_alphas, 1)"
   ]
  },
  {
   "cell_type": "code",
   "execution_count": 48,
   "metadata": {
    "collapsed": true
   },
   "outputs": [],
   "source": [
    "num_particles = 2\n",
    "num_dimensions = 1\n",
    "num_parameters = 1\n",
    "\n",
    "num_samples = 1000000"
   ]
  },
  {
   "cell_type": "code",
   "execution_count": 49,
   "metadata": {
    "collapsed": true
   },
   "outputs": [],
   "source": [
    "solver = PyMetropolisAlgorithm(num_particles)\n",
    "wavefunction_analytical = PySimpleGaussian(\n",
    "    num_particles, num_dimensions, num_parameters, mass, omega, spread=spread)\n",
    "wavefunction_approximate = PySimpleGaussianNumerical(\n",
    "    num_particles, num_dimensions, num_parameters, mass, omega, spread=spread)\n",
    "hamiltonian = PyHarmonicOscillator(mass, omega)"
   ]
  },
  {
   "cell_type": "code",
   "execution_count": 50,
   "metadata": {},
   "outputs": [
    {
     "name": "stderr",
     "output_type": "stream",
     "text": [
      "100%|██████████| 16/16 [00:06<00:00,  2.57it/s]\n"
     ]
    }
   ],
   "source": [
    "energies_analytical = np.zeros(num_alphas)\n",
    "energies_approximate = np.zeros(num_alphas)\n",
    "\n",
    "for i in tqdm.tqdm(range(num_alphas)):\n",
    "    wavefunction_analytical.set_parameters(alphas[i])\n",
    "    wavefunction_approximate.set_parameters(alphas[i])\n",
    "\n",
    "    energies_analytical[i] = solver.run(\n",
    "        wavefunction_analytical, hamiltonian, step_length, num_samples)\n",
    "    energies_approximate[i] = solver.run(\n",
    "        wavefunction_approximate, hamiltonian, step_length, num_samples)\n",
    "\n",
    "    wavefunction_analytical.redistribute()\n",
    "    wavefunction_approximate.redistribute()\n",
    "\n",
    "energies_analytical /= num_samples\n",
    "energies_approximate /= num_samples"
   ]
  },
  {
   "cell_type": "code",
   "execution_count": 51,
   "metadata": {},
   "outputs": [
    {
     "data": {
      "image/png": "[encoded data removed]",
      "text/plain": [
       "<matplotlib.figure.Figure at 0x11bb45ef0>"
      ]
     },
     "metadata": {},
     "output_type": "display_data"
    }
   ],
   "source": [
    "plt.plot(alphas.ravel(), energies_analytical, label=\"analytical\")\n",
    "plt.plot(alphas.ravel(), energies_approximate, label=\"approximate\")\n",
    "plt.legend(loc=\"best\")\n",
    "plt.show()"
   ]
  }
 ],
 "metadata": {
  "kernelspec": {
   "display_name": "Python 3",
   "language": "python",
   "name": "python3"
  },
  "language_info": {
   "codemirror_mode": {
    "name": "ipython",
    "version": 3
   },
   "file_extension": ".py",
   "mimetype": "text/x-python",
   "name": "python",
   "nbconvert_exporter": "python",
   "pygments_lexer": "ipython3",
   "version": "3.6.1"
  }
 },
 "nbformat": 4,
 "nbformat_minor": 2
}
