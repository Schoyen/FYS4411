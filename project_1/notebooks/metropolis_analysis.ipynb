{
 "cells": [
  {
   "cell_type": "markdown",
   "metadata": {},
   "source": [
    "# Metropolis sampling\n",
    "\n",
    "In this notebook we analyse the results from VMC calculations on a spherical harmonic oscillator using brute force Metropolis."
   ]
  },
  {
   "cell_type": "code",
   "execution_count": 1,
   "metadata": {
    "collapsed": false
   },
   "outputs": [],
   "source": [
    "%matplotlib inline\n",
    "\n",
    "import matplotlib.pyplot as plt\n",
    "import seaborn as sns\n",
    "import numpy as np\n",
    "import pandas as pd\n",
    "import tqdm\n",
    "\n",
    "from vmc.interface import PyHarmonicOscillator, PyMetropolisAlgorithm, \\\n",
    "    PySimpleGaussian, PySimpleGaussianNumerical, PySampler, \\\n",
    "    PyImportanceMetropolis\n",
    "from vmc import run_experiment\n",
    "\n",
    "from IPython.core.pylabtools import figsize\n",
    "from IPython.core.display import display"
   ]
  },
  {
   "cell_type": "code",
   "execution_count": 2,
   "metadata": {
    "collapsed": true
   },
   "outputs": [],
   "source": [
    "sns.set(color_codes=True)\n",
    "#figsize(14, 10)"
   ]
  },
  {
   "cell_type": "markdown",
   "metadata": {},
   "source": [
    "We use natural units with $m = \\hbar = c = 1$. We also restrict our views to $\\omega = 1$ in this analysis."
   ]
  },
  {
   "cell_type": "code",
   "execution_count": 3,
   "metadata": {
    "collapsed": true
   },
   "outputs": [],
   "source": [
    "mass = 1.0\n",
    "omega = 1.0\n",
    "hbar = 1.0\n",
    "\n",
    "step_length = 0.1\n",
    "\n",
    "h = 1e-7"
   ]
  },
  {
   "cell_type": "markdown",
   "metadata": {},
   "source": [
    "## The one dimensional spherical harmonic oscillator\n",
    "\n",
    "Starting with the simplest case we look at the one dimensional spherical harmonic oscillator.\n",
    "\n",
    "\\begin{align}\n",
    "    \\Psi_T(\\mathbf{x}) &= \\prod_{i = 1}^N\\exp(-\\alpha x_i).\n",
    "\\end{align}\n",
    "\n",
    "We wish to compare the CPU time of the analytical scheme, i.e., an analytical expression for the Laplcian and hence the local energy, versus a central difference scheme of second order."
   ]
  },
  {
   "cell_type": "markdown",
   "metadata": {},
   "source": [
    "We know that the exact ground state energy for the one dimensional spherical harmonic oscillator can be found at $\\alpha = 0.5$. By restricting our view to the region $\\alpha \\in [0.1, 0.7]$ we should observe a trend where the average energy goes towards a minimum at $\\alpha = 0.5$ and increases on both sides."
   ]
  },
  {
   "cell_type": "code",
   "execution_count": 4,
   "metadata": {
    "collapsed": false
   },
   "outputs": [],
   "source": [
    "alpha_min = 0.3\n",
    "alpha_max = 0.9\n",
    "num_alphas = 31\n",
    "\n",
    "parameter_names = [\"alpha\"]\n",
    "\n",
    "alphas = np.linspace(\n",
    "    alpha_min, alpha_max, num_alphas).reshape(num_alphas, 1)"
   ]
  },
  {
   "cell_type": "code",
   "execution_count": 5,
   "metadata": {
    "collapsed": true
   },
   "outputs": [],
   "source": [
    "num_particles = 1\n",
    "num_dimensions = 1\n",
    "\n",
    "num_samples = int(4e6)\n",
    "num_thermalization_steps = int(num_particles * 2000)\n",
    "\n",
    "num_local_energies = 0"
   ]
  },
  {
   "cell_type": "code",
   "execution_count": 6,
   "metadata": {
    "collapsed": true
   },
   "outputs": [],
   "source": [
    "kwargs = {\n",
    "    \"num_samples\": num_samples, \"step_length\": step_length,\n",
    "    \"num_thermalization_steps\": num_thermalization_steps}"
   ]
  },
  {
   "cell_type": "code",
   "execution_count": 7,
   "metadata": {
    "collapsed": true
   },
   "outputs": [],
   "source": [
    "solver_analytical = PyMetropolisAlgorithm(num_particles)\n",
    "#solver = PyImportanceMetropolis(num_particles)\n",
    "wavefunction_analytical = PySimpleGaussian(\n",
    "    num_particles, num_dimensions, mass, omega, spread=step_length)\n",
    "hamiltonian_analytical = PyHarmonicOscillator()\n",
    "sampler_analytical = PySampler(\n",
    "    wavefunction_analytical, hamiltonian_analytical,\n",
    "    solver_analytical, num_local_energies)"
   ]
  },
  {
   "cell_type": "code",
   "execution_count": 8,
   "metadata": {
    "collapsed": true
   },
   "outputs": [],
   "source": [
    "solver_approximate = PyMetropolisAlgorithm(num_particles)\n",
    "wavefunction_approximate = PySimpleGaussianNumerical(\n",
    "    num_particles, num_dimensions, mass, omega, h=h, spread=step_length)\n",
    "hamiltonian_approximate = PyHarmonicOscillator()\n",
    "sampler_approximate = PySampler(\n",
    "    wavefunction_approximate, hamiltonian_approximate,\n",
    "    solver_approximate, num_local_energies)"
   ]
  },
  {
   "cell_type": "code",
   "execution_count": 9,
   "metadata": {
    "collapsed": false
   },
   "outputs": [
    {
     "name": "stderr",
     "output_type": "stream",
     "text": [
      "100%|██████████| 31/31 [00:20<00:00,  1.48it/s]\n"
     ]
    }
   ],
   "source": [
    "df_analytical = run_experiment(\n",
    "    sampler_analytical, wavefunction_analytical, alphas,\n",
    "    parameter_names, **kwargs)"
   ]
  },
  {
   "cell_type": "code",
   "execution_count": 10,
   "metadata": {
    "collapsed": false
   },
   "outputs": [
    {
     "name": "stderr",
     "output_type": "stream",
     "text": [
      "100%|██████████| 31/31 [00:29<00:00,  1.05it/s]\n"
     ]
    }
   ],
   "source": [
    "df_approximate = run_experiment(\n",
    "    sampler_approximate, wavefunction_approximate, alphas,\n",
    "    parameter_names, **kwargs)"
   ]
  },
  {
   "cell_type": "code",
   "execution_count": 11,
   "metadata": {
    "collapsed": false
   },
   "outputs": [
    {
     "data": {
      "image/png": "[encoded data removed]",
      "text/plain": [
       "<matplotlib.figure.Figure at 0x7fab55d43048>"
      ]
     },
     "metadata": {},
     "output_type": "display_data"
    }
   ],
   "source": [
    "plt.plot(df_analytical[\"alpha\"], df_analytical[\"energy\"], label=\"analytical\")\n",
    "plt.plot(df_approximate[\"alpha\"], df_approximate[\"energy\"], label=\"approximate\")\n",
    "plt.legend(loc=\"best\")\n",
    "plt.show()"
   ]
  },
  {
   "cell_type": "code",
   "execution_count": 12,
   "metadata": {
    "collapsed": false
   },
   "outputs": [
    {
     "data": {
      "image/png": "[encoded data removed]",
      "text/plain": [
       "<matplotlib.figure.Figure at 0x7fab54c56c50>"
      ]
     },
     "metadata": {},
     "output_type": "display_data"
    }
   ],
   "source": [
    "plt.errorbar(\n",
    "    df_analytical[\"alpha\"], df_analytical[\"energy\"],\n",
    "    yerr=np.sqrt(df_analytical[\"variance\"])/np.sqrt(num_samples),\n",
    "    label=\"analytical\", fmt=\"o-\")\n",
    "plt.errorbar(\n",
    "    df_approximate[\"alpha\"], df_approximate[\"energy\"],\n",
    "    yerr=np.sqrt(df_approximate[\"variance\"])/np.sqrt(num_samples),\n",
    "    label=\"approximate\", fmt=\"o-\")\n",
    "plt.legend(loc=\"best\")\n",
    "plt.show()"
   ]
  },
  {
   "cell_type": "code",
   "execution_count": 13,
   "metadata": {
    "collapsed": false
   },
   "outputs": [
    {
     "data": {
      "image/png": "[encoded data removed]",
      "text/plain": [
       "<matplotlib.figure.Figure at 0x7fab84c73eb8>"
      ]
     },
     "metadata": {},
     "output_type": "display_data"
    }
   ],
   "source": [
    "plt.plot(\n",
    "    df_analytical[\"alpha\"], df_analytical[\"variance\"]/num_particles,\n",
    "    label=\"analytical\")\n",
    "plt.plot(\n",
    "    df_approximate[\"alpha\"], df_approximate[\"variance\"]/num_particles,\n",
    "    label=\"approximate\")\n",
    "plt.legend(loc=\"best\")\n",
    "plt.show()"
   ]
  },
  {
   "cell_type": "code",
   "execution_count": 14,
   "metadata": {
    "collapsed": false
   },
   "outputs": [
    {
     "data": {
      "text/html": [
       "<div>\n",
       "<table border=\"1\" class=\"dataframe\">\n",
       "  <thead>\n",
       "    <tr style=\"text-align: right;\">\n",
       "      <th></th>\n",
       "      <th>alpha</th>\n",
       "      <th>energy</th>\n",
       "      <th>variance</th>\n",
       "      <th>acceptance</th>\n",
       "    </tr>\n",
       "  </thead>\n",
       "  <tbody>\n",
       "    <tr>\n",
       "      <th>0</th>\n",
       "      <td>0.30</td>\n",
       "      <td>0.564789</td>\n",
       "      <td>0.137732</td>\n",
       "      <td>0.978180</td>\n",
       "    </tr>\n",
       "    <tr>\n",
       "      <th>1</th>\n",
       "      <td>0.32</td>\n",
       "      <td>0.553359</td>\n",
       "      <td>0.108229</td>\n",
       "      <td>0.977385</td>\n",
       "    </tr>\n",
       "    <tr>\n",
       "      <th>2</th>\n",
       "      <td>0.34</td>\n",
       "      <td>0.537604</td>\n",
       "      <td>0.077472</td>\n",
       "      <td>0.976663</td>\n",
       "    </tr>\n",
       "    <tr>\n",
       "      <th>3</th>\n",
       "      <td>0.36</td>\n",
       "      <td>0.530805</td>\n",
       "      <td>0.057915</td>\n",
       "      <td>0.975789</td>\n",
       "    </tr>\n",
       "    <tr>\n",
       "      <th>4</th>\n",
       "      <td>0.38</td>\n",
       "      <td>0.519587</td>\n",
       "      <td>0.038757</td>\n",
       "      <td>0.975234</td>\n",
       "    </tr>\n",
       "    <tr>\n",
       "      <th>5</th>\n",
       "      <td>0.40</td>\n",
       "      <td>0.512923</td>\n",
       "      <td>0.025675</td>\n",
       "      <td>0.974911</td>\n",
       "    </tr>\n",
       "    <tr>\n",
       "      <th>6</th>\n",
       "      <td>0.42</td>\n",
       "      <td>0.508822</td>\n",
       "      <td>0.015000</td>\n",
       "      <td>0.973887</td>\n",
       "    </tr>\n",
       "    <tr>\n",
       "      <th>7</th>\n",
       "      <td>0.44</td>\n",
       "      <td>0.503968</td>\n",
       "      <td>0.008156</td>\n",
       "      <td>0.973464</td>\n",
       "    </tr>\n",
       "    <tr>\n",
       "      <th>8</th>\n",
       "      <td>0.46</td>\n",
       "      <td>0.501011</td>\n",
       "      <td>0.003378</td>\n",
       "      <td>0.973258</td>\n",
       "    </tr>\n",
       "    <tr>\n",
       "      <th>9</th>\n",
       "      <td>0.48</td>\n",
       "      <td>0.500069</td>\n",
       "      <td>0.000794</td>\n",
       "      <td>0.972497</td>\n",
       "    </tr>\n",
       "    <tr>\n",
       "      <th>10</th>\n",
       "      <td>0.50</td>\n",
       "      <td>0.500000</td>\n",
       "      <td>0.000000</td>\n",
       "      <td>0.971607</td>\n",
       "    </tr>\n",
       "    <tr>\n",
       "      <th>11</th>\n",
       "      <td>0.52</td>\n",
       "      <td>0.500442</td>\n",
       "      <td>0.000770</td>\n",
       "      <td>0.971343</td>\n",
       "    </tr>\n",
       "    <tr>\n",
       "      <th>12</th>\n",
       "      <td>0.54</td>\n",
       "      <td>0.501886</td>\n",
       "      <td>0.002896</td>\n",
       "      <td>0.970972</td>\n",
       "    </tr>\n",
       "    <tr>\n",
       "      <th>13</th>\n",
       "      <td>0.56</td>\n",
       "      <td>0.502545</td>\n",
       "      <td>0.006486</td>\n",
       "      <td>0.970003</td>\n",
       "    </tr>\n",
       "    <tr>\n",
       "      <th>14</th>\n",
       "      <td>0.58</td>\n",
       "      <td>0.504358</td>\n",
       "      <td>0.011353</td>\n",
       "      <td>0.969279</td>\n",
       "    </tr>\n",
       "    <tr>\n",
       "      <th>15</th>\n",
       "      <td>0.60</td>\n",
       "      <td>0.507623</td>\n",
       "      <td>0.017254</td>\n",
       "      <td>0.968878</td>\n",
       "    </tr>\n",
       "    <tr>\n",
       "      <th>16</th>\n",
       "      <td>0.62</td>\n",
       "      <td>0.510308</td>\n",
       "      <td>0.024148</td>\n",
       "      <td>0.968390</td>\n",
       "    </tr>\n",
       "    <tr>\n",
       "      <th>17</th>\n",
       "      <td>0.64</td>\n",
       "      <td>0.512935</td>\n",
       "      <td>0.032435</td>\n",
       "      <td>0.967723</td>\n",
       "    </tr>\n",
       "    <tr>\n",
       "      <th>18</th>\n",
       "      <td>0.66</td>\n",
       "      <td>0.520348</td>\n",
       "      <td>0.039134</td>\n",
       "      <td>0.967523</td>\n",
       "    </tr>\n",
       "    <tr>\n",
       "      <th>19</th>\n",
       "      <td>0.68</td>\n",
       "      <td>0.524484</td>\n",
       "      <td>0.048125</td>\n",
       "      <td>0.967199</td>\n",
       "    </tr>\n",
       "    <tr>\n",
       "      <th>20</th>\n",
       "      <td>0.70</td>\n",
       "      <td>0.527697</td>\n",
       "      <td>0.060253</td>\n",
       "      <td>0.966563</td>\n",
       "    </tr>\n",
       "    <tr>\n",
       "      <th>21</th>\n",
       "      <td>0.72</td>\n",
       "      <td>0.531293</td>\n",
       "      <td>0.070315</td>\n",
       "      <td>0.966013</td>\n",
       "    </tr>\n",
       "    <tr>\n",
       "      <th>22</th>\n",
       "      <td>0.74</td>\n",
       "      <td>0.540486</td>\n",
       "      <td>0.079006</td>\n",
       "      <td>0.965672</td>\n",
       "    </tr>\n",
       "    <tr>\n",
       "      <th>23</th>\n",
       "      <td>0.76</td>\n",
       "      <td>0.548572</td>\n",
       "      <td>0.088910</td>\n",
       "      <td>0.965464</td>\n",
       "    </tr>\n",
       "    <tr>\n",
       "      <th>24</th>\n",
       "      <td>0.78</td>\n",
       "      <td>0.546343</td>\n",
       "      <td>0.110600</td>\n",
       "      <td>0.964572</td>\n",
       "    </tr>\n",
       "    <tr>\n",
       "      <th>25</th>\n",
       "      <td>0.80</td>\n",
       "      <td>0.550891</td>\n",
       "      <td>0.122839</td>\n",
       "      <td>0.963919</td>\n",
       "    </tr>\n",
       "    <tr>\n",
       "      <th>26</th>\n",
       "      <td>0.82</td>\n",
       "      <td>0.557995</td>\n",
       "      <td>0.137806</td>\n",
       "      <td>0.963585</td>\n",
       "    </tr>\n",
       "    <tr>\n",
       "      <th>27</th>\n",
       "      <td>0.84</td>\n",
       "      <td>0.569000</td>\n",
       "      <td>0.146686</td>\n",
       "      <td>0.963480</td>\n",
       "    </tr>\n",
       "    <tr>\n",
       "      <th>28</th>\n",
       "      <td>0.86</td>\n",
       "      <td>0.571937</td>\n",
       "      <td>0.165962</td>\n",
       "      <td>0.962850</td>\n",
       "    </tr>\n",
       "    <tr>\n",
       "      <th>29</th>\n",
       "      <td>0.88</td>\n",
       "      <td>0.585966</td>\n",
       "      <td>0.171533</td>\n",
       "      <td>0.962819</td>\n",
       "    </tr>\n",
       "    <tr>\n",
       "      <th>30</th>\n",
       "      <td>0.90</td>\n",
       "      <td>0.588405</td>\n",
       "      <td>0.196373</td>\n",
       "      <td>0.962114</td>\n",
       "    </tr>\n",
       "  </tbody>\n",
       "</table>\n",
       "</div>"
      ],
      "text/plain": [
       "    alpha    energy  variance  acceptance\n",
       "0    0.30  0.564789  0.137732    0.978180\n",
       "1    0.32  0.553359  0.108229    0.977385\n",
       "2    0.34  0.537604  0.077472    0.976663\n",
       "3    0.36  0.530805  0.057915    0.975789\n",
       "4    0.38  0.519587  0.038757    0.975234\n",
       "5    0.40  0.512923  0.025675    0.974911\n",
       "6    0.42  0.508822  0.015000    0.973887\n",
       "7    0.44  0.503968  0.008156    0.973464\n",
       "8    0.46  0.501011  0.003378    0.973258\n",
       "9    0.48  0.500069  0.000794    0.972497\n",
       "10   0.50  0.500000  0.000000    0.971607\n",
       "11   0.52  0.500442  0.000770    0.971343\n",
       "12   0.54  0.501886  0.002896    0.970972\n",
       "13   0.56  0.502545  0.006486    0.970003\n",
       "14   0.58  0.504358  0.011353    0.969279\n",
       "15   0.60  0.507623  0.017254    0.968878\n",
       "16   0.62  0.510308  0.024148    0.968390\n",
       "17   0.64  0.512935  0.032435    0.967723\n",
       "18   0.66  0.520348  0.039134    0.967523\n",
       "19   0.68  0.524484  0.048125    0.967199\n",
       "20   0.70  0.527697  0.060253    0.966563\n",
       "21   0.72  0.531293  0.070315    0.966013\n",
       "22   0.74  0.540486  0.079006    0.965672\n",
       "23   0.76  0.548572  0.088910    0.965464\n",
       "24   0.78  0.546343  0.110600    0.964572\n",
       "25   0.80  0.550891  0.122839    0.963919\n",
       "26   0.82  0.557995  0.137806    0.963585\n",
       "27   0.84  0.569000  0.146686    0.963480\n",
       "28   0.86  0.571937  0.165962    0.962850\n",
       "29   0.88  0.585966  0.171533    0.962819\n",
       "30   0.90  0.588405  0.196373    0.962114"
      ]
     },
     "metadata": {},
     "output_type": "display_data"
    }
   ],
   "source": [
    "display(df_analytical)"
   ]
  },
  {
   "cell_type": "code",
   "execution_count": 15,
   "metadata": {
    "collapsed": false
   },
   "outputs": [
    {
     "data": {
      "text/html": [
       "<div>\n",
       "<table border=\"1\" class=\"dataframe\">\n",
       "  <thead>\n",
       "    <tr style=\"text-align: right;\">\n",
       "      <th></th>\n",
       "      <th>alpha</th>\n",
       "      <th>energy</th>\n",
       "      <th>variance</th>\n",
       "      <th>acceptance</th>\n",
       "    </tr>\n",
       "  </thead>\n",
       "  <tbody>\n",
       "    <tr>\n",
       "      <th>0</th>\n",
       "      <td>0.30</td>\n",
       "      <td>0.590993</td>\n",
       "      <td>0.241705</td>\n",
       "      <td>0.977873</td>\n",
       "    </tr>\n",
       "    <tr>\n",
       "      <th>1</th>\n",
       "      <td>0.32</td>\n",
       "      <td>0.560930</td>\n",
       "      <td>0.186398</td>\n",
       "      <td>0.977590</td>\n",
       "    </tr>\n",
       "    <tr>\n",
       "      <th>2</th>\n",
       "      <td>0.34</td>\n",
       "      <td>0.553959</td>\n",
       "      <td>0.151968</td>\n",
       "      <td>0.976641</td>\n",
       "    </tr>\n",
       "    <tr>\n",
       "      <th>3</th>\n",
       "      <td>0.36</td>\n",
       "      <td>0.540546</td>\n",
       "      <td>0.123404</td>\n",
       "      <td>0.976218</td>\n",
       "    </tr>\n",
       "    <tr>\n",
       "      <th>4</th>\n",
       "      <td>0.38</td>\n",
       "      <td>0.537288</td>\n",
       "      <td>0.112894</td>\n",
       "      <td>0.975311</td>\n",
       "    </tr>\n",
       "    <tr>\n",
       "      <th>5</th>\n",
       "      <td>0.40</td>\n",
       "      <td>0.536048</td>\n",
       "      <td>0.095875</td>\n",
       "      <td>0.974460</td>\n",
       "    </tr>\n",
       "    <tr>\n",
       "      <th>6</th>\n",
       "      <td>0.42</td>\n",
       "      <td>0.524639</td>\n",
       "      <td>0.071635</td>\n",
       "      <td>0.974222</td>\n",
       "    </tr>\n",
       "    <tr>\n",
       "      <th>7</th>\n",
       "      <td>0.44</td>\n",
       "      <td>0.521973</td>\n",
       "      <td>0.061029</td>\n",
       "      <td>0.973718</td>\n",
       "    </tr>\n",
       "    <tr>\n",
       "      <th>8</th>\n",
       "      <td>0.46</td>\n",
       "      <td>0.521843</td>\n",
       "      <td>0.051901</td>\n",
       "      <td>0.972790</td>\n",
       "    </tr>\n",
       "    <tr>\n",
       "      <th>9</th>\n",
       "      <td>0.48</td>\n",
       "      <td>0.518578</td>\n",
       "      <td>0.039783</td>\n",
       "      <td>0.972633</td>\n",
       "    </tr>\n",
       "    <tr>\n",
       "      <th>10</th>\n",
       "      <td>0.50</td>\n",
       "      <td>0.520288</td>\n",
       "      <td>0.034010</td>\n",
       "      <td>0.972105</td>\n",
       "    </tr>\n",
       "    <tr>\n",
       "      <th>11</th>\n",
       "      <td>0.52</td>\n",
       "      <td>0.522763</td>\n",
       "      <td>0.031224</td>\n",
       "      <td>0.971439</td>\n",
       "    </tr>\n",
       "    <tr>\n",
       "      <th>12</th>\n",
       "      <td>0.54</td>\n",
       "      <td>0.523724</td>\n",
       "      <td>0.024389</td>\n",
       "      <td>0.970663</td>\n",
       "    </tr>\n",
       "    <tr>\n",
       "      <th>13</th>\n",
       "      <td>0.56</td>\n",
       "      <td>0.529137</td>\n",
       "      <td>0.023942</td>\n",
       "      <td>0.970092</td>\n",
       "    </tr>\n",
       "    <tr>\n",
       "      <th>14</th>\n",
       "      <td>0.58</td>\n",
       "      <td>0.529693</td>\n",
       "      <td>0.017582</td>\n",
       "      <td>0.969708</td>\n",
       "    </tr>\n",
       "    <tr>\n",
       "      <th>15</th>\n",
       "      <td>0.60</td>\n",
       "      <td>0.534755</td>\n",
       "      <td>0.019026</td>\n",
       "      <td>0.969116</td>\n",
       "    </tr>\n",
       "    <tr>\n",
       "      <th>16</th>\n",
       "      <td>0.62</td>\n",
       "      <td>0.538075</td>\n",
       "      <td>0.017556</td>\n",
       "      <td>0.968579</td>\n",
       "    </tr>\n",
       "    <tr>\n",
       "      <th>17</th>\n",
       "      <td>0.64</td>\n",
       "      <td>0.545212</td>\n",
       "      <td>0.018947</td>\n",
       "      <td>0.968028</td>\n",
       "    </tr>\n",
       "    <tr>\n",
       "      <th>18</th>\n",
       "      <td>0.66</td>\n",
       "      <td>0.547319</td>\n",
       "      <td>0.017972</td>\n",
       "      <td>0.967388</td>\n",
       "    </tr>\n",
       "    <tr>\n",
       "      <th>19</th>\n",
       "      <td>0.68</td>\n",
       "      <td>0.554854</td>\n",
       "      <td>0.019612</td>\n",
       "      <td>0.967266</td>\n",
       "    </tr>\n",
       "    <tr>\n",
       "      <th>20</th>\n",
       "      <td>0.70</td>\n",
       "      <td>0.559675</td>\n",
       "      <td>0.020600</td>\n",
       "      <td>0.966777</td>\n",
       "    </tr>\n",
       "    <tr>\n",
       "      <th>21</th>\n",
       "      <td>0.72</td>\n",
       "      <td>0.564836</td>\n",
       "      <td>0.021518</td>\n",
       "      <td>0.966248</td>\n",
       "    </tr>\n",
       "    <tr>\n",
       "      <th>22</th>\n",
       "      <td>0.74</td>\n",
       "      <td>0.573265</td>\n",
       "      <td>0.025620</td>\n",
       "      <td>0.965886</td>\n",
       "    </tr>\n",
       "    <tr>\n",
       "      <th>23</th>\n",
       "      <td>0.76</td>\n",
       "      <td>0.578360</td>\n",
       "      <td>0.027142</td>\n",
       "      <td>0.965225</td>\n",
       "    </tr>\n",
       "    <tr>\n",
       "      <th>24</th>\n",
       "      <td>0.78</td>\n",
       "      <td>0.584216</td>\n",
       "      <td>0.030761</td>\n",
       "      <td>0.964603</td>\n",
       "    </tr>\n",
       "    <tr>\n",
       "      <th>25</th>\n",
       "      <td>0.80</td>\n",
       "      <td>0.592557</td>\n",
       "      <td>0.034569</td>\n",
       "      <td>0.964328</td>\n",
       "    </tr>\n",
       "    <tr>\n",
       "      <th>26</th>\n",
       "      <td>0.82</td>\n",
       "      <td>0.599344</td>\n",
       "      <td>0.038260</td>\n",
       "      <td>0.963897</td>\n",
       "    </tr>\n",
       "    <tr>\n",
       "      <th>27</th>\n",
       "      <td>0.84</td>\n",
       "      <td>0.604883</td>\n",
       "      <td>0.041916</td>\n",
       "      <td>0.963400</td>\n",
       "    </tr>\n",
       "    <tr>\n",
       "      <th>28</th>\n",
       "      <td>0.86</td>\n",
       "      <td>0.613384</td>\n",
       "      <td>0.046888</td>\n",
       "      <td>0.963016</td>\n",
       "    </tr>\n",
       "    <tr>\n",
       "      <th>29</th>\n",
       "      <td>0.88</td>\n",
       "      <td>0.620052</td>\n",
       "      <td>0.051319</td>\n",
       "      <td>0.962423</td>\n",
       "    </tr>\n",
       "    <tr>\n",
       "      <th>30</th>\n",
       "      <td>0.90</td>\n",
       "      <td>0.628402</td>\n",
       "      <td>0.056272</td>\n",
       "      <td>0.962187</td>\n",
       "    </tr>\n",
       "  </tbody>\n",
       "</table>\n",
       "</div>"
      ],
      "text/plain": [
       "    alpha    energy  variance  acceptance\n",
       "0    0.30  0.590993  0.241705    0.977873\n",
       "1    0.32  0.560930  0.186398    0.977590\n",
       "2    0.34  0.553959  0.151968    0.976641\n",
       "3    0.36  0.540546  0.123404    0.976218\n",
       "4    0.38  0.537288  0.112894    0.975311\n",
       "5    0.40  0.536048  0.095875    0.974460\n",
       "6    0.42  0.524639  0.071635    0.974222\n",
       "7    0.44  0.521973  0.061029    0.973718\n",
       "8    0.46  0.521843  0.051901    0.972790\n",
       "9    0.48  0.518578  0.039783    0.972633\n",
       "10   0.50  0.520288  0.034010    0.972105\n",
       "11   0.52  0.522763  0.031224    0.971439\n",
       "12   0.54  0.523724  0.024389    0.970663\n",
       "13   0.56  0.529137  0.023942    0.970092\n",
       "14   0.58  0.529693  0.017582    0.969708\n",
       "15   0.60  0.534755  0.019026    0.969116\n",
       "16   0.62  0.538075  0.017556    0.968579\n",
       "17   0.64  0.545212  0.018947    0.968028\n",
       "18   0.66  0.547319  0.017972    0.967388\n",
       "19   0.68  0.554854  0.019612    0.967266\n",
       "20   0.70  0.559675  0.020600    0.966777\n",
       "21   0.72  0.564836  0.021518    0.966248\n",
       "22   0.74  0.573265  0.025620    0.965886\n",
       "23   0.76  0.578360  0.027142    0.965225\n",
       "24   0.78  0.584216  0.030761    0.964603\n",
       "25   0.80  0.592557  0.034569    0.964328\n",
       "26   0.82  0.599344  0.038260    0.963897\n",
       "27   0.84  0.604883  0.041916    0.963400\n",
       "28   0.86  0.613384  0.046888    0.963016\n",
       "29   0.88  0.620052  0.051319    0.962423\n",
       "30   0.90  0.628402  0.056272    0.962187"
      ]
     },
     "metadata": {},
     "output_type": "display_data"
    }
   ],
   "source": [
    "display(df_approximate)"
   ]
  },
  {
   "cell_type": "markdown",
   "metadata": {
    "collapsed": true
   },
   "source": [
    "def exact_energy(alpha, omega, mass, num_particles, num_dimensions):\n",
    "    first_term = hbar**2*num_dimensions*alpha*num_particles/float(mass)\n",
    "    second_term = 0.5*mass*omega**2*num_particles*(1.0/(4.0*alpha))*num_dimensions\n",
    "    third_term = -2*hbar**2*alpha**2*num_particles/float(mass)*(1.0/(4.0*alpha))*num_dimensions\n",
    "\n",
    "    return first_term + second_term + third_term"
   ]
  },
  {
   "cell_type": "code",
   "execution_count": 16,
   "metadata": {
    "collapsed": false
   },
   "outputs": [
    {
     "name": "stderr",
     "output_type": "stream",
     "text": [
      "/home/schoyen/anaconda3/lib/python3.5/site-packages/ipykernel/__main__.py:2: FutureWarning: comparison to `None` will result in an elementwise object comparison in the future.\n",
      "  from ipykernel import kernelapp as app\n"
     ]
    },
    {
     "ename": "TypeError",
     "evalue": "only length-1 arrays can be converted to Python scalars",
     "output_type": "error",
     "traceback": [
      "\u001b[0;31m---------------------------------------------------------------------------\u001b[0m",
      "\u001b[0;31mTypeError\u001b[0m                                 Traceback (most recent call last)",
      "\u001b[0;32m<ipython-input-16-c7d8fcfb92d2>\u001b[0m in \u001b[0;36m<module>\u001b[0;34m()\u001b[0m\n\u001b[1;32m      1\u001b[0m energy_exact = hamiltonian_analytical.compute_exact_energy(\n\u001b[0;32m----> 2\u001b[0;31m     wavefunction_analytical, alphas=alphas.ravel())\n\u001b[0m\u001b[1;32m      3\u001b[0m \u001b[0;31m#energy_exact = np.zeros(num_alphas)\u001b[0m\u001b[0;34m\u001b[0m\u001b[0;34m\u001b[0m\u001b[0m\n\u001b[1;32m      4\u001b[0m \u001b[0;34m\u001b[0m\u001b[0m\n\u001b[1;32m      5\u001b[0m \u001b[0;31m#for i in range(num_alphas):\u001b[0m\u001b[0;34m\u001b[0m\u001b[0;34m\u001b[0m\u001b[0m\n",
      "\u001b[0;32mvmc/interface.pyx\u001b[0m in \u001b[0;36mvmc.interface.PyHarmonicOscillator.compute_exact_energy (vmc/interface.cpp:4526)\u001b[0;34m()\u001b[0m\n",
      "\u001b[0;31mTypeError\u001b[0m: only length-1 arrays can be converted to Python scalars"
     ]
    }
   ],
   "source": [
    "energy_exact = hamiltonian_analytical.compute_exact_energy(\n",
    "    wavefunction_analytical, alphas=alphas.ravel())\n",
    "#energy_exact = np.zeros(num_alphas)\n",
    "\n",
    "#for i in range(num_alphas):\n",
    "#    energy_exact[i] = hamiltonian_analytical.compute_exact_energy(\n",
    "#        wavefunction_analytical)"
   ]
  },
  {
   "cell_type": "code",
   "execution_count": null,
   "metadata": {
    "collapsed": false
   },
   "outputs": [],
   "source": [
    "plt.plot(alphas.ravel(), energy_exact, label=\"Exact\")\n",
    "plt.fill_between(\n",
    "    alphas.ravel(), min(energy_exact), energy_exact, alpha=0.5)\n",
    "plt.errorbar(\n",
    "    df_analytical[\"alpha\"], df_analytical[\"energy\"],\n",
    "    yerr=np.sqrt(df_analytical[\"variance\"])/np.sqrt(num_samples),\n",
    "    label=\"VMC analytical\", fmt=\"o-\")\n",
    "plt.errorbar(\n",
    "    df_approximate[\"alpha\"], df_approximate[\"energy\"],\n",
    "    yerr=np.sqrt(df_approximate[\"variance\"])/np.sqrt(num_samples),\n",
    "    label=\"VMC approximate\", fmt=\"o-\")\n",
    "plt.legend(loc=\"best\")\n",
    "plt.show()"
   ]
  }
 ],
 "metadata": {
  "anaconda-cloud": {},
  "kernelspec": {
   "display_name": "Python [default]",
   "language": "python",
   "name": "python3"
  },
  "language_info": {
   "codemirror_mode": {
    "name": "ipython",
    "version": 3
   },
   "file_extension": ".py",
   "mimetype": "text/x-python",
   "name": "python",
   "nbconvert_exporter": "python",
   "pygments_lexer": "ipython3",
   "version": "3.5.2"
  }
 },
 "nbformat": 4,
 "nbformat_minor": 2
}
