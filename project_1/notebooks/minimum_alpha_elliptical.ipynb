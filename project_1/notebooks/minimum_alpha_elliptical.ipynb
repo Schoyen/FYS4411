{
 "cells": [
  {
   "cell_type": "markdown",
   "metadata": {},
   "source": [
    "# Steepest descent on the elliptical, interacting case\n",
    "\n",
    "We use steepest descent to find the minimum value of $\\alpha$ for the interacting wavefunction with the elliptical potential."
   ]
  },
  {
   "cell_type": "code",
   "execution_count": 1,
   "metadata": {
    "collapsed": true
   },
   "outputs": [],
   "source": [
    "%matplotlib inline\n",
    "\n",
    "import matplotlib.pyplot as plt\n",
    "import seaborn as sns\n",
    "import numpy as np\n",
    "import pandas as pd\n",
    "import tqdm\n",
    "\n",
    "from vmc.interface import *"
   ]
  },
  {
   "cell_type": "code",
   "execution_count": 2,
   "metadata": {
    "collapsed": true
   },
   "outputs": [],
   "source": [
    "sns.set(color_codes=True)"
   ]
  },
  {
   "cell_type": "code",
   "execution_count": 3,
   "metadata": {
    "collapsed": true
   },
   "outputs": [],
   "source": [
    "mass = 1\n",
    "omega = 1\n",
    "\n",
    "beta = _lambda = np.sqrt(8)\n",
    "radius = 0.0043\n",
    "\n",
    "num_particles = 10\n",
    "num_dimensions = 3\n",
    "\n",
    "alpha_min = 0.2\n",
    "alpha_max = 0.7\n",
    "num_alphas = 6\n",
    "alphas = (np.random.random(num_alphas)*(alpha_max - alpha_min) + alpha_min).reshape(num_alphas, 1)\n",
    "\n",
    "alphas = np.linspace(alpha_min, alpha_max, num_alphas).reshape(num_alphas, 1)\n",
    "\n",
    "num_samples = int(2**18)\n",
    "num_thermalization_steps = int(0.1*num_samples)\n",
    "\n",
    "step_length = 0.1\n",
    "\n",
    "sample_args = [num_samples, step_length]\n",
    "sample_kwargs = {\n",
    "    \"num_thermalization_steps\": num_thermalization_steps\n",
    "}\n",
    "\n",
    "max_iterations = 50\n",
    "tol = 1e-9\n",
    "gamma = 0.01\n",
    "gamma_scale = 0.999"
   ]
  },
  {
   "cell_type": "code",
   "execution_count": 4,
   "metadata": {
    "collapsed": true
   },
   "outputs": [],
   "source": [
    "sampler = PySampler(\n",
    "    PyInteractingEllipticalGaussian(\n",
    "        num_particles, num_dimensions, mass, omega, beta, radius,\n",
    "        spread=np.sqrt(step_length)\n",
    "    ), PyEllipticalHarmonicOscillator(_lambda),\n",
    "    PyImportanceMetropolis()\n",
    ")"
   ]
  },
  {
   "cell_type": "code",
   "execution_count": 5,
   "metadata": {},
   "outputs": [
    {
     "name": "stdout",
     "output_type": "stream",
     "text": [
      "\n",
      "Iteration: 0\n",
      "Gradient: [-132.31009718]\n",
      "Old parameters: [0.2]\n",
      "Current parameters: [0.30462019]\n",
      "\n",
      "Iteration: 1\n",
      "Gradient: [-40.91545415]\n",
      "Old parameters: [0.30462019]\n",
      "Current parameters: [0.71377474]\n",
      "\n",
      "Iteration: 2\n",
      "Gradient: [12.74433446]\n",
      "Old parameters: [0.71377474]\n",
      "Current parameters: [0.58633139]\n",
      "\n",
      "Iteration: 3\n",
      "Gradient: [6.7993418]\n",
      "Old parameters: [0.58633139]\n",
      "Current parameters: [0.51833797]\n",
      "\n",
      "Iteration: 4\n",
      "Gradient: [1.97928293]\n",
      "Old parameters: [0.51833797]\n",
      "Current parameters: [0.49854514]\n",
      "\n",
      "Iteration: 5\n",
      "Gradient: [0.10772348]\n",
      "Old parameters: [0.49854514]\n",
      "Current parameters: [0.49746791]\n",
      "\n",
      "Iteration: 6\n",
      "Gradient: [0.00084444]\n",
      "Old parameters: [0.49746791]\n",
      "Current parameters: [0.49745946]\n",
      "\n",
      "Iteration: 0\n",
      "Gradient: [-41.15723537]\n",
      "Old parameters: [0.3]\n",
      "Current parameters: [0.71157235]\n",
      "\n",
      "Iteration: 1\n",
      "Gradient: [12.56793891]\n",
      "Old parameters: [0.71157235]\n",
      "Current parameters: [0.58589296]\n",
      "\n",
      "Iteration: 2\n",
      "Gradient: [6.80206191]\n",
      "Old parameters: [0.58589296]\n",
      "Current parameters: [0.51787235]\n",
      "\n",
      "Iteration: 3\n",
      "Gradient: [1.8823393]\n",
      "Old parameters: [0.51787235]\n",
      "Current parameters: [0.49904895]\n",
      "\n",
      "Iteration: 4\n",
      "Gradient: [0.1570338]\n",
      "Old parameters: [0.49904895]\n",
      "Current parameters: [0.49747861]\n",
      "\n",
      "Iteration: 5\n",
      "Gradient: [0.00513188]\n",
      "Old parameters: [0.49747861]\n",
      "Current parameters: [0.4974273]\n",
      "\n",
      "Iteration: 6\n",
      "Gradient: [-0.00574446]\n",
      "Old parameters: [0.4974273]\n",
      "Current parameters: [0.49748474]\n",
      "\n",
      "Iteration: 7\n",
      "Gradient: [0.00230839]\n",
      "Old parameters: [0.49748474]\n",
      "Current parameters: [0.49746166]\n",
      "\n",
      "Iteration: 0\n",
      "Gradient: [-13.18803562]\n",
      "Old parameters: [0.4]\n",
      "Current parameters: [0.53188036]\n",
      "\n",
      "Iteration: 1\n",
      "Gradient: [3.00570445]\n",
      "Old parameters: [0.53188036]\n",
      "Current parameters: [0.50182331]\n",
      "\n",
      "Iteration: 2\n",
      "Gradient: [0.4212379]\n",
      "Old parameters: [0.50182331]\n",
      "Current parameters: [0.49761093]\n",
      "\n",
      "Iteration: 3\n",
      "Gradient: [0.01513315]\n",
      "Old parameters: [0.49761093]\n",
      "Current parameters: [0.4974596]\n",
      "\n",
      "Iteration: 4\n",
      "Gradient: [0.00177969]\n",
      "Old parameters: [0.4974596]\n",
      "Current parameters: [0.4974418]\n",
      "\n",
      "Iteration: 0\n",
      "Gradient: [0.25999958]\n",
      "Old parameters: [0.5]\n",
      "Current parameters: [0.4974]\n",
      "\n",
      "Iteration: 1\n",
      "Gradient: [0.00079397]\n",
      "Old parameters: [0.4974]\n",
      "Current parameters: [0.49739206]\n",
      "\n",
      "Iteration: 0\n",
      "Gradient: [7.68404236]\n",
      "Old parameters: [0.6]\n",
      "Current parameters: [0.52315958]\n",
      "\n",
      "Iteration: 1\n",
      "Gradient: [2.31499743]\n",
      "Old parameters: [0.52315958]\n",
      "Current parameters: [0.5000096]\n",
      "\n",
      "Iteration: 2\n",
      "Gradient: [0.25449548]\n",
      "Old parameters: [0.5000096]\n",
      "Current parameters: [0.49746465]\n",
      "\n",
      "Iteration: 3\n",
      "Gradient: [0.00172275]\n",
      "Old parameters: [0.49746465]\n",
      "Current parameters: [0.49744742]\n",
      "\n",
      "Iteration: 0\n",
      "Gradient: [12.17678219]\n",
      "Old parameters: [0.7]\n",
      "Current parameters: [0.57823218]\n",
      "\n",
      "Iteration: 1\n",
      "Gradient: [6.42254278]\n",
      "Old parameters: [0.57823218]\n",
      "Current parameters: [0.51400675]\n",
      "\n",
      "Iteration: 2\n",
      "Gradient: [1.50319003]\n",
      "Old parameters: [0.51400675]\n",
      "Current parameters: [0.49897485]\n",
      "\n",
      "Iteration: 3\n",
      "Gradient: [0.15145827]\n",
      "Old parameters: [0.49897485]\n",
      "Current parameters: [0.49746027]\n",
      "\n",
      "Iteration: 4\n",
      "Gradient: [0.00598817]\n",
      "Old parameters: [0.49746027]\n",
      "Current parameters: [0.49740039]\n",
      "\n",
      "Iteration: 5\n",
      "Gradient: [-0.00441199]\n",
      "Old parameters: [0.49740039]\n",
      "Current parameters: [0.49744451]\n",
      "\n",
      "Iteration: 6\n",
      "Gradient: [-0.00018377]\n",
      "Old parameters: [0.49744451]\n",
      "Current parameters: [0.49744634]\n"
     ]
    }
   ],
   "source": [
    "alpha_trail = []\n",
    "for alpha in alphas:\n",
    "    alpha_trail.append(sampler.find_minimum(\n",
    "        alpha, gamma, gamma_scale, max_iterations,\n",
    "        *sample_args, tol=tol, **sample_kwargs))"
   ]
  },
  {
   "cell_type": "code",
   "execution_count": 6,
   "metadata": {},
   "outputs": [
    {
     "name": "stdout",
     "output_type": "stream",
     "text": [
      "[array([[0.2       ],\n",
      "       [0.30462019],\n",
      "       [0.71377474],\n",
      "       [0.58633139],\n",
      "       [0.51833797],\n",
      "       [0.49854514],\n",
      "       [0.49746791],\n",
      "       [0.49745946]]), array([[0.3       ],\n",
      "       [0.71157235],\n",
      "       [0.58589296],\n",
      "       [0.51787235],\n",
      "       [0.49904895],\n",
      "       [0.49747861],\n",
      "       [0.4974273 ],\n",
      "       [0.49748474],\n",
      "       [0.49746166]]), array([[0.4       ],\n",
      "       [0.53188036],\n",
      "       [0.50182331],\n",
      "       [0.49761093],\n",
      "       [0.4974596 ],\n",
      "       [0.4974418 ]]), array([[0.5       ],\n",
      "       [0.4974    ],\n",
      "       [0.49739206]]), array([[0.6       ],\n",
      "       [0.52315958],\n",
      "       [0.5000096 ],\n",
      "       [0.49746465],\n",
      "       [0.49744742]]), array([[0.7       ],\n",
      "       [0.57823218],\n",
      "       [0.51400675],\n",
      "       [0.49897485],\n",
      "       [0.49746027],\n",
      "       [0.49740039],\n",
      "       [0.49744451],\n",
      "       [0.49744634]])]\n"
     ]
    }
   ],
   "source": [
    "print (alpha_trail)"
   ]
  },
  {
   "cell_type": "code",
   "execution_count": 7,
   "metadata": {},
   "outputs": [
    {
     "name": "stdout",
     "output_type": "stream",
     "text": [
      "alpha_0 = 0.49744 +/- 0.00002\n"
     ]
    }
   ],
   "source": [
    "final_alphas = list(map(lambda x: x[-1], alpha_trail))\n",
    "\n",
    "print (\"alpha_0 = {0:.5f} +/- {1:.5f}\".format(np.mean(final_alphas), np.std(final_alphas)))"
   ]
  },
  {
   "cell_type": "markdown",
   "metadata": {},
   "source": [
    "It is interesting to note that a low initial $\\alpha$ yields a very large, negative gradient. This means that if $\\gamma$ is too large we can completely miss the minimum $\\alpha$ and go into an unstable region of parameter space. This is possible to observe by looking at the energy curve when $\\alpha$ gets close to zero. Perhaps an adaptive $\\gamma$ could be used where a low $\\alpha$ should have a smaller $\\gamma$ than the other choices of initial $\\alpha$. A too low $\\gamma$ will take ages to reach its destination. This also means that it at times should increase if convergence takes too long."
   ]
  },
  {
   "cell_type": "code",
   "execution_count": 8,
   "metadata": {},
   "outputs": [
    {
     "data": {
      "image/png": "[encoded data removed]",
      "text/plain": [
       "<matplotlib.figure.Figure at 0x11112e358>"
      ]
     },
     "metadata": {},
     "output_type": "display_data"
    }
   ],
   "source": [
    "for trail in alpha_trail:\n",
    "    plt.plot(trail, label=r\"$\\alpha_0 = %g$\" % trail[0])\n",
    "\n",
    "plt.xlabel(\"Iteration\", fontsize=16)\n",
    "plt.ylabel(r\"$\\alpha$\", fontsize=16)\n",
    "plt.title(\n",
    "    r\"Steepest descent finding optimal $\\alpha$\",\n",
    "    fontsize=20)\n",
    "plt.xticks(fontsize=14)\n",
    "plt.yticks(fontsize=14)\n",
    "plt.legend(loc=\"best\", fontsize=16)\n",
    "plt.savefig(\"../data/figures/problem_f.pdf\")\n",
    "plt.show()"
   ]
  }
 ],
 "metadata": {
  "kernelspec": {
   "display_name": "Python 3",
   "language": "python",
   "name": "python3"
  },
  "language_info": {
   "codemirror_mode": {
    "name": "ipython",
    "version": 3
   },
   "file_extension": ".py",
   "mimetype": "text/x-python",
   "name": "python",
   "nbconvert_exporter": "python",
   "pygments_lexer": "ipython3",
   "version": "3.6.1"
  }
 },
 "nbformat": 4,
 "nbformat_minor": 2
}
