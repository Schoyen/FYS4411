{
 "cells": [
  {
   "cell_type": "markdown",
   "metadata": {},
   "source": [
    "# Initial figures"
   ]
  },
  {
   "cell_type": "code",
   "execution_count": 1,
   "metadata": {
    "collapsed": true
   },
   "outputs": [],
   "source": [
    "%matplotlib inline\n",
    "\n",
    "import matplotlib.pyplot as plt\n",
    "import seaborn as sns\n",
    "import numpy as np\n",
    "import pandas as pd\n",
    "import tqdm\n",
    "\n",
    "from vmc.interface import *\n",
    "from vmc import run_experiment, sample_local_energies, run_all\n",
    "\n",
    "from IPython.core.pylabtools import figsize\n",
    "from IPython.core.display import display"
   ]
  },
  {
   "cell_type": "code",
   "execution_count": 2,
   "metadata": {
    "collapsed": false
   },
   "outputs": [],
   "source": [
    "sns.set(color_codes=True, font_scale=2)\n",
    "figsize(24, 18)"
   ]
  },
  {
   "cell_type": "code",
   "execution_count": null,
   "metadata": {
    "collapsed": false
   },
   "outputs": [],
   "source": [
    "mass = 1.0\n",
    "omega = 1.0\n",
    "\n",
    "num_particles = [1, 10, 100]\n",
    "num_dimensions = [1, 2, 3]\n",
    "\n",
    "alpha_min = 0.3\n",
    "alpha_max = 0.7\n",
    "num_alphas = 11\n",
    "\n",
    "bootstrap_samples = 0\n",
    "\n",
    "alphas = np.linspace(alpha_min, alpha_max, num_alphas).reshape(num_alphas, 1)\n",
    "parameter_names = [\"alpha\"]\n",
    "\n",
    "step_length = 0.5\n",
    "\n",
    "num_samples = int(2**21)\n",
    "num_thermalization_steps = int(0.1*num_samples)\n",
    "\n",
    "kwargs = {\n",
    "    \"num_samples\": num_samples, \"step_length\": step_length,\n",
    "    \"num_thermalization_steps\": num_thermalization_steps}"
   ]
  },
  {
   "cell_type": "code",
   "execution_count": null,
   "metadata": {
    "collapsed": false
   },
   "outputs": [
    {
     "name": "stderr",
     "output_type": "stream",
     "text": [
      "\r",
      "  0%|          | 0/11 [00:00<?, ?it/s]"
     ]
    },
    {
     "name": "stdout",
     "output_type": "stream",
     "text": [
      "Num particles = 1\t Num dimensions = 1\n"
     ]
    },
    {
     "name": "stderr",
     "output_type": "stream",
     "text": [
      "100%|██████████| 11/11 [00:04<00:00,  2.37it/s]\n",
      "  0%|          | 0/11 [00:00<?, ?it/s]"
     ]
    },
    {
     "name": "stdout",
     "output_type": "stream",
     "text": [
      "Analytic time = 4.083621025085449 seconds\n"
     ]
    },
    {
     "name": "stderr",
     "output_type": "stream",
     "text": [
      "100%|██████████| 11/11 [00:06<00:00,  1.79it/s]\n",
      "  0%|          | 0/11 [00:00<?, ?it/s]"
     ]
    },
    {
     "name": "stdout",
     "output_type": "stream",
     "text": [
      "Numeric time = 5.585057735443115 seconds\n",
      "Num particles = 1\t Num dimensions = 2\n"
     ]
    },
    {
     "name": "stderr",
     "output_type": "stream",
     "text": [
      "100%|██████████| 11/11 [00:04<00:00,  2.34it/s]\n",
      "  0%|          | 0/11 [00:00<?, ?it/s]"
     ]
    },
    {
     "name": "stdout",
     "output_type": "stream",
     "text": [
      "Analytic time = 4.190311908721924 seconds\n"
     ]
    },
    {
     "name": "stderr",
     "output_type": "stream",
     "text": [
      "100%|██████████| 11/11 [00:06<00:00,  1.57it/s]\n",
      "  0%|          | 0/11 [00:00<?, ?it/s]"
     ]
    },
    {
     "name": "stdout",
     "output_type": "stream",
     "text": [
      "Numeric time = 6.481403350830078 seconds\n",
      "Num particles = 1\t Num dimensions = 3\n"
     ]
    },
    {
     "name": "stderr",
     "output_type": "stream",
     "text": [
      "100%|██████████| 11/11 [00:05<00:00,  2.19it/s]\n",
      "  0%|          | 0/11 [00:00<?, ?it/s]"
     ]
    },
    {
     "name": "stdout",
     "output_type": "stream",
     "text": [
      "Analytic time = 4.503537654876709 seconds\n"
     ]
    },
    {
     "name": "stderr",
     "output_type": "stream",
     "text": [
      "100%|██████████| 11/11 [00:08<00:00,  1.37it/s]\n",
      "  0%|          | 0/11 [00:00<?, ?it/s]"
     ]
    },
    {
     "name": "stdout",
     "output_type": "stream",
     "text": [
      "Numeric time = 7.54228949546814 seconds\n",
      "Num particles = 10\t Num dimensions = 1\n"
     ]
    },
    {
     "name": "stderr",
     "output_type": "stream",
     "text": [
      "100%|██████████| 11/11 [00:05<00:00,  2.03it/s]\n",
      "  0%|          | 0/11 [00:00<?, ?it/s]"
     ]
    },
    {
     "name": "stdout",
     "output_type": "stream",
     "text": [
      "Analytic time = 4.8987555503845215 seconds\n"
     ]
    },
    {
     "name": "stderr",
     "output_type": "stream",
     "text": [
      "100%|██████████| 11/11 [00:20<00:00,  1.82s/it]\n",
      "  0%|          | 0/11 [00:00<?, ?it/s]"
     ]
    },
    {
     "name": "stdout",
     "output_type": "stream",
     "text": [
      "Numeric time = 19.460312843322754 seconds\n",
      "Num particles = 10\t Num dimensions = 2\n"
     ]
    },
    {
     "name": "stderr",
     "output_type": "stream",
     "text": [
      "100%|██████████| 11/11 [00:06<00:00,  1.65it/s]\n",
      "  0%|          | 0/11 [00:00<?, ?it/s]"
     ]
    },
    {
     "name": "stdout",
     "output_type": "stream",
     "text": [
      "Analytic time = 6.163262128829956 seconds\n"
     ]
    },
    {
     "name": "stderr",
     "output_type": "stream",
     "text": [
      " 64%|██████▎   | 7/11 [00:26<00:14,  3.73s/it]"
     ]
    }
   ],
   "source": [
    "plot_no = 0\n",
    "for i in num_particles:\n",
    "    for j in num_dimensions:\n",
    "        print (\"Num particles = {0}\\t Num dimensions = {1}\".format(i, j))\n",
    "\n",
    "        wavefunction_analytical = PySimpleGaussian(\n",
    "            i, j, mass, omega, spread=step_length)\n",
    "        wavefunction_approximate = PySimpleGaussianNumerical(\n",
    "            i, j, mass, omega, spread=step_length)\n",
    "\n",
    "        hamiltonian = PyHarmonicOscillator()\n",
    "\n",
    "        sampler_analytical = PySampler(\n",
    "            wavefunction_analytical, hamiltonian, PyMetropolisAlgorithm())\n",
    "        sampler_approximate = PySampler(\n",
    "            wavefunction_approximate, PyHarmonicOscillator(), PyMetropolisAlgorithm())\n",
    "\n",
    "        df_analytical = run_all(\n",
    "            sampler_analytical, alphas, parameter_names, bootstrap_samples, **kwargs)\n",
    "        print (\"Analytic time = {0} seconds\".format(df_analytical[\"sampling_time\"].sum()))\n",
    "\n",
    "        df_approximate = run_all(\n",
    "            sampler_approximate, alphas, parameter_names, bootstrap_samples, **kwargs)\n",
    "        print (\"Numeric time = {0} seconds\".format(df_approximate[\"sampling_time\"].sum()))\n",
    "        \n",
    "        plot_no += 1\n",
    "        plt.subplot(len(num_particles), len(num_dimensions), plot_no)\n",
    "        plt.title(r\"$N = %d$, $d = %d$\" % (i, j))\n",
    "\n",
    "        plt.errorbar(\n",
    "            df_analytical[\"alpha\"], df_analytical[\"energy\"],\n",
    "            yerr=df_analytical[\"block_std\"], label=\"Analytic\", linewidth=3)\n",
    "        plt.errorbar(\n",
    "            df_approximate[\"alpha\"], df_approximate[\"energy\"],\n",
    "            yerr=df_approximate[\"block_std\"], label=\"Numeric\", linewidth=3)\n",
    "        plt.plot(\n",
    "            alphas.ravel(), hamiltonian.compute_exact_energy(wavefunction_analytical, alphas.ravel()),\n",
    "            label=\"Exact\", linewidth=3)\n",
    "\n",
    "        if plot_no == 4:\n",
    "            plt.ylabel(r\"$\\langle E_L \\rangle$\", fontsize=24)\n",
    "\n",
    "        if plot_no == 8: \n",
    "            plt.xlabel(r\"$\\alpha$\", fontsize=24)\n",
    "\n",
    "plt.legend(loc=\"best\")\n",
    "plt.savefig(\"../data/figures/problem_b.pdf\")\n",
    "plt.show()"
   ]
  }
 ],
 "metadata": {
  "anaconda-cloud": {},
  "kernelspec": {
   "display_name": "Python [conda root]",
   "language": "python",
   "name": "conda-root-py"
  },
  "language_info": {
   "codemirror_mode": {
    "name": "ipython",
    "version": 3
   },
   "file_extension": ".py",
   "mimetype": "text/x-python",
   "name": "python",
   "nbconvert_exporter": "python",
   "pygments_lexer": "ipython3",
   "version": "3.5.2"
  }
 },
 "nbformat": 4,
 "nbformat_minor": 1
}
