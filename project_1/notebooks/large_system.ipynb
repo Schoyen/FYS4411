{
 "cells": [
  {
   "cell_type": "markdown",
   "metadata": {},
   "source": [
    "# Large system\n",
    "\n",
    "We run analytic and numeric expression for 500 particles and three dimensions for one alpha."
   ]
  },
  {
   "cell_type": "code",
   "execution_count": 1,
   "metadata": {
    "collapsed": true
   },
   "outputs": [],
   "source": [
    "%matplotlib inline\n",
    "\n",
    "import matplotlib.pyplot as plt\n",
    "import seaborn as sns\n",
    "import numpy as np\n",
    "import pandas as pd\n",
    "import tqdm\n",
    "\n",
    "from vmc.interface import *\n",
    "from vmc import run_experiment, sample_local_energies, run_all\n",
    "\n",
    "from IPython.core.pylabtools import figsize\n",
    "from IPython.core.display import display"
   ]
  },
  {
   "cell_type": "code",
   "execution_count": 9,
   "metadata": {
    "collapsed": true
   },
   "outputs": [],
   "source": [
    "mass = 1.0\n",
    "omega = 1.0\n",
    "\n",
    "num_particles = [500]\n",
    "num_dimensions = 3\n",
    "\n",
    "num_alphas = 1\n",
    "\n",
    "bootstrap_samples = 0\n",
    "\n",
    "#alphas = np.array([0.5]).reshape(1, 1)\n",
    "alpha = 0.47\n",
    "parameter_names = [\"alpha\"]\n",
    "\n",
    "step_length = 0.5\n",
    "\n",
    "num_samples = int(2**21)\n",
    "num_thermalization_steps = int(0.1*num_samples)\n",
    "\n",
    "kwargs = {\n",
    "    \"num_samples\": num_samples, \"step_length\": step_length,\n",
    "    \"num_thermalization_steps\": num_thermalization_steps}"
   ]
  },
  {
   "cell_type": "code",
   "execution_count": 3,
   "metadata": {
    "collapsed": true
   },
   "outputs": [],
   "source": [
    "df_dict = {}"
   ]
  },
  {
   "cell_type": "code",
   "execution_count": 10,
   "metadata": {},
   "outputs": [
    {
     "name": "stdout",
     "output_type": "stream",
     "text": [
      "Num particles = 500\t Num dimensions = 3\n"
     ]
    },
    {
     "ename": "TypeError",
     "evalue": "too many arguments: expected 6, got 7",
     "output_type": "error",
     "traceback": [
      "\u001b[0;31m---------------------------------------------------------------------------\u001b[0m",
      "\u001b[0;31mTypeError\u001b[0m                                 Traceback (most recent call last)",
      "\u001b[0;32m<ipython-input-10-cc9755411084>\u001b[0m in \u001b[0;36m<module>\u001b[0;34m()\u001b[0m\n\u001b[1;32m     15\u001b[0m \u001b[0;34m\u001b[0m\u001b[0m\n\u001b[1;32m     16\u001b[0m     df_analytical = run_all(\n\u001b[0;32m---> 17\u001b[0;31m         sampler_analytical, alpha, parameter_names, 0, **kwargs)\n\u001b[0m\u001b[1;32m     18\u001b[0m     \u001b[0mprint\u001b[0m \u001b[0;34m(\u001b[0m\u001b[0;34m\"Analytic time = {0} seconds\"\u001b[0m\u001b[0;34m.\u001b[0m\u001b[0mformat\u001b[0m\u001b[0;34m(\u001b[0m\u001b[0mdf_analytical\u001b[0m\u001b[0;34m[\u001b[0m\u001b[0;34m\"sampling_time\"\u001b[0m\u001b[0;34m]\u001b[0m\u001b[0;34m.\u001b[0m\u001b[0msum\u001b[0m\u001b[0;34m(\u001b[0m\u001b[0;34m)\u001b[0m\u001b[0;34m)\u001b[0m\u001b[0;34m)\u001b[0m\u001b[0;34m\u001b[0m\u001b[0m\n\u001b[1;32m     19\u001b[0m \u001b[0;34m\u001b[0m\u001b[0m\n",
      "\u001b[0;31mTypeError\u001b[0m: too many arguments: expected 6, got 7"
     ]
    }
   ],
   "source": [
    "for i in num_particles:\n",
    "    print (\"Num particles = {0}\\t Num dimensions = {1}\".format(i, num_dimensions))\n",
    "\n",
    "    wavefunction_analytical = PySimpleGaussian(\n",
    "        i, num_dimensions, mass, omega, spread=step_length)\n",
    "    wavefunction_approximate = PySimpleGaussianNumerical(\n",
    "        i, num_dimensions, mass, omega, spread=step_length)\n",
    "\n",
    "    hamiltonian = PyHarmonicOscillator()\n",
    "\n",
    "    sampler_analytical = PySampler(\n",
    "        wavefunction_analytical, hamiltonian, PyMetropolisAlgorithm())\n",
    "    sampler_approximate = PySampler(\n",
    "        wavefunction_approximate, PyHarmonicOscillator(), PyMetropolisAlgorithm())\n",
    "\n",
    "    df_analytical = run_all(\n",
    "        sampler_analytical, alpha, parameter_names, 0, **kwargs)\n",
    "    print (\"Analytic time = {0} seconds\".format(df_analytical[\"sampling_time\"].sum()))\n",
    "\n",
    "    df_approximate = run_all(\n",
    "        sampler_approximate, alpha, parameter_names, 0, **kwargs)\n",
    "    print (\"Numeric time = {0} seconds\".format(df_approximate[\"sampling_time\"].sum()))\n",
    "\n",
    "    df_dict[i] = [df_analytical, df_approximate]"
   ]
  },
  {
   "cell_type": "code",
   "execution_count": 5,
   "metadata": {},
   "outputs": [
    {
     "name": "stdout",
     "output_type": "stream",
     "text": [
      "{1: [   alpha  energy  variance  std  acceptance  sampling_time  block_var  \\\n",
      "0    0.5     1.5       0.0  0.0    0.735471       0.502228        0.0   \n",
      "\n",
      "   block_std  \n",
      "0        0.0  ,    alpha    energy      variance       std  acceptance  sampling_time  \\\n",
      "0    0.5  1.499968  1.097811e-09  0.000033     0.73489       0.726008   \n",
      "\n",
      "      block_var  block_std  \n",
      "0  6.940722e-09   0.000083  ], 10: [   alpha  energy  variance  std  acceptance  sampling_time  block_var  \\\n",
      "0    0.5    15.0       0.0  0.0    0.735933       0.728428        0.0   \n",
      "\n",
      "   block_std  \n",
      "0        0.0  ,    alpha     energy  variance       std  acceptance  sampling_time  block_var  \\\n",
      "0    0.5  14.982783  0.000002  0.001555    0.735277       6.396731   0.000075   \n",
      "\n",
      "   block_std  \n",
      "0    0.00867  ], 100: [   alpha  energy  variance  std  acceptance  sampling_time  block_var  \\\n",
      "0    0.5   150.0       0.0  0.0    0.735773       4.132353        0.0   \n",
      "\n",
      "   block_std  \n",
      "0        0.0  ,    alpha      energy  variance       std  acceptance  sampling_time  \\\n",
      "0    0.5  149.814528  0.020037  0.141553     0.73588     387.596781   \n",
      "\n",
      "   block_var  block_std  \n",
      "0   0.664241    0.81501  ], 500: [   alpha  energy  variance  std  acceptance  sampling_time  block_var  \\\n",
      "0    0.5   750.0       0.0  0.0    0.730516      19.161447        0.0   \n",
      "\n",
      "   block_std  \n",
      "0        0.0  ,    alpha     energy  variance       std  acceptance  sampling_time  \\\n",
      "0    0.5  773.85435  11.15541  3.339972    0.731566    9595.015641   \n",
      "\n",
      "    block_var  block_std  \n",
      "0  428.402651   20.69789  ]}\n"
     ]
    }
   ],
   "source": [
    "print (df_dict)"
   ]
  },
  {
   "cell_type": "code",
   "execution_count": 6,
   "metadata": {},
   "outputs": [
    {
     "name": "stdout",
     "output_type": "stream",
     "text": [
      "1\n"
     ]
    },
    {
     "data": {
      "text/html": [
       "<div>\n",
       "<style scoped>\n",
       "    .dataframe tbody tr th:only-of-type {\n",
       "        vertical-align: middle;\n",
       "    }\n",
       "\n",
       "    .dataframe tbody tr th {\n",
       "        vertical-align: top;\n",
       "    }\n",
       "\n",
       "    .dataframe thead th {\n",
       "        text-align: right;\n",
       "    }\n",
       "</style>\n",
       "<table border=\"1\" class=\"dataframe\">\n",
       "  <thead>\n",
       "    <tr style=\"text-align: right;\">\n",
       "      <th></th>\n",
       "      <th>alpha</th>\n",
       "      <th>energy</th>\n",
       "      <th>variance</th>\n",
       "      <th>std</th>\n",
       "      <th>acceptance</th>\n",
       "      <th>sampling_time</th>\n",
       "      <th>block_var</th>\n",
       "      <th>block_std</th>\n",
       "    </tr>\n",
       "  </thead>\n",
       "  <tbody>\n",
       "    <tr>\n",
       "      <th>0</th>\n",
       "      <td>0.5</td>\n",
       "      <td>1.5</td>\n",
       "      <td>0.0</td>\n",
       "      <td>0.0</td>\n",
       "      <td>0.735471</td>\n",
       "      <td>0.502228</td>\n",
       "      <td>0.0</td>\n",
       "      <td>0.0</td>\n",
       "    </tr>\n",
       "  </tbody>\n",
       "</table>\n",
       "</div>"
      ],
      "text/plain": [
       "   alpha  energy  variance  std  acceptance  sampling_time  block_var  \\\n",
       "0    0.5     1.5       0.0  0.0    0.735471       0.502228        0.0   \n",
       "\n",
       "   block_std  \n",
       "0        0.0  "
      ]
     },
     "metadata": {},
     "output_type": "display_data"
    },
    {
     "data": {
      "text/html": [
       "<div>\n",
       "<style scoped>\n",
       "    .dataframe tbody tr th:only-of-type {\n",
       "        vertical-align: middle;\n",
       "    }\n",
       "\n",
       "    .dataframe tbody tr th {\n",
       "        vertical-align: top;\n",
       "    }\n",
       "\n",
       "    .dataframe thead th {\n",
       "        text-align: right;\n",
       "    }\n",
       "</style>\n",
       "<table border=\"1\" class=\"dataframe\">\n",
       "  <thead>\n",
       "    <tr style=\"text-align: right;\">\n",
       "      <th></th>\n",
       "      <th>alpha</th>\n",
       "      <th>energy</th>\n",
       "      <th>variance</th>\n",
       "      <th>std</th>\n",
       "      <th>acceptance</th>\n",
       "      <th>sampling_time</th>\n",
       "      <th>block_var</th>\n",
       "      <th>block_std</th>\n",
       "    </tr>\n",
       "  </thead>\n",
       "  <tbody>\n",
       "    <tr>\n",
       "      <th>0</th>\n",
       "      <td>0.5</td>\n",
       "      <td>1.499968</td>\n",
       "      <td>1.097811e-09</td>\n",
       "      <td>0.000033</td>\n",
       "      <td>0.73489</td>\n",
       "      <td>0.726008</td>\n",
       "      <td>6.940722e-09</td>\n",
       "      <td>0.000083</td>\n",
       "    </tr>\n",
       "  </tbody>\n",
       "</table>\n",
       "</div>"
      ],
      "text/plain": [
       "   alpha    energy      variance       std  acceptance  sampling_time  \\\n",
       "0    0.5  1.499968  1.097811e-09  0.000033     0.73489       0.726008   \n",
       "\n",
       "      block_var  block_std  \n",
       "0  6.940722e-09   0.000083  "
      ]
     },
     "metadata": {},
     "output_type": "display_data"
    },
    {
     "name": "stdout",
     "output_type": "stream",
     "text": [
      "10\n"
     ]
    },
    {
     "data": {
      "text/html": [
       "<div>\n",
       "<style scoped>\n",
       "    .dataframe tbody tr th:only-of-type {\n",
       "        vertical-align: middle;\n",
       "    }\n",
       "\n",
       "    .dataframe tbody tr th {\n",
       "        vertical-align: top;\n",
       "    }\n",
       "\n",
       "    .dataframe thead th {\n",
       "        text-align: right;\n",
       "    }\n",
       "</style>\n",
       "<table border=\"1\" class=\"dataframe\">\n",
       "  <thead>\n",
       "    <tr style=\"text-align: right;\">\n",
       "      <th></th>\n",
       "      <th>alpha</th>\n",
       "      <th>energy</th>\n",
       "      <th>variance</th>\n",
       "      <th>std</th>\n",
       "      <th>acceptance</th>\n",
       "      <th>sampling_time</th>\n",
       "      <th>block_var</th>\n",
       "      <th>block_std</th>\n",
       "    </tr>\n",
       "  </thead>\n",
       "  <tbody>\n",
       "    <tr>\n",
       "      <th>0</th>\n",
       "      <td>0.5</td>\n",
       "      <td>15.0</td>\n",
       "      <td>0.0</td>\n",
       "      <td>0.0</td>\n",
       "      <td>0.735933</td>\n",
       "      <td>0.728428</td>\n",
       "      <td>0.0</td>\n",
       "      <td>0.0</td>\n",
       "    </tr>\n",
       "  </tbody>\n",
       "</table>\n",
       "</div>"
      ],
      "text/plain": [
       "   alpha  energy  variance  std  acceptance  sampling_time  block_var  \\\n",
       "0    0.5    15.0       0.0  0.0    0.735933       0.728428        0.0   \n",
       "\n",
       "   block_std  \n",
       "0        0.0  "
      ]
     },
     "metadata": {},
     "output_type": "display_data"
    },
    {
     "data": {
      "text/html": [
       "<div>\n",
       "<style scoped>\n",
       "    .dataframe tbody tr th:only-of-type {\n",
       "        vertical-align: middle;\n",
       "    }\n",
       "\n",
       "    .dataframe tbody tr th {\n",
       "        vertical-align: top;\n",
       "    }\n",
       "\n",
       "    .dataframe thead th {\n",
       "        text-align: right;\n",
       "    }\n",
       "</style>\n",
       "<table border=\"1\" class=\"dataframe\">\n",
       "  <thead>\n",
       "    <tr style=\"text-align: right;\">\n",
       "      <th></th>\n",
       "      <th>alpha</th>\n",
       "      <th>energy</th>\n",
       "      <th>variance</th>\n",
       "      <th>std</th>\n",
       "      <th>acceptance</th>\n",
       "      <th>sampling_time</th>\n",
       "      <th>block_var</th>\n",
       "      <th>block_std</th>\n",
       "    </tr>\n",
       "  </thead>\n",
       "  <tbody>\n",
       "    <tr>\n",
       "      <th>0</th>\n",
       "      <td>0.5</td>\n",
       "      <td>14.982783</td>\n",
       "      <td>0.000002</td>\n",
       "      <td>0.001555</td>\n",
       "      <td>0.735277</td>\n",
       "      <td>6.396731</td>\n",
       "      <td>0.000075</td>\n",
       "      <td>0.00867</td>\n",
       "    </tr>\n",
       "  </tbody>\n",
       "</table>\n",
       "</div>"
      ],
      "text/plain": [
       "   alpha     energy  variance       std  acceptance  sampling_time  block_var  \\\n",
       "0    0.5  14.982783  0.000002  0.001555    0.735277       6.396731   0.000075   \n",
       "\n",
       "   block_std  \n",
       "0    0.00867  "
      ]
     },
     "metadata": {},
     "output_type": "display_data"
    },
    {
     "name": "stdout",
     "output_type": "stream",
     "text": [
      "100\n"
     ]
    },
    {
     "data": {
      "text/html": [
       "<div>\n",
       "<style scoped>\n",
       "    .dataframe tbody tr th:only-of-type {\n",
       "        vertical-align: middle;\n",
       "    }\n",
       "\n",
       "    .dataframe tbody tr th {\n",
       "        vertical-align: top;\n",
       "    }\n",
       "\n",
       "    .dataframe thead th {\n",
       "        text-align: right;\n",
       "    }\n",
       "</style>\n",
       "<table border=\"1\" class=\"dataframe\">\n",
       "  <thead>\n",
       "    <tr style=\"text-align: right;\">\n",
       "      <th></th>\n",
       "      <th>alpha</th>\n",
       "      <th>energy</th>\n",
       "      <th>variance</th>\n",
       "      <th>std</th>\n",
       "      <th>acceptance</th>\n",
       "      <th>sampling_time</th>\n",
       "      <th>block_var</th>\n",
       "      <th>block_std</th>\n",
       "    </tr>\n",
       "  </thead>\n",
       "  <tbody>\n",
       "    <tr>\n",
       "      <th>0</th>\n",
       "      <td>0.5</td>\n",
       "      <td>150.0</td>\n",
       "      <td>0.0</td>\n",
       "      <td>0.0</td>\n",
       "      <td>0.735773</td>\n",
       "      <td>4.132353</td>\n",
       "      <td>0.0</td>\n",
       "      <td>0.0</td>\n",
       "    </tr>\n",
       "  </tbody>\n",
       "</table>\n",
       "</div>"
      ],
      "text/plain": [
       "   alpha  energy  variance  std  acceptance  sampling_time  block_var  \\\n",
       "0    0.5   150.0       0.0  0.0    0.735773       4.132353        0.0   \n",
       "\n",
       "   block_std  \n",
       "0        0.0  "
      ]
     },
     "metadata": {},
     "output_type": "display_data"
    },
    {
     "data": {
      "text/html": [
       "<div>\n",
       "<style scoped>\n",
       "    .dataframe tbody tr th:only-of-type {\n",
       "        vertical-align: middle;\n",
       "    }\n",
       "\n",
       "    .dataframe tbody tr th {\n",
       "        vertical-align: top;\n",
       "    }\n",
       "\n",
       "    .dataframe thead th {\n",
       "        text-align: right;\n",
       "    }\n",
       "</style>\n",
       "<table border=\"1\" class=\"dataframe\">\n",
       "  <thead>\n",
       "    <tr style=\"text-align: right;\">\n",
       "      <th></th>\n",
       "      <th>alpha</th>\n",
       "      <th>energy</th>\n",
       "      <th>variance</th>\n",
       "      <th>std</th>\n",
       "      <th>acceptance</th>\n",
       "      <th>sampling_time</th>\n",
       "      <th>block_var</th>\n",
       "      <th>block_std</th>\n",
       "    </tr>\n",
       "  </thead>\n",
       "  <tbody>\n",
       "    <tr>\n",
       "      <th>0</th>\n",
       "      <td>0.5</td>\n",
       "      <td>149.814528</td>\n",
       "      <td>0.020037</td>\n",
       "      <td>0.141553</td>\n",
       "      <td>0.73588</td>\n",
       "      <td>387.596781</td>\n",
       "      <td>0.664241</td>\n",
       "      <td>0.81501</td>\n",
       "    </tr>\n",
       "  </tbody>\n",
       "</table>\n",
       "</div>"
      ],
      "text/plain": [
       "   alpha      energy  variance       std  acceptance  sampling_time  \\\n",
       "0    0.5  149.814528  0.020037  0.141553     0.73588     387.596781   \n",
       "\n",
       "   block_var  block_std  \n",
       "0   0.664241    0.81501  "
      ]
     },
     "metadata": {},
     "output_type": "display_data"
    },
    {
     "name": "stdout",
     "output_type": "stream",
     "text": [
      "500\n"
     ]
    },
    {
     "data": {
      "text/html": [
       "<div>\n",
       "<style scoped>\n",
       "    .dataframe tbody tr th:only-of-type {\n",
       "        vertical-align: middle;\n",
       "    }\n",
       "\n",
       "    .dataframe tbody tr th {\n",
       "        vertical-align: top;\n",
       "    }\n",
       "\n",
       "    .dataframe thead th {\n",
       "        text-align: right;\n",
       "    }\n",
       "</style>\n",
       "<table border=\"1\" class=\"dataframe\">\n",
       "  <thead>\n",
       "    <tr style=\"text-align: right;\">\n",
       "      <th></th>\n",
       "      <th>alpha</th>\n",
       "      <th>energy</th>\n",
       "      <th>variance</th>\n",
       "      <th>std</th>\n",
       "      <th>acceptance</th>\n",
       "      <th>sampling_time</th>\n",
       "      <th>block_var</th>\n",
       "      <th>block_std</th>\n",
       "    </tr>\n",
       "  </thead>\n",
       "  <tbody>\n",
       "    <tr>\n",
       "      <th>0</th>\n",
       "      <td>0.5</td>\n",
       "      <td>750.0</td>\n",
       "      <td>0.0</td>\n",
       "      <td>0.0</td>\n",
       "      <td>0.730516</td>\n",
       "      <td>19.161447</td>\n",
       "      <td>0.0</td>\n",
       "      <td>0.0</td>\n",
       "    </tr>\n",
       "  </tbody>\n",
       "</table>\n",
       "</div>"
      ],
      "text/plain": [
       "   alpha  energy  variance  std  acceptance  sampling_time  block_var  \\\n",
       "0    0.5   750.0       0.0  0.0    0.730516      19.161447        0.0   \n",
       "\n",
       "   block_std  \n",
       "0        0.0  "
      ]
     },
     "metadata": {},
     "output_type": "display_data"
    },
    {
     "data": {
      "text/html": [
       "<div>\n",
       "<style scoped>\n",
       "    .dataframe tbody tr th:only-of-type {\n",
       "        vertical-align: middle;\n",
       "    }\n",
       "\n",
       "    .dataframe tbody tr th {\n",
       "        vertical-align: top;\n",
       "    }\n",
       "\n",
       "    .dataframe thead th {\n",
       "        text-align: right;\n",
       "    }\n",
       "</style>\n",
       "<table border=\"1\" class=\"dataframe\">\n",
       "  <thead>\n",
       "    <tr style=\"text-align: right;\">\n",
       "      <th></th>\n",
       "      <th>alpha</th>\n",
       "      <th>energy</th>\n",
       "      <th>variance</th>\n",
       "      <th>std</th>\n",
       "      <th>acceptance</th>\n",
       "      <th>sampling_time</th>\n",
       "      <th>block_var</th>\n",
       "      <th>block_std</th>\n",
       "    </tr>\n",
       "  </thead>\n",
       "  <tbody>\n",
       "    <tr>\n",
       "      <th>0</th>\n",
       "      <td>0.5</td>\n",
       "      <td>773.85435</td>\n",
       "      <td>11.15541</td>\n",
       "      <td>3.339972</td>\n",
       "      <td>0.731566</td>\n",
       "      <td>9595.015641</td>\n",
       "      <td>428.402651</td>\n",
       "      <td>20.69789</td>\n",
       "    </tr>\n",
       "  </tbody>\n",
       "</table>\n",
       "</div>"
      ],
      "text/plain": [
       "   alpha     energy  variance       std  acceptance  sampling_time  \\\n",
       "0    0.5  773.85435  11.15541  3.339972    0.731566    9595.015641   \n",
       "\n",
       "    block_var  block_std  \n",
       "0  428.402651   20.69789  "
      ]
     },
     "metadata": {},
     "output_type": "display_data"
    }
   ],
   "source": [
    "for key in df_dict:\n",
    "    print (key)\n",
    "    display(df_dict[key][0])\n",
    "    display(df_dict[key][1])"
   ]
  }
 ],
 "metadata": {
  "anaconda-cloud": {},
  "kernelspec": {
   "display_name": "Python 3",
   "language": "python",
   "name": "python3"
  },
  "language_info": {
   "codemirror_mode": {
    "name": "ipython",
    "version": 3
   },
   "file_extension": ".py",
   "mimetype": "text/x-python",
   "name": "python",
   "nbconvert_exporter": "python",
   "pygments_lexer": "ipython3",
   "version": "3.6.1"
  }
 },
 "nbformat": 4,
 "nbformat_minor": 1
}
