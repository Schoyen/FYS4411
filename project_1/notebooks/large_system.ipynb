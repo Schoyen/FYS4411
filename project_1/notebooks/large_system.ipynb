{
 "cells": [
  {
   "cell_type": "markdown",
   "metadata": {},
   "source": [
    "# Large system\n",
    "\n",
    "We run analytic and numeric expression for 500 particles and three dimensions for one alpha."
   ]
  },
  {
   "cell_type": "code",
   "execution_count": 1,
   "metadata": {
    "collapsed": true
   },
   "outputs": [],
   "source": [
    "%matplotlib inline\n",
    "\n",
    "import matplotlib.pyplot as plt\n",
    "import seaborn as sns\n",
    "import numpy as np\n",
    "import pandas as pd\n",
    "import tqdm\n",
    "\n",
    "from vmc.interface import *\n",
    "from vmc import run_experiment, sample_local_energies, run_all\n",
    "\n",
    "from IPython.core.pylabtools import figsize\n",
    "from IPython.core.display import display"
   ]
  },
  {
   "cell_type": "code",
   "execution_count": 2,
   "metadata": {
    "collapsed": false
   },
   "outputs": [],
   "source": [
    "mass = 1.0\n",
    "omega = 1.0\n",
    "\n",
    "num_particles = [1, 10, 100, 500]\n",
    "num_dimensions = 3\n",
    "\n",
    "num_alphas = 1\n",
    "\n",
    "bootstrap_samples = 0\n",
    "\n",
    "alphas = np.array([0.5]).reshape(1, 1)\n",
    "parameter_names = [\"alpha\"]\n",
    "\n",
    "step_length = 0.5\n",
    "\n",
    "num_samples = int(2**21)\n",
    "num_thermalization_steps = int(0.1*num_samples)\n",
    "\n",
    "kwargs = {\n",
    "    \"num_samples\": num_samples, \"step_length\": step_length,\n",
    "    \"num_thermalization_steps\": num_thermalization_steps}"
   ]
  },
  {
   "cell_type": "code",
   "execution_count": null,
   "metadata": {
    "collapsed": true
   },
   "outputs": [],
   "source": [
    "df_dict = {}"
   ]
  },
  {
   "cell_type": "code",
   "execution_count": null,
   "metadata": {
    "collapsed": false
   },
   "outputs": [
    {
     "name": "stderr",
     "output_type": "stream",
     "text": [
      "\r",
      "  0%|          | 0/1 [00:00<?, ?it/s]"
     ]
    },
    {
     "name": "stdout",
     "output_type": "stream",
     "text": [
      "Num particles = 1\t Num dimensions = 3\n"
     ]
    },
    {
     "name": "stderr",
     "output_type": "stream",
     "text": [
      "100%|██████████| 1/1 [00:00<00:00,  1.72it/s]\n",
      "  0%|          | 0/1 [00:00<?, ?it/s]"
     ]
    },
    {
     "name": "stdout",
     "output_type": "stream",
     "text": [
      "Analytic time = 0.5300459861755371 seconds\n"
     ]
    },
    {
     "name": "stderr",
     "output_type": "stream",
     "text": [
      "100%|██████████| 1/1 [00:00<00:00,  1.24it/s]\n",
      "  0%|          | 0/1 [00:00<?, ?it/s]"
     ]
    },
    {
     "name": "stdout",
     "output_type": "stream",
     "text": [
      "Numeric time = 0.7457420825958252 seconds\n",
      "Num particles = 10\t Num dimensions = 3\n"
     ]
    },
    {
     "name": "stderr",
     "output_type": "stream",
     "text": [
      "100%|██████████| 1/1 [00:00<00:00,  1.25it/s]\n",
      "  0%|          | 0/1 [00:00<?, ?it/s]"
     ]
    },
    {
     "name": "stdout",
     "output_type": "stream",
     "text": [
      "Analytic time = 0.7427799701690674 seconds\n"
     ]
    },
    {
     "name": "stderr",
     "output_type": "stream",
     "text": [
      "100%|██████████| 1/1 [00:06<00:00,  6.27s/it]\n",
      "  0%|          | 0/1 [00:00<?, ?it/s]"
     ]
    },
    {
     "name": "stdout",
     "output_type": "stream",
     "text": [
      "Numeric time = 6.216075420379639 seconds\n",
      "Num particles = 100\t Num dimensions = 3\n"
     ]
    },
    {
     "name": "stderr",
     "output_type": "stream",
     "text": [
      "100%|██████████| 1/1 [00:04<00:00,  4.28s/it]\n",
      "  0%|          | 0/1 [00:00<?, ?it/s]"
     ]
    },
    {
     "name": "stdout",
     "output_type": "stream",
     "text": [
      "Analytic time = 4.236788988113403 seconds\n"
     ]
    },
    {
     "name": "stderr",
     "output_type": "stream",
     "text": [
      "100%|██████████| 1/1 [06:47<00:00, 407.34s/it]\n",
      "  0%|          | 0/1 [00:00<?, ?it/s]"
     ]
    },
    {
     "name": "stdout",
     "output_type": "stream",
     "text": [
      "Numeric time = 407.2725188732147 seconds\n",
      "Num particles = 500\t Num dimensions = 3\n"
     ]
    },
    {
     "name": "stderr",
     "output_type": "stream",
     "text": [
      "100%|██████████| 1/1 [00:20<00:00, 20.53s/it]\n",
      "  0%|          | 0/1 [00:00<?, ?it/s]"
     ]
    },
    {
     "name": "stdout",
     "output_type": "stream",
     "text": [
      "Analytic time = 20.463693380355835 seconds\n"
     ]
    }
   ],
   "source": [
    "for i in num_particles:\n",
    "    print (\"Num particles = {0}\\t Num dimensions = {1}\".format(i, num_dimensions))\n",
    "\n",
    "    wavefunction_analytical = PySimpleGaussian(\n",
    "        i, num_dimensions, mass, omega, spread=step_length)\n",
    "    wavefunction_approximate = PySimpleGaussianNumerical(\n",
    "        i, num_dimensions, mass, omega, spread=step_length)\n",
    "\n",
    "    hamiltonian = PyHarmonicOscillator()\n",
    "\n",
    "    sampler_analytical = PySampler(\n",
    "        wavefunction_analytical, hamiltonian, PyMetropolisAlgorithm())\n",
    "    sampler_approximate = PySampler(\n",
    "        wavefunction_approximate, PyHarmonicOscillator(), PyMetropolisAlgorithm())\n",
    "\n",
    "    df_analytical = run_all(\n",
    "        sampler_analytical, alphas, parameter_names, bootstrap_samples, **kwargs)\n",
    "    print (\"Analytic time = {0} seconds\".format(df_analytical[\"sampling_time\"].sum()))\n",
    "\n",
    "    df_approximate = run_all(\n",
    "        sampler_approximate, alphas, parameter_names, bootstrap_samples, **kwargs)\n",
    "    print (\"Numeric time = {0} seconds\".format(df_approximate[\"sampling_time\"].sum()))\n",
    "\n",
    "    df_dict[i] = [df_analytical, df_approximate]"
   ]
  },
  {
   "cell_type": "code",
   "execution_count": null,
   "metadata": {
    "collapsed": false
   },
   "outputs": [],
   "source": [
    "print (df_dict)"
   ]
  },
  {
   "cell_type": "code",
   "execution_count": null,
   "metadata": {
    "collapsed": false
   },
   "outputs": [],
   "source": [
    "for key in df_dict:\n",
    "    print (key)\n",
    "    display(df_dict[key][0])\n",
    "    display(df_dict[key][1])"
   ]
  }
 ],
 "metadata": {
  "anaconda-cloud": {},
  "kernelspec": {
   "display_name": "Python [conda root]",
   "language": "python",
   "name": "conda-root-py"
  },
  "language_info": {
   "codemirror_mode": {
    "name": "ipython",
    "version": 3
   },
   "file_extension": ".py",
   "mimetype": "text/x-python",
   "name": "python",
   "nbconvert_exporter": "python",
   "pygments_lexer": "ipython3",
   "version": "3.5.2"
  }
 },
 "nbformat": 4,
 "nbformat_minor": 1
}
