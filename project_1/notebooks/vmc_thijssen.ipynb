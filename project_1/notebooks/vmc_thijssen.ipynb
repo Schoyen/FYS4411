{
 "cells": [
  {
   "cell_type": "markdown",
   "metadata": {},
   "source": [
    "# Variational Monte Carlo\n",
    "\n",
    "We look at the small program from Thijssen's book \"Computational Physics\"."
   ]
  },
  {
   "cell_type": "markdown",
   "metadata": {},
   "source": [
    "## One dimensional harmonic oscillator\n",
    "\n",
    "We restrict ourselves to the one dimensional harmonic oscillator with the Hamiltonian (in natural units)\n",
    "\n",
    "\\begin{align}\n",
    "    h = -\\frac{1}{2}\\frac{\\text{d}^2}{\\text{d}x^2} + \\frac{1}{2} x^2.\n",
    "\\end{align}\n",
    "\n",
    "We know that the exact wavefunction for the ground state is given by\n",
    "\n",
    "\\begin{align}\n",
    "    \\psi_0 = \\exp(-x^2/2).\n",
    "\\end{align}\n",
    "\n",
    "The trial wavefunction we choose will be\n",
    "\n",
    "\\begin{align}\n",
    "    \\psi_T = \\exp(-\\alpha x^2).\n",
    "\\end{align}"
   ]
  }
 ],
 "metadata": {
  "kernelspec": {
   "display_name": "Python 3",
   "language": "python",
   "name": "python3"
  },
  "language_info": {
   "codemirror_mode": {
    "name": "ipython",
    "version": 3
   },
   "file_extension": ".py",
   "mimetype": "text/x-python",
   "name": "python",
   "nbconvert_exporter": "python",
   "pygments_lexer": "ipython3",
   "version": "3.6.1"
  }
 },
 "nbformat": 4,
 "nbformat_minor": 2
}
