{
 "cells": [
  {
   "cell_type": "markdown",
   "metadata": {},
   "source": [
    "# Variational Monte Carlo\n",
    "\n",
    "We look at the small program from Thijssen's book \"Computational Physics\"."
   ]
  },
  {
   "cell_type": "code",
   "execution_count": 1,
   "metadata": {
    "collapsed": true
   },
   "outputs": [],
   "source": [
    "%matplotlib inline\n",
    "import numpy as np\n",
    "import matplotlib.pyplot as plt\n",
    "from tqdm import tqdm"
   ]
  },
  {
   "cell_type": "code",
   "execution_count": 2,
   "metadata": {
    "collapsed": true
   },
   "outputs": [],
   "source": [
    "num_walkers = 2\n",
    "num_samples = 1000000\n",
    "alphas = np.linspace(0.1, 1.6, 11)"
   ]
  },
  {
   "cell_type": "markdown",
   "metadata": {},
   "source": [
    "## One dimensional harmonic oscillator\n",
    "\n",
    "We restrict ourselves to the one dimensional harmonic oscillator with the Hamiltonian (in natural units)\n",
    "\n",
    "\\begin{align}\n",
    "    h = -\\frac{1}{2}\\frac{\\text{d}^2}{\\text{d}x^2} + \\frac{1}{2} x^2.\n",
    "\\end{align}\n",
    "\n",
    "We know that the exact wavefunction for the ground state is given by\n",
    "\n",
    "\\begin{align}\n",
    "    \\psi_0 = \\exp(-x^2/2).\n",
    "\\end{align}"
   ]
  },
  {
   "cell_type": "code",
   "execution_count": 3,
   "metadata": {
    "collapsed": true
   },
   "outputs": [],
   "source": [
    "def exact_wavefunction(x):\n",
    "    return np.exp(-x**2/2.0)"
   ]
  },
  {
   "cell_type": "markdown",
   "metadata": {},
   "source": [
    "The trial wavefunction we choose will be\n",
    "\n",
    "\\begin{align}\n",
    "    \\psi_T = \\exp(-\\alpha x^2).\n",
    "\\end{align}"
   ]
  },
  {
   "cell_type": "code",
   "execution_count": 4,
   "metadata": {
    "collapsed": true
   },
   "outputs": [],
   "source": [
    "def trial_wavefunction(x, alpha):\n",
    "    return np.exp(-alpha*x**2)"
   ]
  },
  {
   "cell_type": "markdown",
   "metadata": {},
   "source": [
    "## The local energy\n",
    "\n",
    "The local energy of the system is given by\n",
    "\n",
    "\\begin{align}\n",
    "    E_L(x) &= \\frac{h\\psi_T}{\\psi_T}\n",
    "    = \\alpha + x^2\\left(\\frac{1}{2} - 2\\alpha^2\\right).\n",
    "\\end{align}"
   ]
  },
  {
   "cell_type": "code",
   "execution_count": 5,
   "metadata": {
    "collapsed": true
   },
   "outputs": [],
   "source": [
    "def local_energy(x, alpha):\n",
    "    return alpha + x**2*(0.5 - 2*alpha**2)"
   ]
  },
  {
   "cell_type": "markdown",
   "metadata": {},
   "source": [
    "## The Metropolis scheme\n",
    "\n",
    "When using Metropolis sampling we have to compute the ratio between the previous and the current step, $p(x, x')$.\n",
    "\n",
    "\\begin{align}\n",
    "    p(x, x') &= \\frac{\\psi_T(x)}{\\psi_T(x')} \\\\\n",
    "        &= \\exp\\bigl[-\\alpha(x^2 - x'^2)\\bigr],\n",
    "\\end{align}\n",
    "where $x$ is the current step and $x'$ the previous."
   ]
  },
  {
   "cell_type": "code",
   "execution_count": 6,
   "metadata": {
    "collapsed": true
   },
   "outputs": [],
   "source": [
    "def ratio(x, x_old, alpha):\n",
    "    return np.exp(-alpha*(x**2 - x_old**2))\n",
    "    #return trial_wavefunction(x, alpha)/trial_wavefunction(x_old, alpha)"
   ]
  },
  {
   "cell_type": "markdown",
   "metadata": {},
   "source": [
    "When we perform a Metropolis step we choose a random walker at position $x$ and propose a new position, $x'$, within some threshold. We calculate the new fraction $p(x, x')$ and draw a uniform random number $r \\in [0, 1)$. If $p(x, x') \\geq r$ we accept the state, else we ignore the new state."
   ]
  },
  {
   "cell_type": "code",
   "execution_count": 7,
   "metadata": {
    "collapsed": true
   },
   "outputs": [],
   "source": [
    "def metropolis_sampling(x, num_samples, alpha, step_length=0.05):\n",
    "    delta_energy = 0\n",
    "    for i in np.random.randint(0, len(x), num_samples):\n",
    "        delta_x = step_length*2*(np.random.random() - 0.5)\n",
    "        x_new = x[i] + delta_x\n",
    "\n",
    "        if ratio(x_new, x[i], alpha) >= np.random.random():\n",
    "            delta_energy -= local_energy(x[i], alpha)\n",
    "            x[i] = x_new\n",
    "            delta_energy += local_energy(x_new, alpha)\n",
    "\n",
    "    return delta_energy"
   ]
  },
  {
   "cell_type": "markdown",
   "metadata": {},
   "source": [
    "## Initialization"
   ]
  },
  {
   "cell_type": "code",
   "execution_count": 8,
   "metadata": {},
   "outputs": [
    {
     "name": "stderr",
     "output_type": "stream",
     "text": [
      "100%|██████████| 11/11 [01:15<00:00,  6.82s/it]\n"
     ]
    }
   ],
   "source": [
    "energy = []\n",
    "met_energy = []\n",
    "\n",
    "for alpha in tqdm(alphas):\n",
    "    x = 2*(np.random.random(num_walkers) - 0.5)\n",
    "    energy_init = np.sum(local_energy(x, alpha))\n",
    "\n",
    "    met_energy.append(metropolis_sampling(x, num_samples, alpha))\n",
    "    energy.append(energy_init + met_energy[-1])"
   ]
  },
  {
   "cell_type": "code",
   "execution_count": 9,
   "metadata": {},
   "outputs": [
    {
     "data": {
      "image/png": "[encoded data removed]",
      "text/plain": [
       "<matplotlib.figure.Figure at 0x11296db38>"
      ]
     },
     "metadata": {},
     "output_type": "display_data"
    }
   ],
   "source": [
    "plt.plot(alphas, met_energy)\n",
    "plt.show()"
   ]
  },
  {
   "cell_type": "code",
   "execution_count": 10,
   "metadata": {},
   "outputs": [
    {
     "data": {
      "image/png": "[encoded data removed]",
      "text/plain": [
       "<matplotlib.figure.Figure at 0x1129e8160>"
      ]
     },
     "metadata": {},
     "output_type": "display_data"
    }
   ],
   "source": [
    "plt.plot(alphas, energy)\n",
    "plt.show()"
   ]
  },
  {
   "cell_type": "code",
   "execution_count": 11,
   "metadata": {},
   "outputs": [
    {
     "name": "stdout",
     "output_type": "stream",
     "text": [
      "[1.1561680203039413, 0.22140269600527207, -0.024736475882417785, -0.14677324402589975, -2.9523031183868857, -0.25625174098848758, 0.13087543489570497, 1.7215742854126748, -1.2651055643379288, 2.6397505853116146, 2.3058059384985756]\n",
      "[1.5372008924931766, 0.80267980913926273, 0.9939737937869495, 0.9189646845414432, -2.0169078065693631, 0.4422492506686907, 0.50714737543614852, 2.2160535801563133, -2.0138370607568046, 1.7811565244197871, -0.33626691924202357]\n",
      "[ 0.1   0.25  0.4   0.55  0.7   0.85  1.    1.15  1.3   1.45  1.6 ]\n"
     ]
    }
   ],
   "source": [
    "print (met_energy)\n",
    "print (energy)\n",
    "print (alphas)"
   ]
  }
 ],
 "metadata": {
  "kernelspec": {
   "display_name": "Python 3",
   "language": "python",
   "name": "python3"
  },
  "language_info": {
   "codemirror_mode": {
    "name": "ipython",
    "version": 3
   },
   "file_extension": ".py",
   "mimetype": "text/x-python",
   "name": "python",
   "nbconvert_exporter": "python",
   "pygments_lexer": "ipython3",
   "version": "3.6.1"
  }
 },
 "nbformat": 4,
 "nbformat_minor": 2
}
