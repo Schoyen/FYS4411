{
 "cells": [
  {
   "cell_type": "markdown",
   "metadata": {},
   "source": [
    "# Simple non-interacting harmonic oscillator"
   ]
  },
  {
   "cell_type": "code",
   "execution_count": 45,
   "metadata": {
    "collapsed": true
   },
   "outputs": [],
   "source": [
    "%matplotlib inline\n",
    "\n",
    "import numpy as np\n",
    "import matplotlib.pyplot as plt\n",
    "import seaborn as sns\n",
    "import tqdm"
   ]
  },
  {
   "cell_type": "code",
   "execution_count": 46,
   "metadata": {
    "collapsed": true
   },
   "outputs": [],
   "source": [
    "sns.set(color_codes=True)"
   ]
  },
  {
   "cell_type": "code",
   "execution_count": 50,
   "metadata": {
    "collapsed": true
   },
   "outputs": [],
   "source": [
    "hbar = 1"
   ]
  },
  {
   "cell_type": "code",
   "execution_count": 51,
   "metadata": {
    "collapsed": true
   },
   "outputs": [],
   "source": [
    "class SimpleGaussian:\n",
    "\n",
    "    def __init__(self, num_particles, num_dimensions, spread, alpha, mass=1, omega=1):\n",
    "        self.num_particles = num_particles\n",
    "        self.num_dimensions = num_dimensions\n",
    "        self.mass = mass\n",
    "        self.omega = omega\n",
    "        self.alpha = alpha\n",
    "\n",
    "        self.particles = spread*(2*np.random.random((num_particles, num_dimensions)) - 1)\n",
    "\n",
    "    def compute_laplacian(self):\n",
    "        laplacian = -2*self.num_dimensions*self.num_particles*self.alpha \\\n",
    "            + 4*self.alpha**2*np.sum(self.particles**2)\n",
    "\n",
    "        return laplacian\n",
    "\n",
    "    def evaluate(self):\n",
    "        return np.exp(-self.alpha*np.sum(self.particles**2))"
   ]
  },
  {
   "cell_type": "code",
   "execution_count": 52,
   "metadata": {
    "collapsed": true
   },
   "outputs": [],
   "source": [
    "class HarmonicOscillator:\n",
    "\n",
    "    def __init__(self, mass, omega):\n",
    "        self.mass = mass\n",
    "        self.omega = omega\n",
    "\n",
    "    def compute_local_energy(self, wavefunction):\n",
    "        kinetic_energy = self.compute_kinetic_energy(wavefunction)\n",
    "        potential_energy = self.compute_potential_energy(wavefunction)\n",
    "\n",
    "        return kinetic_energy + potential_energy\n",
    "\n",
    "    def compute_kinetic_energy(self, wavefunction):\n",
    "        return - hbar**2*wavefunction.compute_laplacian()/(2.0*self.mass)\n",
    "\n",
    "    def compute_potential_energy(self, wavefunction):\n",
    "        return 0.5*self.mass*self.omega**2*np.sum(wavefunction.particles)"
   ]
  },
  {
   "cell_type": "code",
   "execution_count": 53,
   "metadata": {
    "collapsed": true
   },
   "outputs": [],
   "source": [
    "def step(wavefunction, step_length):\n",
    "    prev = wavefunction.evaluate()\n",
    "    p_index = np.random.randint(wavefunction.num_particles)\n",
    "    prev_pos = wavefunction.particles[p_index]\n",
    "\n",
    "    step = step_length*(2*np.random.random(wavefunction.num_dimensions) - 1.0)\n",
    "    wavefunction.particles[p_index] += step\n",
    "\n",
    "    if wavefunction.evaluate()**2/prev**2 > np.random.random():\n",
    "        return True\n",
    "    else:\n",
    "        wavefunction.particles[p_index] = prev_pos\n",
    "\n",
    "    return False"
   ]
  },
  {
   "cell_type": "code",
   "execution_count": 54,
   "metadata": {
    "collapsed": true
   },
   "outputs": [],
   "source": [
    "def run(wavefunction, hamiltonian, step_length, num_samples):\n",
    "\n",
    "    energy = 0\n",
    "    energy_squared = 0\n",
    "    num_accepted_states = 0\n",
    "\n",
    "    local_energy = hamiltonian.compute_local_energy(wavefunction)\n",
    "\n",
    "    for i in range(num_samples):\n",
    "\n",
    "        if step(wavefunction, step_length):\n",
    "            local_energy = hamiltonian.compute_local_energy(wavefunction)\n",
    "            num_accepted_states += 1\n",
    "\n",
    "        energy += local_energy\n",
    "        energy_squared += local_energy**2\n",
    "\n",
    "    energy /= num_samples\n",
    "    energy_squared /= num_samples\n",
    "    variance = energy_squared - energy**2\n",
    "\n",
    "    return energy, energy_squared, variance, num_accepted_states"
   ]
  },
  {
   "cell_type": "code",
   "execution_count": 80,
   "metadata": {
    "collapsed": true
   },
   "outputs": [],
   "source": [
    "mass = omega = 1\n",
    "spread = 1.0\n",
    "step_length = 0.1\n",
    "\n",
    "num_particles = 300\n",
    "num_dimensions = 1\n",
    "num_samples = 300000\n",
    "\n",
    "alpha_start = 0.3\n",
    "alpha_end = 0.7\n",
    "num_alphas = 17\n",
    "\n",
    "alphas = np.linspace(alpha_start, alpha_end, num_alphas)\n",
    "\n",
    "wavefunction = SimpleGaussian(\n",
    "    num_particles, num_dimensions, spread, alpha_start, mass=mass, omega=omega)\n",
    "hamiltonian = HarmonicOscillator(mass, omega)"
   ]
  },
  {
   "cell_type": "code",
   "execution_count": 81,
   "metadata": {},
   "outputs": [
    {
     "name": "stderr",
     "output_type": "stream",
     "text": [
      "  6%|▌         | 1/17 [00:15<04:00, 15.03s/it]/Users/Schoyen/anaconda3/lib/python3.6/site-packages/ipykernel_launcher.py:9: RuntimeWarning: invalid value encountered in double_scalars\n",
      "  if __name__ == '__main__':\n",
      "/Users/Schoyen/anaconda3/lib/python3.6/site-packages/ipykernel_launcher.py:9: RuntimeWarning: divide by zero encountered in double_scalars\n",
      "  if __name__ == '__main__':\n",
      "100%|██████████| 17/17 [03:48<00:00, 13.44s/it]\n"
     ]
    }
   ],
   "source": [
    "ret_vals = []\n",
    "for i in tqdm.tqdm(range(num_alphas)):\n",
    "    ret_vals.append(run(wavefunction, hamiltonian, step_length, num_samples))"
   ]
  },
  {
   "cell_type": "code",
   "execution_count": 88,
   "metadata": {},
   "outputs": [
    {
     "name": "stdout",
     "output_type": "stream",
     "text": [
      "[[ -1.84607853e+01   2.39840627e+03   2.05760567e+03   2.90796000e+05]\n",
      " [ -1.11486886e+02   1.24305997e+04   1.27386358e+00   2.39960000e+04]\n",
      " [ -2.86101845e+02   8.18542658e+04  -3.25846486e-07   0.00000000e+00]\n",
      " [ -4.34821755e+02   1.89069959e+05  -7.87491444e-07   0.00000000e+00]\n",
      " [ -6.19182694e+02   3.83387208e+05   3.08791641e-07   0.00000000e+00]\n",
      " [ -7.96993881e+02   6.35199246e+05  -1.90641731e-06   0.00000000e+00]\n",
      " [ -1.06452981e+03   1.13322372e+06  -1.80676579e-07   0.00000000e+00]\n",
      " [ -1.27150665e+03   1.61672915e+06  -1.63679942e-07   0.00000000e+00]\n",
      " [ -1.48229899e+03   2.19721029e+06  -1.84569508e-05   0.00000000e+00]\n",
      " [ -1.71231585e+03   2.93202557e+06  -2.52639875e-05   0.00000000e+00]\n",
      " [ -1.86125447e+03   3.46426819e+06  -2.63201073e-05   0.00000000e+00]\n",
      " [ -1.97375689e+03   3.89571625e+06   9.40542668e-06   0.00000000e+00]\n",
      " [ -2.12419973e+03   4.51222447e+06   3.07746232e-05   0.00000000e+00]\n",
      " [ -2.46599219e+03   6.08111747e+06   3.89749184e-05   0.00000000e+00]\n",
      " [ -2.41543087e+03   5.83430629e+06  -2.82619148e-05   0.00000000e+00]\n",
      " [ -2.65981987e+03   7.07464177e+06   5.91408461e-05   0.00000000e+00]\n",
      " [ -2.77795789e+03   7.71705003e+06  -5.10755926e-05   0.00000000e+00]]\n"
     ]
    }
   ],
   "source": [
    "print (ret_vals)"
   ]
  },
  {
   "cell_type": "code",
   "execution_count": 89,
   "metadata": {
    "collapsed": true
   },
   "outputs": [],
   "source": [
    "ret_vals = np.array(ret_vals)\n",
    "energies = ret_vales[:, 0]"
   ]
  },
  {
   "cell_type": "code",
   "execution_count": 90,
   "metadata": {},
   "outputs": [
    {
     "name": "stdout",
     "output_type": "stream",
     "text": [
      "[ 80.40411765  75.99715753  68.96042729  66.02399791  65.0343069\n",
      "  66.39903676  61.02769663  51.67983474  43.93101121  40.48736888\n",
      "  31.99313783  22.43303955  17.6513677   12.48616592   7.25193777\n",
      "   1.54772533  -1.1103213 ]\n"
     ]
    }
   ],
   "source": [
    "print (energies)"
   ]
  }
 ],
 "metadata": {
  "kernelspec": {
   "display_name": "Python 3",
   "language": "python",
   "name": "python3"
  },
  "language_info": {
   "codemirror_mode": {
    "name": "ipython",
    "version": 3
   },
   "file_extension": ".py",
   "mimetype": "text/x-python",
   "name": "python",
   "nbconvert_exporter": "python",
   "pygments_lexer": "ipython3",
   "version": "3.6.1"
  }
 },
 "nbformat": 4,
 "nbformat_minor": 2
}
