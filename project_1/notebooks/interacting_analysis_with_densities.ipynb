{
 "cells": [
  {
   "cell_type": "markdown",
   "metadata": {},
   "source": [
    "# Analysis of interacting case for optimal variational parameters"
   ]
  },
  {
   "cell_type": "code",
   "execution_count": 1,
   "metadata": {
    "collapsed": true
   },
   "outputs": [],
   "source": [
    "%matplotlib inline\n",
    "\n",
    "import matplotlib.pyplot as plt\n",
    "from mpl_toolkits.mplot3d import Axes3D\n",
    "import seaborn as sns\n",
    "import pandas as pd\n",
    "import numpy as np\n",
    "\n",
    "from vmc.interface import *\n",
    "from vmc import run_all\n",
    "\n",
    "from IPython.core.display import display"
   ]
  },
  {
   "cell_type": "code",
   "execution_count": 2,
   "metadata": {
    "collapsed": true
   },
   "outputs": [],
   "source": [
    "sns.set(color_codes=True)"
   ]
  },
  {
   "cell_type": "code",
   "execution_count": 3,
   "metadata": {
    "collapsed": true
   },
   "outputs": [],
   "source": [
    "SAVEFIG=False"
   ]
  },
  {
   "cell_type": "code",
   "execution_count": 4,
   "metadata": {
    "collapsed": true
   },
   "outputs": [],
   "source": [
    "mass = 1.0\n",
    "omega = 1.0\n",
    "\n",
    "radius = 0.2\n",
    "beta = _lambda = 2.82843\n",
    "\n",
    "dw_radius = 2.0\n",
    "\n",
    "num_particles = 10\n",
    "num_dimensions = 3\n",
    "\n",
    "step_length = 0.5\n",
    "spread = num_particles*radius*2 + 0.1\n",
    "\n",
    "num_samples = int(2**18)\n",
    "num_thermalization_steps = int(0.1*num_samples)\n",
    "\n",
    "r_min = -4\n",
    "r_max = 4\n",
    "num_bins = 100\n",
    "\n",
    "\n",
    "parameter_names = [\"alpha\"]\n",
    "alpha = np.array([0.4974]).reshape(1, 1)\n",
    "alpha_s = np.array([0.4]).reshape(1, 1)\n",
    "\n",
    "kwargs = {\n",
    "    \"num_samples\": num_samples, \"step_length\": step_length,\n",
    "    \"num_thermalization_steps\": num_thermalization_steps}"
   ]
  },
  {
   "cell_type": "code",
   "execution_count": 5,
   "metadata": {
    "collapsed": false
   },
   "outputs": [],
   "source": [
    "sampler_i = PySampler(\n",
    "    PyInteractingEllipticalGaussian(\n",
    "        num_particles, num_dimensions, mass, omega, beta, radius,\n",
    "        spread=spread\n",
    "    ), PyEllipticalHarmonicOscillator(_lambda),\n",
    "    PyImportanceMetropolis()\n",
    ")\n",
    "\n",
    "sampler_n = PySampler(\n",
    "    PyInteractingEllipticalGaussian(\n",
    "        num_particles, num_dimensions, mass, omega, beta, 0,\n",
    "        spread=np.sqrt(step_length)\n",
    "    ), PyEllipticalHarmonicOscillator(_lambda),\n",
    "    PyImportanceMetropolis()\n",
    ")\n",
    "\n",
    "sampler_s = PySampler(\n",
    "    PySimpleGaussian(\n",
    "        num_particles, num_dimensions, mass, omega, spread=np.sqrt(step_length)\n",
    "    ), PyHarmonicOscillator(),\n",
    "    PyImportanceMetropolis()\n",
    ")\n",
    "\n",
    "#sampler_dw = PySampler(\n",
    "#    PySimpleGaussian(\n",
    "#        num_particles, num_dimensions, mass, omega, spread=np.sqrt(step_length)\n",
    "#    ), PyDoubleWell(dw_radius),\n",
    "#    PyImportanceMetropolis()\n",
    "#)\n",
    "\n",
    "sampler_i.initialize_one_body_densities(r_min, r_max, num_bins)\n",
    "sampler_n.initialize_one_body_densities(r_min, r_max, num_bins)\n",
    "sampler_s.initialize_one_body_densities(r_min, r_max, num_bins)\n",
    "#sampler_dw.initialize_one_body_densities(r_min, r_max, num_bins)"
   ]
  },
  {
   "cell_type": "code",
   "execution_count": 6,
   "metadata": {
    "collapsed": false
   },
   "outputs": [
    {
     "name": "stderr",
     "output_type": "stream",
     "text": [
      "100%|██████████| 1/1 [00:02<00:00,  2.15s/it]\n"
     ]
    }
   ],
   "source": [
    "df_i = run_all(sampler_i, alpha, parameter_names, 0, **kwargs)\n",
    "df_i[\"energy_per_particle\"] = df_i[\"energy\"]/num_particles"
   ]
  },
  {
   "cell_type": "code",
   "execution_count": 7,
   "metadata": {
    "collapsed": false
   },
   "outputs": [
    {
     "data": {
      "text/html": [
       "<div>\n",
       "<style scoped>\n",
       "    .dataframe tbody tr th:only-of-type {\n",
       "        vertical-align: middle;\n",
       "    }\n",
       "\n",
       "    .dataframe tbody tr th {\n",
       "        vertical-align: top;\n",
       "    }\n",
       "\n",
       "    .dataframe thead th {\n",
       "        text-align: right;\n",
       "    }\n",
       "</style>\n",
       "<table border=\"1\" class=\"dataframe\">\n",
       "  <thead>\n",
       "    <tr style=\"text-align: right;\">\n",
       "      <th></th>\n",
       "      <th>alpha</th>\n",
       "      <th>energy</th>\n",
       "      <th>variance</th>\n",
       "      <th>std</th>\n",
       "      <th>acceptance</th>\n",
       "      <th>sampling_time</th>\n",
       "      <th>block_var</th>\n",
       "      <th>block_std</th>\n",
       "      <th>energy_per_particle</th>\n",
       "    </tr>\n",
       "  </thead>\n",
       "  <tbody>\n",
       "    <tr>\n",
       "      <th>0</th>\n",
       "      <td>0.4974</td>\n",
       "      <td>33.412134</td>\n",
       "      <td>0.000009</td>\n",
       "      <td>0.002928</td>\n",
       "      <td>0.559837</td>\n",
       "      <td>2.140683</td>\n",
       "      <td>0.00098</td>\n",
       "      <td>0.031302</td>\n",
       "      <td>3.341213</td>\n",
       "    </tr>\n",
       "  </tbody>\n",
       "</table>\n",
       "</div>"
      ],
      "text/plain": [
       "    alpha     energy  variance       std  acceptance  sampling_time  \\\n",
       "0  0.4974  33.412134  0.000009  0.002928    0.559837       2.140683   \n",
       "\n",
       "   block_var  block_std  energy_per_particle  \n",
       "0    0.00098   0.031302             3.341213  "
      ]
     },
     "metadata": {},
     "output_type": "display_data"
    }
   ],
   "source": [
    "display(df_i)"
   ]
  },
  {
   "cell_type": "code",
   "execution_count": 8,
   "metadata": {
    "collapsed": false
   },
   "outputs": [
    {
     "name": "stderr",
     "output_type": "stream",
     "text": [
      "100%|██████████| 1/1 [00:01<00:00,  1.25s/it]\n"
     ]
    }
   ],
   "source": [
    "df_n = run_all(sampler_n, alpha, parameter_names, 0, **kwargs)\n",
    "df_n[\"energy_per_particle\"] = df_n[\"energy\"]/num_particles"
   ]
  },
  {
   "cell_type": "code",
   "execution_count": 9,
   "metadata": {
    "collapsed": false
   },
   "outputs": [
    {
     "data": {
      "text/html": [
       "<div>\n",
       "<style scoped>\n",
       "    .dataframe tbody tr th:only-of-type {\n",
       "        vertical-align: middle;\n",
       "    }\n",
       "\n",
       "    .dataframe tbody tr th {\n",
       "        vertical-align: top;\n",
       "    }\n",
       "\n",
       "    .dataframe thead th {\n",
       "        text-align: right;\n",
       "    }\n",
       "</style>\n",
       "<table border=\"1\" class=\"dataframe\">\n",
       "  <thead>\n",
       "    <tr style=\"text-align: right;\">\n",
       "      <th></th>\n",
       "      <th>alpha</th>\n",
       "      <th>energy</th>\n",
       "      <th>variance</th>\n",
       "      <th>std</th>\n",
       "      <th>acceptance</th>\n",
       "      <th>sampling_time</th>\n",
       "      <th>block_var</th>\n",
       "      <th>block_std</th>\n",
       "      <th>energy_per_particle</th>\n",
       "    </tr>\n",
       "  </thead>\n",
       "  <tbody>\n",
       "    <tr>\n",
       "      <th>0</th>\n",
       "      <td>0.4974</td>\n",
       "      <td>24.14254</td>\n",
       "      <td>5.131017e-09</td>\n",
       "      <td>0.000072</td>\n",
       "      <td>0.624828</td>\n",
       "      <td>1.243555</td>\n",
       "      <td>1.718250e-07</td>\n",
       "      <td>0.000415</td>\n",
       "      <td>2.414254</td>\n",
       "    </tr>\n",
       "  </tbody>\n",
       "</table>\n",
       "</div>"
      ],
      "text/plain": [
       "    alpha    energy      variance       std  acceptance  sampling_time  \\\n",
       "0  0.4974  24.14254  5.131017e-09  0.000072    0.624828       1.243555   \n",
       "\n",
       "      block_var  block_std  energy_per_particle  \n",
       "0  1.718250e-07   0.000415             2.414254  "
      ]
     },
     "metadata": {},
     "output_type": "display_data"
    }
   ],
   "source": [
    "display(df_n)"
   ]
  },
  {
   "cell_type": "code",
   "execution_count": 10,
   "metadata": {
    "collapsed": false
   },
   "outputs": [
    {
     "name": "stderr",
     "output_type": "stream",
     "text": [
      "100%|██████████| 1/1 [00:00<00:00,  4.81it/s]\n"
     ]
    }
   ],
   "source": [
    "df_s = run_all(sampler_s, alpha_s, parameter_names, 0, **kwargs)\n",
    "df_s[\"energy_per_particle\"] = df_s[\"energy\"]/num_particles"
   ]
  },
  {
   "cell_type": "code",
   "execution_count": 11,
   "metadata": {
    "collapsed": false
   },
   "outputs": [
    {
     "data": {
      "text/html": [
       "<div>\n",
       "<style scoped>\n",
       "    .dataframe tbody tr th:only-of-type {\n",
       "        vertical-align: middle;\n",
       "    }\n",
       "\n",
       "    .dataframe tbody tr th {\n",
       "        vertical-align: top;\n",
       "    }\n",
       "\n",
       "    .dataframe thead th {\n",
       "        text-align: right;\n",
       "    }\n",
       "</style>\n",
       "<table border=\"1\" class=\"dataframe\">\n",
       "  <thead>\n",
       "    <tr style=\"text-align: right;\">\n",
       "      <th></th>\n",
       "      <th>alpha</th>\n",
       "      <th>energy</th>\n",
       "      <th>variance</th>\n",
       "      <th>std</th>\n",
       "      <th>acceptance</th>\n",
       "      <th>sampling_time</th>\n",
       "      <th>block_var</th>\n",
       "      <th>block_std</th>\n",
       "      <th>energy_per_particle</th>\n",
       "    </tr>\n",
       "  </thead>\n",
       "  <tbody>\n",
       "    <tr>\n",
       "      <th>0</th>\n",
       "      <td>0.4</td>\n",
       "      <td>15.375446</td>\n",
       "      <td>0.000003</td>\n",
       "      <td>0.001727</td>\n",
       "      <td>0.886375</td>\n",
       "      <td>0.20136</td>\n",
       "      <td>0.000097</td>\n",
       "      <td>0.009858</td>\n",
       "      <td>1.537545</td>\n",
       "    </tr>\n",
       "  </tbody>\n",
       "</table>\n",
       "</div>"
      ],
      "text/plain": [
       "   alpha     energy  variance       std  acceptance  sampling_time  block_var  \\\n",
       "0    0.4  15.375446  0.000003  0.001727    0.886375        0.20136   0.000097   \n",
       "\n",
       "   block_std  energy_per_particle  \n",
       "0   0.009858             1.537545  "
      ]
     },
     "metadata": {},
     "output_type": "display_data"
    }
   ],
   "source": [
    "display(df_s)"
   ]
  },
  {
   "cell_type": "code",
   "execution_count": 12,
   "metadata": {
    "collapsed": true
   },
   "outputs": [],
   "source": [
    "#df_dw = run_all(sampler_dw, alpha_s, parameter_names, 0, **kwargs)\n",
    "#df_dw[\"energy_per_particle\"] = df_dw[\"energy\"]/num_particles"
   ]
  },
  {
   "cell_type": "code",
   "execution_count": 13,
   "metadata": {
    "collapsed": true
   },
   "outputs": [],
   "source": [
    "#display(df_dw)"
   ]
  },
  {
   "cell_type": "code",
   "execution_count": 14,
   "metadata": {
    "collapsed": true
   },
   "outputs": [],
   "source": [
    "#bins_i = sampler_i.get_one_body_densities()\n",
    "#bins_n = sampler_n.get_one_body_densities()\n",
    "#bins_s = sampler_s.get_one_body_densities()\n",
    "#bins_dw = sampler_dw.get_one_body_densities()\n",
    "#radii = np.linspace(r_min, r_max, num_bins)"
   ]
  },
  {
   "cell_type": "code",
   "execution_count": 15,
   "metadata": {
    "collapsed": true
   },
   "outputs": [],
   "source": [
    "#fig = plt.figure()\n",
    "#ax = fig.add_subplot(111, projection=\"3d\")\n",
    "#xv, yv = np.meshgrid(radii, radii)\n",
    "#ax.plot_surface(xv, yv, np.outer(bins_dw[:, ::3], bins_dw[:, ::3]))\n",
    "#plt.show()"
   ]
  },
  {
   "cell_type": "code",
   "execution_count": 16,
   "metadata": {
    "collapsed": true
   },
   "outputs": [],
   "source": [
    "#plt.contourf(radii, radii, np.outer(bins_dw[:, ::3], bins_dw[:, ::3]))\n",
    "#plt.show()"
   ]
  },
  {
   "cell_type": "code",
   "execution_count": 17,
   "metadata": {
    "collapsed": true
   },
   "outputs": [],
   "source": [
    "def get_radial_densities(sampler):\n",
    "    bins = np.linalg.norm(sampler.get_one_body_densities(), axis=1)\n",
    "    return (bins[:bins.size//2])[::-1] + bins[bins.size//2:]"
   ]
  },
  {
   "cell_type": "code",
   "execution_count": 18,
   "metadata": {
    "collapsed": true
   },
   "outputs": [],
   "source": [
    "bins_i = get_radial_densities(sampler_i)\n",
    "bins_n = get_radial_densities(sampler_n)\n",
    "bins_s = get_radial_densities(sampler_s)\n",
    "\n",
    "assert abs(r_max + r_min) < 1e-10, \"Use symmetric bins\"\n",
    "assert bins_i.size == bins_n.size == bins_s.size, \\\n",
    "    \"bins_i.size = {0}, bins_n.size = {1}, bins_s.size = {2}\".format(\n",
    "    bins_i.size, bins_n.size, bins_s.size)\n",
    "\n",
    "radii = np.linspace(0, r_max, bins_i.size)"
   ]
  },
  {
   "cell_type": "code",
   "execution_count": 19,
   "metadata": {
    "collapsed": false
   },
   "outputs": [
    {
     "data": {
      "image/png": "[encoded data removed]",
      "text/plain": [
       "<matplotlib.figure.Figure at 0x7f776c86b898>"
      ]
     },
     "metadata": {},
     "output_type": "display_data"
    }
   ],
   "source": [
    "plt.plot(radii, bins_i, label=r\"Interacting\")\n",
    "plt.plot(radii, bins_n, label=r\"Non interacting\")\n",
    "plt.plot(radii, bins_s, label=r\"Ideal\")\n",
    "#plt.plot(radii, np.linalg.norm(bins_dw, axis=1), label=r\"Double Well\")\n",
    "\n",
    "plt.title(r\"Radial one-body densities\", fontsize=20)\n",
    "plt.xlabel(r\"$|\\mathbf{r}|$\", fontsize=16)\n",
    "plt.ylabel(r\"$\\rho(\\mathbf{r})$\", fontsize=16)\n",
    "plt.xticks(fontsize=14)\n",
    "plt.yticks(fontsize=14)\n",
    "plt.legend(loc=\"best\", fontsize=16)\n",
    "if SAVEFIG:\n",
    "    plt.savefig(\"../data/figures/problem_g_{0}N.pdf\".format(num_particles))\n",
    "\n",
    "plt.show()"
   ]
  }
 ],
 "metadata": {
  "anaconda-cloud": {},
  "kernelspec": {
   "display_name": "Python [default]",
   "language": "python",
   "name": "python3"
  },
  "language_info": {
   "codemirror_mode": {
    "name": "ipython",
    "version": 3
   },
   "file_extension": ".py",
   "mimetype": "text/x-python",
   "name": "python",
   "nbconvert_exporter": "python",
   "pygments_lexer": "ipython3",
   "version": "3.5.2"
  }
 },
 "nbformat": 4,
 "nbformat_minor": 2
}
