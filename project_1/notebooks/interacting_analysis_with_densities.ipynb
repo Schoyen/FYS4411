{
 "cells": [
  {
   "cell_type": "markdown",
   "metadata": {},
   "source": [
    "# Analysis of interacting case for optimal variational parameters"
   ]
  },
  {
   "cell_type": "code",
   "execution_count": 1,
   "metadata": {
    "collapsed": true
   },
   "outputs": [],
   "source": [
    "%matplotlib inline\n",
    "\n",
    "import matplotlib.pyplot as plt\n",
    "from mpl_toolkits.mplot3d import Axes3D\n",
    "import seaborn as sns\n",
    "import pandas as pd\n",
    "import numpy as np\n",
    "\n",
    "from vmc.interface import *\n",
    "from vmc import run_all\n",
    "\n",
    "from IPython.core.display import display"
   ]
  },
  {
   "cell_type": "code",
   "execution_count": 2,
   "metadata": {
    "collapsed": true
   },
   "outputs": [],
   "source": [
    "sns.set(color_codes=True)"
   ]
  },
  {
   "cell_type": "code",
   "execution_count": 3,
   "metadata": {
    "collapsed": true
   },
   "outputs": [],
   "source": [
    "SAVEFIG=True"
   ]
  },
  {
   "cell_type": "code",
   "execution_count": 4,
   "metadata": {
    "collapsed": true
   },
   "outputs": [],
   "source": [
    "mass = 1.0\n",
    "omega = 1.0\n",
    "\n",
    "radius = 0.0043\n",
    "beta = _lambda = 2.82843\n",
    "\n",
    "dw_radius = 2.0\n",
    "\n",
    "num_particles = 50\n",
    "num_dimensions = 3\n",
    "\n",
    "step_length = 0.1\n",
    "spread = 1\n",
    "\n",
    "num_samples = int(2**20)\n",
    "num_thermalization_steps = int(0.1*num_samples)\n",
    "\n",
    "r_min = -4\n",
    "r_max = 4\n",
    "num_bins = 100\n",
    "\n",
    "\n",
    "parameter_names = [\"alpha\"]\n",
    "alpha = np.array([0.4974]).reshape(1, 1)\n",
    "alpha_s = np.array([0.5]).reshape(1, 1)\n",
    "\n",
    "kwargs = {\n",
    "    \"num_samples\": num_samples, \"step_length\": step_length,\n",
    "    \"num_thermalization_steps\": num_thermalization_steps}"
   ]
  },
  {
   "cell_type": "code",
   "execution_count": 5,
   "metadata": {
    "collapsed": false
   },
   "outputs": [],
   "source": [
    "sampler_i = PySampler(\n",
    "    PyInteractingEllipticalGaussian(\n",
    "        num_particles, num_dimensions, mass, omega, beta, radius,\n",
    "        spread=spread\n",
    "    ), PyEllipticalHarmonicOscillator(_lambda),\n",
    "    PyImportanceMetropolis()\n",
    ")\n",
    "\n",
    "sampler_n = PySampler(\n",
    "    PyInteractingEllipticalGaussian(\n",
    "        num_particles, num_dimensions, mass, omega, beta, 0,\n",
    "        spread=spread\n",
    "    ), PyEllipticalHarmonicOscillator(_lambda),\n",
    "    PyImportanceMetropolis()\n",
    ")\n",
    "\n",
    "sampler_s = PySampler(\n",
    "    PySimpleGaussian(\n",
    "        num_particles, num_dimensions, mass, omega, spread=spread\n",
    "    ), PyHarmonicOscillator(),\n",
    "    PyImportanceMetropolis()\n",
    ")\n",
    "\n",
    "#sampler_dw = PySampler(\n",
    "#    PySimpleGaussian(\n",
    "#        num_particles, num_dimensions, mass, omega, spread=np.sqrt(step_length)\n",
    "#    ), PyDoubleWell(dw_radius),\n",
    "#    PyImportanceMetropolis()\n",
    "#)\n",
    "\n",
    "sampler_i.initialize_one_body_densities(r_min, r_max, num_bins)\n",
    "sampler_n.initialize_one_body_densities(r_min, r_max, num_bins)\n",
    "sampler_s.initialize_one_body_densities(r_min, r_max, num_bins)\n",
    "#sampler_dw.initialize_one_body_densities(r_min, r_max, num_bins)"
   ]
  },
  {
   "cell_type": "code",
   "execution_count": 6,
   "metadata": {
    "collapsed": false
   },
   "outputs": [
    {
     "name": "stderr",
     "output_type": "stream",
     "text": [
      "100%|██████████| 1/1 [03:50<00:00, 230.75s/it]\n"
     ]
    }
   ],
   "source": [
    "df_i = run_all(sampler_i, alpha, parameter_names, 0, **kwargs)\n",
    "df_i[\"energy_per_particle\"] = df_i[\"energy\"]/num_particles"
   ]
  },
  {
   "cell_type": "code",
   "execution_count": 7,
   "metadata": {
    "collapsed": false
   },
   "outputs": [
    {
     "data": {
      "text/html": [
       "<div>\n",
       "<style scoped>\n",
       "    .dataframe tbody tr th:only-of-type {\n",
       "        vertical-align: middle;\n",
       "    }\n",
       "\n",
       "    .dataframe tbody tr th {\n",
       "        vertical-align: top;\n",
       "    }\n",
       "\n",
       "    .dataframe thead th {\n",
       "        text-align: right;\n",
       "    }\n",
       "</style>\n",
       "<table border=\"1\" class=\"dataframe\">\n",
       "  <thead>\n",
       "    <tr style=\"text-align: right;\">\n",
       "      <th></th>\n",
       "      <th>alpha</th>\n",
       "      <th>energy</th>\n",
       "      <th>variance</th>\n",
       "      <th>std</th>\n",
       "      <th>acceptance</th>\n",
       "      <th>sampling_time</th>\n",
       "      <th>block_var</th>\n",
       "      <th>block_std</th>\n",
       "      <th>energy_per_particle</th>\n",
       "    </tr>\n",
       "  </thead>\n",
       "  <tbody>\n",
       "    <tr>\n",
       "      <th>0</th>\n",
       "      <td>0.4974</td>\n",
       "      <td>127.28519</td>\n",
       "      <td>1.689754e-07</td>\n",
       "      <td>0.000411</td>\n",
       "      <td>0.957793</td>\n",
       "      <td>230.723805</td>\n",
       "      <td>0.000059</td>\n",
       "      <td>0.007657</td>\n",
       "      <td>2.545704</td>\n",
       "    </tr>\n",
       "  </tbody>\n",
       "</table>\n",
       "</div>"
      ],
      "text/plain": [
       "    alpha     energy      variance       std  acceptance  sampling_time  \\\n",
       "0  0.4974  127.28519  1.689754e-07  0.000411    0.957793     230.723805   \n",
       "\n",
       "   block_var  block_std  energy_per_particle  \n",
       "0   0.000059   0.007657             2.545704  "
      ]
     },
     "metadata": {},
     "output_type": "display_data"
    }
   ],
   "source": [
    "display(df_i)"
   ]
  },
  {
   "cell_type": "code",
   "execution_count": 8,
   "metadata": {
    "collapsed": false
   },
   "outputs": [
    {
     "name": "stderr",
     "output_type": "stream",
     "text": [
      "100%|██████████| 1/1 [01:30<00:00, 90.46s/it]\n"
     ]
    }
   ],
   "source": [
    "df_n = run_all(sampler_n, alpha, parameter_names, 0, **kwargs)\n",
    "df_n[\"energy_per_particle\"] = df_n[\"energy\"]/num_particles"
   ]
  },
  {
   "cell_type": "code",
   "execution_count": 9,
   "metadata": {
    "collapsed": false
   },
   "outputs": [
    {
     "data": {
      "text/html": [
       "<div>\n",
       "<style scoped>\n",
       "    .dataframe tbody tr th:only-of-type {\n",
       "        vertical-align: middle;\n",
       "    }\n",
       "\n",
       "    .dataframe tbody tr th {\n",
       "        vertical-align: top;\n",
       "    }\n",
       "\n",
       "    .dataframe thead th {\n",
       "        text-align: right;\n",
       "    }\n",
       "</style>\n",
       "<table border=\"1\" class=\"dataframe\">\n",
       "  <thead>\n",
       "    <tr style=\"text-align: right;\">\n",
       "      <th></th>\n",
       "      <th>alpha</th>\n",
       "      <th>energy</th>\n",
       "      <th>variance</th>\n",
       "      <th>std</th>\n",
       "      <th>acceptance</th>\n",
       "      <th>sampling_time</th>\n",
       "      <th>block_var</th>\n",
       "      <th>block_std</th>\n",
       "      <th>energy_per_particle</th>\n",
       "    </tr>\n",
       "  </thead>\n",
       "  <tbody>\n",
       "    <tr>\n",
       "      <th>0</th>\n",
       "      <td>0.4974</td>\n",
       "      <td>120.71287</td>\n",
       "      <td>6.399680e-09</td>\n",
       "      <td>0.00008</td>\n",
       "      <td>0.96314</td>\n",
       "      <td>90.435204</td>\n",
       "      <td>0.000001</td>\n",
       "      <td>0.001182</td>\n",
       "      <td>2.414257</td>\n",
       "    </tr>\n",
       "  </tbody>\n",
       "</table>\n",
       "</div>"
      ],
      "text/plain": [
       "    alpha     energy      variance      std  acceptance  sampling_time  \\\n",
       "0  0.4974  120.71287  6.399680e-09  0.00008     0.96314      90.435204   \n",
       "\n",
       "   block_var  block_std  energy_per_particle  \n",
       "0   0.000001   0.001182             2.414257  "
      ]
     },
     "metadata": {},
     "output_type": "display_data"
    }
   ],
   "source": [
    "display(df_n)"
   ]
  },
  {
   "cell_type": "code",
   "execution_count": 10,
   "metadata": {
    "collapsed": false
   },
   "outputs": [
    {
     "name": "stderr",
     "output_type": "stream",
     "text": [
      "100%|██████████| 1/1 [00:02<00:00,  2.26s/it]\n"
     ]
    }
   ],
   "source": [
    "df_s = run_all(sampler_s, alpha_s, parameter_names, 0, **kwargs)\n",
    "df_s[\"energy_per_particle\"] = df_s[\"energy\"]/num_particles"
   ]
  },
  {
   "cell_type": "code",
   "execution_count": 11,
   "metadata": {
    "collapsed": false
   },
   "outputs": [
    {
     "data": {
      "text/html": [
       "<div>\n",
       "<style scoped>\n",
       "    .dataframe tbody tr th:only-of-type {\n",
       "        vertical-align: middle;\n",
       "    }\n",
       "\n",
       "    .dataframe tbody tr th {\n",
       "        vertical-align: top;\n",
       "    }\n",
       "\n",
       "    .dataframe thead th {\n",
       "        text-align: right;\n",
       "    }\n",
       "</style>\n",
       "<table border=\"1\" class=\"dataframe\">\n",
       "  <thead>\n",
       "    <tr style=\"text-align: right;\">\n",
       "      <th></th>\n",
       "      <th>alpha</th>\n",
       "      <th>energy</th>\n",
       "      <th>variance</th>\n",
       "      <th>std</th>\n",
       "      <th>acceptance</th>\n",
       "      <th>sampling_time</th>\n",
       "      <th>block_var</th>\n",
       "      <th>block_std</th>\n",
       "      <th>energy_per_particle</th>\n",
       "    </tr>\n",
       "  </thead>\n",
       "  <tbody>\n",
       "    <tr>\n",
       "      <th>0</th>\n",
       "      <td>0.5</td>\n",
       "      <td>75.0</td>\n",
       "      <td>0.0</td>\n",
       "      <td>0.0</td>\n",
       "      <td>0.985753</td>\n",
       "      <td>2.233548</td>\n",
       "      <td>0.0</td>\n",
       "      <td>0.0</td>\n",
       "      <td>1.5</td>\n",
       "    </tr>\n",
       "  </tbody>\n",
       "</table>\n",
       "</div>"
      ],
      "text/plain": [
       "   alpha  energy  variance  std  acceptance  sampling_time  block_var  \\\n",
       "0    0.5    75.0       0.0  0.0    0.985753       2.233548        0.0   \n",
       "\n",
       "   block_std  energy_per_particle  \n",
       "0        0.0                  1.5  "
      ]
     },
     "metadata": {},
     "output_type": "display_data"
    }
   ],
   "source": [
    "display(df_s)"
   ]
  },
  {
   "cell_type": "code",
   "execution_count": 12,
   "metadata": {
    "collapsed": true
   },
   "outputs": [],
   "source": [
    "#df_dw = run_all(sampler_dw, alpha_s, parameter_names, 0, **kwargs)\n",
    "#df_dw[\"energy_per_particle\"] = df_dw[\"energy\"]/num_particles"
   ]
  },
  {
   "cell_type": "code",
   "execution_count": 13,
   "metadata": {
    "collapsed": true
   },
   "outputs": [],
   "source": [
    "#display(df_dw)"
   ]
  },
  {
   "cell_type": "code",
   "execution_count": 14,
   "metadata": {
    "collapsed": true
   },
   "outputs": [],
   "source": [
    "#bins_i = sampler_i.get_one_body_densities()\n",
    "#bins_n = sampler_n.get_one_body_densities()\n",
    "#bins_s = sampler_s.get_one_body_densities()\n",
    "#bins_dw = sampler_dw.get_one_body_densities()\n",
    "#radii = np.linspace(r_min, r_max, num_bins)"
   ]
  },
  {
   "cell_type": "code",
   "execution_count": 15,
   "metadata": {
    "collapsed": true
   },
   "outputs": [],
   "source": [
    "#fig = plt.figure()\n",
    "#ax = fig.add_subplot(111, projection=\"3d\")\n",
    "#xv, yv = np.meshgrid(radii, radii)\n",
    "#ax.plot_surface(xv, yv, np.outer(bins_dw[:, ::3], bins_dw[:, ::3]))\n",
    "#plt.show()"
   ]
  },
  {
   "cell_type": "code",
   "execution_count": 16,
   "metadata": {
    "collapsed": true
   },
   "outputs": [],
   "source": [
    "#plt.contourf(radii, radii, np.outer(bins_dw[:, ::3], bins_dw[:, ::3]))\n",
    "#plt.show()"
   ]
  },
  {
   "cell_type": "code",
   "execution_count": 17,
   "metadata": {
    "collapsed": true
   },
   "outputs": [],
   "source": [
    "def get_radial_densities(sampler):\n",
    "    bins = np.linalg.norm(sampler.get_one_body_densities(), axis=1)\n",
    "    return (bins[:bins.size//2])[::-1] + bins[bins.size//2:]"
   ]
  },
  {
   "cell_type": "code",
   "execution_count": 18,
   "metadata": {
    "collapsed": true
   },
   "outputs": [],
   "source": [
    "bins_i = get_radial_densities(sampler_i)\n",
    "bins_n = get_radial_densities(sampler_n)\n",
    "bins_s = get_radial_densities(sampler_s)\n",
    "\n",
    "assert abs(r_max + r_min) < 1e-10, \"Use symmetric bins\"\n",
    "assert bins_i.size == bins_n.size == bins_s.size, \\\n",
    "    \"bins_i.size = {0}, bins_n.size = {1}, bins_s.size = {2}\".format(\n",
    "    bins_i.size, bins_n.size, bins_s.size)\n",
    "\n",
    "radii = np.linspace(0, r_max, bins_i.size)"
   ]
  },
  {
   "cell_type": "code",
   "execution_count": 19,
   "metadata": {
    "collapsed": false
   },
   "outputs": [
    {
     "data": {
      "image/png": "[encoded data removed]",
      "text/plain": [
       "<matplotlib.figure.Figure at 0x7fa1d11e79e8>"
      ]
     },
     "metadata": {},
     "output_type": "display_data"
    }
   ],
   "source": [
    "plt.plot(radii, bins_i, label=r\"Interacting\")\n",
    "plt.plot(radii, bins_n, label=r\"Non interacting\")\n",
    "plt.plot(radii, bins_s, label=r\"Ideal\")\n",
    "#plt.plot(radii, np.linalg.norm(bins_dw, axis=1), label=r\"Double Well\")\n",
    "\n",
    "plt.title(r\"Radial one-body densities\", fontsize=20)\n",
    "plt.xlabel(r\"$|\\mathbf{r}|$\", fontsize=16)\n",
    "plt.ylabel(r\"$\\rho(\\mathbf{r})$\", fontsize=16)\n",
    "plt.xticks(fontsize=14)\n",
    "plt.yticks(fontsize=14)\n",
    "plt.legend(loc=\"best\", fontsize=16)\n",
    "if SAVEFIG:\n",
    "    plt.savefig(\"../data/figures/problem_g_{0}N.pdf\".format(num_particles))\n",
    "\n",
    "plt.show()"
   ]
  }
 ],
 "metadata": {
  "anaconda-cloud": {},
  "kernelspec": {
   "display_name": "Python [default]",
   "language": "python",
   "name": "python3"
  },
  "language_info": {
   "codemirror_mode": {
    "name": "ipython",
    "version": 3
   },
   "file_extension": ".py",
   "mimetype": "text/x-python",
   "name": "python",
   "nbconvert_exporter": "python",
   "pygments_lexer": "ipython3",
   "version": "3.5.2"
  }
 },
 "nbformat": 4,
 "nbformat_minor": 2
}
