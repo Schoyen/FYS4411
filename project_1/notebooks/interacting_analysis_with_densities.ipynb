{
 "cells": [
  {
   "cell_type": "markdown",
   "metadata": {},
   "source": [
    "# Analysis of interacting case for optimal variational parameters"
   ]
  },
  {
   "cell_type": "code",
   "execution_count": 1,
   "metadata": {
    "collapsed": true
   },
   "outputs": [],
   "source": [
    "%matplotlib inline\n",
    "\n",
    "import matplotlib.pyplot as plt\n",
    "from mpl_toolkits.mplot3d import Axes3D\n",
    "import seaborn as sns\n",
    "import pandas as pd\n",
    "import numpy as np\n",
    "\n",
    "from vmc.interface import *\n",
    "from vmc import run_all\n",
    "\n",
    "from IPython.core.display import display"
   ]
  },
  {
   "cell_type": "code",
   "execution_count": 2,
   "metadata": {
    "collapsed": true
   },
   "outputs": [],
   "source": [
    "sns.set(color_codes=True)"
   ]
  },
  {
   "cell_type": "code",
   "execution_count": 3,
   "metadata": {
    "collapsed": true
   },
   "outputs": [],
   "source": [
    "SAVEFIG=False"
   ]
  },
  {
   "cell_type": "code",
   "execution_count": 4,
   "metadata": {
    "collapsed": true
   },
   "outputs": [],
   "source": [
    "mass = 1.0\n",
    "omega = 1.0\n",
    "\n",
    "radius = 0.2\n",
    "beta = _lambda = 2.82843\n",
    "\n",
    "dw_radius = 2.0\n",
    "\n",
    "num_particles = 10\n",
    "num_dimensions = 3\n",
    "\n",
    "step_length = 0.5\n",
    "spread = num_particles*radius*2 + 0.1\n",
    "\n",
    "num_samples = int(2**18)\n",
    "num_thermalization_steps = int(0.1*num_samples)\n",
    "\n",
    "r_min = -4\n",
    "r_max = 4\n",
    "num_bins = 100\n",
    "\n",
    "\n",
    "parameter_names = [\"alpha\"]\n",
    "alpha = np.array([0.4974]).reshape(1, 1)\n",
    "alpha_s = np.array([0.4]).reshape(1, 1)\n",
    "\n",
    "kwargs = {\n",
    "    \"num_samples\": num_samples, \"step_length\": step_length,\n",
    "    \"num_thermalization_steps\": num_thermalization_steps}"
   ]
  },
  {
   "cell_type": "code",
   "execution_count": 5,
   "metadata": {
    "collapsed": true
   },
   "outputs": [],
   "source": [
    "sampler_i = PySampler(\n",
    "    PyInteractingEllipticalGaussian(\n",
    "        num_particles, num_dimensions, mass, omega, beta, radius,\n",
    "        spread=spread\n",
    "    ), PyEllipticalHarmonicOscillator(_lambda),\n",
    "    PyImportanceMetropolis()\n",
    ")\n",
    "\n",
    "sampler_n = PySampler(\n",
    "    PyInteractingEllipticalGaussian(\n",
    "        num_particles, num_dimensions, mass, omega, beta, 0,\n",
    "        spread=np.sqrt(step_length)\n",
    "    ), PyEllipticalHarmonicOscillator(_lambda),\n",
    "    PyImportanceMetropolis()\n",
    ")\n",
    "\n",
    "sampler_s = PySampler(\n",
    "    PySimpleGaussian(\n",
    "        num_particles, num_dimensions, mass, omega, spread=np.sqrt(step_length)\n",
    "    ), PyHarmonicOscillator(),\n",
    "    PyImportanceMetropolis()\n",
    ")\n",
    "\n",
    "#sampler_dw = PySampler(\n",
    "#    PySimpleGaussian(\n",
    "#        num_particles, num_dimensions, mass, omega, spread=np.sqrt(step_length)\n",
    "#    ), PyDoubleWell(dw_radius),\n",
    "#    PyImportanceMetropolis()\n",
    "#)\n",
    "\n",
    "sampler_i.initialize_one_body_densities(r_min, r_max, num_bins)\n",
    "sampler_n.initialize_one_body_densities(r_min, r_max, num_bins)\n",
    "sampler_s.initialize_one_body_densities(r_min, r_max, num_bins)\n",
    "#sampler_dw.initialize_one_body_densities(r_min, r_max, num_bins)"
   ]
  },
  {
   "cell_type": "code",
   "execution_count": 6,
   "metadata": {},
   "outputs": [
    {
     "ename": "TypeError",
     "evalue": "too many arguments: expected 6, got 7",
     "output_type": "error",
     "traceback": [
      "\u001b[0;31m---------------------------------------------------------------------------\u001b[0m",
      "\u001b[0;31mTypeError\u001b[0m                                 Traceback (most recent call last)",
      "\u001b[0;32m<ipython-input-6-bcf661499578>\u001b[0m in \u001b[0;36m<module>\u001b[0;34m()\u001b[0m\n\u001b[0;32m----> 1\u001b[0;31m \u001b[0mdf_i\u001b[0m \u001b[0;34m=\u001b[0m \u001b[0mrun_all\u001b[0m\u001b[0;34m(\u001b[0m\u001b[0msampler_i\u001b[0m\u001b[0;34m,\u001b[0m \u001b[0malpha\u001b[0m\u001b[0;34m,\u001b[0m \u001b[0mparameter_names\u001b[0m\u001b[0;34m,\u001b[0m \u001b[0;36m0\u001b[0m\u001b[0;34m,\u001b[0m \u001b[0;34m**\u001b[0m\u001b[0mkwargs\u001b[0m\u001b[0;34m)\u001b[0m\u001b[0;34m\u001b[0m\u001b[0m\n\u001b[0m\u001b[1;32m      2\u001b[0m \u001b[0mdf_i\u001b[0m\u001b[0;34m[\u001b[0m\u001b[0;34m\"energy_per_particle\"\u001b[0m\u001b[0;34m]\u001b[0m \u001b[0;34m=\u001b[0m \u001b[0mdf_i\u001b[0m\u001b[0;34m[\u001b[0m\u001b[0;34m\"energy\"\u001b[0m\u001b[0;34m]\u001b[0m\u001b[0;34m/\u001b[0m\u001b[0mnum_particles\u001b[0m\u001b[0;34m\u001b[0m\u001b[0m\n",
      "\u001b[0;31mTypeError\u001b[0m: too many arguments: expected 6, got 7"
     ]
    }
   ],
   "source": [
    "df_i = run_all(sampler_i, alpha, parameter_names, 0, **kwargs)\n",
    "df_i[\"energy_per_particle\"] = df_i[\"energy\"]/num_particles"
   ]
  },
  {
   "cell_type": "code",
   "execution_count": null,
   "metadata": {},
   "outputs": [],
   "source": [
    "display(df_i)"
   ]
  },
  {
   "cell_type": "code",
   "execution_count": null,
   "metadata": {},
   "outputs": [],
   "source": [
    "df_n = run_all(sampler_n, alpha, parameter_names, 0, **kwargs)\n",
    "df_n[\"energy_per_particle\"] = df_n[\"energy\"]/num_particles"
   ]
  },
  {
   "cell_type": "code",
   "execution_count": null,
   "metadata": {},
   "outputs": [],
   "source": [
    "display(df_n)"
   ]
  },
  {
   "cell_type": "code",
   "execution_count": null,
   "metadata": {},
   "outputs": [],
   "source": [
    "df_s = run_all(sampler_s, alpha_s, parameter_names, 0, **kwargs)\n",
    "df_s[\"energy_per_particle\"] = df_s[\"energy\"]/num_particles"
   ]
  },
  {
   "cell_type": "code",
   "execution_count": null,
   "metadata": {},
   "outputs": [],
   "source": [
    "display(df_s)"
   ]
  },
  {
   "cell_type": "code",
   "execution_count": null,
   "metadata": {
    "collapsed": true
   },
   "outputs": [],
   "source": [
    "#df_dw = run_all(sampler_dw, alpha_s, parameter_names, 0, **kwargs)\n",
    "#df_dw[\"energy_per_particle\"] = df_dw[\"energy\"]/num_particles"
   ]
  },
  {
   "cell_type": "code",
   "execution_count": null,
   "metadata": {
    "collapsed": true
   },
   "outputs": [],
   "source": [
    "#display(df_dw)"
   ]
  },
  {
   "cell_type": "code",
   "execution_count": null,
   "metadata": {
    "collapsed": true
   },
   "outputs": [],
   "source": [
    "#bins_i = sampler_i.get_one_body_densities()\n",
    "#bins_n = sampler_n.get_one_body_densities()\n",
    "#bins_s = sampler_s.get_one_body_densities()\n",
    "#bins_dw = sampler_dw.get_one_body_densities()\n",
    "#radii = np.linspace(r_min, r_max, num_bins)"
   ]
  },
  {
   "cell_type": "code",
   "execution_count": null,
   "metadata": {
    "collapsed": true
   },
   "outputs": [],
   "source": [
    "#fig = plt.figure()\n",
    "#ax = fig.add_subplot(111, projection=\"3d\")\n",
    "#xv, yv = np.meshgrid(radii, radii)\n",
    "#ax.plot_surface(xv, yv, np.outer(bins_dw[:, ::3], bins_dw[:, ::3]))\n",
    "#plt.show()"
   ]
  },
  {
   "cell_type": "code",
   "execution_count": null,
   "metadata": {
    "collapsed": true
   },
   "outputs": [],
   "source": [
    "#plt.contourf(radii, radii, np.outer(bins_dw[:, ::3], bins_dw[:, ::3]))\n",
    "#plt.show()"
   ]
  },
  {
   "cell_type": "code",
   "execution_count": null,
   "metadata": {
    "collapsed": true
   },
   "outputs": [],
   "source": [
    "def get_radial_densities(sampler):\n",
    "    bins = np.linalg.norm(sampler.get_one_body_densities(), axis=1)\n",
    "    return (bins[:bins.size//2])[::-1] + bins[bins.size//2:]"
   ]
  },
  {
   "cell_type": "code",
   "execution_count": null,
   "metadata": {
    "collapsed": true
   },
   "outputs": [],
   "source": [
    "bins_i = get_radial_densities(sampler_i)\n",
    "bins_n = get_radial_densities(sampler_n)\n",
    "bins_s = get_radial_densities(sampler_s)\n",
    "\n",
    "assert abs(r_max + r_min) < 1e-10, \"Use symmetric bins\"\n",
    "assert bins_i.size == bins_n.size == bins_s.size, \\\n",
    "    \"bins_i.size = {0}, bins_n.size = {1}, bins_s.size = {2}\".format(\n",
    "    bins_i.size, bins_n.size, bins_s.size)\n",
    "\n",
    "radii = np.linspace(0, r_max, bins_i.size)"
   ]
  },
  {
   "cell_type": "code",
   "execution_count": null,
   "metadata": {},
   "outputs": [],
   "source": [
    "plt.plot(radii, bins_i, label=r\"Interacting\")\n",
    "plt.plot(radii, bins_n, label=r\"Non interacting\")\n",
    "plt.plot(radii, bins_s, label=r\"Ideal\")\n",
    "#plt.plot(radii, np.linalg.norm(bins_dw, axis=1), label=r\"Double Well\")\n",
    "\n",
    "plt.title(r\"Radial one-body densities\", fontsize=20)\n",
    "plt.xlabel(r\"$|\\mathbf{r}|$\", fontsize=16)\n",
    "plt.ylabel(r\"$\\rho(\\mathbf{r})$\", fontsize=16)\n",
    "plt.xticks(fontsize=14)\n",
    "plt.yticks(fontsize=14)\n",
    "plt.legend(loc=\"best\", fontsize=16)\n",
    "if SAVEFIG:\n",
    "    plt.savefig(\"../data/figures/problem_g_{0}N.pdf\".format(num_particles))\n",
    "\n",
    "plt.show()"
   ]
  }
 ],
 "metadata": {
  "anaconda-cloud": {},
  "kernelspec": {
   "display_name": "Python 3",
   "language": "python",
   "name": "python3"
  },
  "language_info": {
   "codemirror_mode": {
    "name": "ipython",
    "version": 3
   },
   "file_extension": ".py",
   "mimetype": "text/x-python",
   "name": "python",
   "nbconvert_exporter": "python",
   "pygments_lexer": "ipython3",
   "version": "3.6.1"
  }
 },
 "nbformat": 4,
 "nbformat_minor": 2
}
