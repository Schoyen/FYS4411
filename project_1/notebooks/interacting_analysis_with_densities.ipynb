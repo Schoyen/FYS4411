{
 "cells": [
  {
   "cell_type": "markdown",
   "metadata": {},
   "source": [
    "# Analysis of interacting case for optimal variational parameters"
   ]
  },
  {
   "cell_type": "code",
   "execution_count": 1,
   "metadata": {
    "collapsed": true
   },
   "outputs": [],
   "source": [
    "%matplotlib inline\n",
    "\n",
    "import matplotlib.pyplot as plt\n",
    "import seaborn as sns\n",
    "import pandas as pd\n",
    "import numpy as np\n",
    "\n",
    "from vmc.interface import *\n",
    "from vmc import run_all\n",
    "\n",
    "from IPython.core.display import display"
   ]
  },
  {
   "cell_type": "code",
   "execution_count": 2,
   "metadata": {
    "collapsed": true
   },
   "outputs": [],
   "source": [
    "sns.set(color_codes=True)"
   ]
  },
  {
   "cell_type": "code",
   "execution_count": 3,
   "metadata": {},
   "outputs": [],
   "source": [
    "mass = 1.0\n",
    "omega = 1.0\n",
    "\n",
    "radius = 0.0043\n",
    "beta = _lambda = 2.82843\n",
    "\n",
    "num_particles = 500\n",
    "num_dimensions = 3\n",
    "\n",
    "step_length = 0.1\n",
    "\n",
    "num_samples = int(2**21)\n",
    "num_thermalization_steps = int(0.1*num_samples)\n",
    "\n",
    "r_min = 0\n",
    "r_max = 4\n",
    "num_bins = 100\n",
    "\n",
    "\n",
    "parameter_names = [\"alpha\"]\n",
    "alpha = np.array([0.4974]).reshape(1, 1)\n",
    "\n",
    "kwargs = {\n",
    "    \"num_samples\": num_samples, \"step_length\": step_length,\n",
    "    \"num_thermalization_steps\": num_thermalization_steps}"
   ]
  },
  {
   "cell_type": "code",
   "execution_count": null,
   "metadata": {},
   "outputs": [],
   "source": [
    "sampler_i = PySampler(\n",
    "    PyInteractingEllipticalGaussian(\n",
    "        num_particles, num_dimensions, mass, omega, beta, radius,\n",
    "        spread=step_length\n",
    "    ), PyEllipticalHarmonicOscillator(_lambda),\n",
    "    PyImportanceMetropolis()\n",
    ")\n",
    "\n",
    "sampler_s = PySampler(\n",
    "    PyInteractingEllipticalGaussian(\n",
    "        num_particles, num_dimensions, mass, omega, beta, 0,\n",
    "        spread=step_length\n",
    "    ), PyEllipticalHarmonicOscillator(_lambda),\n",
    "    PyImportanceMetropolis()\n",
    ")\n",
    "\n",
    "sampler_i.initialize_one_body_densities(r_min, r_max, num_bins)\n",
    "sampler_s.initialize_one_body_densities(r_min, r_max, num_bins)"
   ]
  },
  {
   "cell_type": "code",
   "execution_count": null,
   "metadata": {},
   "outputs": [
    {
     "name": "stderr",
     "output_type": "stream",
     "text": [
      "\r",
      "  0%|          | 0/1 [00:00<?, ?it/s]"
     ]
    }
   ],
   "source": [
    "df_i = run_all(sampler_i, alpha, parameter_names, 0, **kwargs)\n",
    "df_i[\"energy_per_particle\"] = df_i[\"energy\"]/num_particles"
   ]
  },
  {
   "cell_type": "code",
   "execution_count": null,
   "metadata": {},
   "outputs": [],
   "source": [
    "display(df_i)"
   ]
  },
  {
   "cell_type": "code",
   "execution_count": null,
   "metadata": {},
   "outputs": [],
   "source": [
    "df_s = run_all(sampler_s, alpha, parameter_names, 0, **kwargs)\n",
    "df_s[\"energy_per_particle\"] = df_s[\"energy\"]/num_particles"
   ]
  },
  {
   "cell_type": "code",
   "execution_count": null,
   "metadata": {},
   "outputs": [],
   "source": [
    "display(df_s)"
   ]
  },
  {
   "cell_type": "code",
   "execution_count": null,
   "metadata": {
    "collapsed": true
   },
   "outputs": [],
   "source": [
    "bins_i = sampler_i.get_one_body_densities()\n",
    "bins_s = sampler_s.get_one_body_densities()\n",
    "radii = np.linspace(r_min, r_max, num_bins)"
   ]
  },
  {
   "cell_type": "code",
   "execution_count": null,
   "metadata": {},
   "outputs": [],
   "source": [
    "plt.plot(radii, bins_i, label=r\"Interacting\")\n",
    "plt.plot(radii, bins_s, label=r\"Non interacting\")\n",
    "plt.title(r\"Radial one-body density\", fontsize=20)\n",
    "plt.xlabel(r\"$|\\mathbf{r}|$\", fontsize=16)\n",
    "plt.ylabel(r\"$\\rho(\\mathbf{r})$\", fontsize=16)\n",
    "plt.xticks(fontsize=14)\n",
    "plt.yticks(fontsize=14)\n",
    "plt.legend(loc=\"best\", fontsize=16)\n",
    "plt.savefig(\"../data/figures/problem_g.pdf\")\n",
    "plt.show()"
   ]
  }
 ],
 "metadata": {
  "kernelspec": {
   "display_name": "Python 3",
   "language": "python",
   "name": "python3"
  },
  "language_info": {
   "codemirror_mode": {
    "name": "ipython",
    "version": 3
   },
   "file_extension": ".py",
   "mimetype": "text/x-python",
   "name": "python",
   "nbconvert_exporter": "python",
   "pygments_lexer": "ipython3",
   "version": "3.6.1"
  }
 },
 "nbformat": 4,
 "nbformat_minor": 2
}
