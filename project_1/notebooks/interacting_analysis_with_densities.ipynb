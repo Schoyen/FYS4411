{
 "cells": [
  {
   "cell_type": "markdown",
   "metadata": {},
   "source": [
    "# Analysis of interacting case for optimal variational parameters"
   ]
  },
  {
   "cell_type": "code",
   "execution_count": 1,
   "metadata": {
    "collapsed": true
   },
   "outputs": [],
   "source": [
    "%matplotlib inline\n",
    "\n",
    "import matplotlib.pyplot as plt\n",
    "import seaborn as sns\n",
    "import pandas as pd\n",
    "import numpy as np\n",
    "\n",
    "from vmc.interface import *\n",
    "from vmc import run_all\n",
    "\n",
    "from IPython.core.display import display"
   ]
  },
  {
   "cell_type": "code",
   "execution_count": 2,
   "metadata": {
    "collapsed": true
   },
   "outputs": [],
   "source": [
    "sns.set(color_codes=True)"
   ]
  },
  {
   "cell_type": "code",
   "execution_count": 3,
   "metadata": {},
   "outputs": [],
   "source": [
    "mass = 1.0\n",
    "omega = 1.0\n",
    "\n",
    "radius = 0.0043\n",
    "beta = _lambda = 2.82843\n",
    "\n",
    "num_particles = 10\n",
    "num_dimensions = 3\n",
    "\n",
    "step_length = 0.1\n",
    "\n",
    "num_samples = int(2**16)\n",
    "num_thermalization_steps = int(0.1*num_samples)\n",
    "\n",
    "r_min = 0\n",
    "r_max = 4\n",
    "num_bins = 100\n",
    "\n",
    "\n",
    "parameter_names = [\"alpha\"]\n",
    "alpha = np.array([0.4974]).reshape(1, 1)\n",
    "\n",
    "kwargs = {\n",
    "    \"num_samples\": num_samples, \"step_length\": step_length,\n",
    "    \"num_thermalization_steps\": num_thermalization_steps}"
   ]
  },
  {
   "cell_type": "code",
   "execution_count": 4,
   "metadata": {},
   "outputs": [],
   "source": [
    "sampler_i = PySampler(\n",
    "    PyInteractingEllipticalGaussian(\n",
    "        num_particles, num_dimensions, mass, omega, beta, radius,\n",
    "        spread=step_length\n",
    "    ), PyEllipticalHarmonicOscillator(_lambda),\n",
    "    PyImportanceMetropolis()\n",
    ")\n",
    "\n",
    "sampler_s = PySampler(\n",
    "    PyInteractingEllipticalGaussian(\n",
    "        num_particles, num_dimensions, mass, omega, beta, 0,\n",
    "        spread=step_length\n",
    "    ), PyEllipticalHarmonicOscillator(_lambda),\n",
    "    PyImportanceMetropolis()\n",
    ")\n",
    "\n",
    "sampler_i.initialize_one_body_densities(r_min, r_max, num_bins)\n",
    "sampler_s.initialize_one_body_densities(r_min, r_max, num_bins)"
   ]
  },
  {
   "cell_type": "code",
   "execution_count": 5,
   "metadata": {},
   "outputs": [
    {
     "name": "stderr",
     "output_type": "stream",
     "text": [
      "100%|██████████| 1/1 [00:00<00:00,  1.08it/s]\n"
     ]
    }
   ],
   "source": [
    "df_i = run_all(sampler_i, alpha, parameter_names, 0, **kwargs)"
   ]
  },
  {
   "cell_type": "code",
   "execution_count": 6,
   "metadata": {},
   "outputs": [
    {
     "data": {
      "text/html": [
       "<div>\n",
       "<style scoped>\n",
       "    .dataframe tbody tr th:only-of-type {\n",
       "        vertical-align: middle;\n",
       "    }\n",
       "\n",
       "    .dataframe tbody tr th {\n",
       "        vertical-align: top;\n",
       "    }\n",
       "\n",
       "    .dataframe thead th {\n",
       "        text-align: right;\n",
       "    }\n",
       "</style>\n",
       "<table border=\"1\" class=\"dataframe\">\n",
       "  <thead>\n",
       "    <tr style=\"text-align: right;\">\n",
       "      <th></th>\n",
       "      <th>alpha</th>\n",
       "      <th>energy</th>\n",
       "      <th>variance</th>\n",
       "      <th>std</th>\n",
       "      <th>acceptance</th>\n",
       "      <th>sampling_time</th>\n",
       "      <th>block_var</th>\n",
       "      <th>block_std</th>\n",
       "    </tr>\n",
       "  </thead>\n",
       "  <tbody>\n",
       "    <tr>\n",
       "      <th>0</th>\n",
       "      <td>0.4974</td>\n",
       "      <td>24.396676</td>\n",
       "      <td>4.088863e-08</td>\n",
       "      <td>0.000202</td>\n",
       "      <td>0.961777</td>\n",
       "      <td>0.899579</td>\n",
       "      <td>0.000001</td>\n",
       "      <td>0.001218</td>\n",
       "    </tr>\n",
       "  </tbody>\n",
       "</table>\n",
       "</div>"
      ],
      "text/plain": [
       "    alpha     energy      variance       std  acceptance  sampling_time  \\\n",
       "0  0.4974  24.396676  4.088863e-08  0.000202    0.961777       0.899579   \n",
       "\n",
       "   block_var  block_std  \n",
       "0   0.000001   0.001218  "
      ]
     },
     "metadata": {},
     "output_type": "display_data"
    }
   ],
   "source": [
    "display(df_i)"
   ]
  },
  {
   "cell_type": "code",
   "execution_count": 7,
   "metadata": {},
   "outputs": [
    {
     "name": "stderr",
     "output_type": "stream",
     "text": [
      "100%|██████████| 1/1 [00:00<00:00,  1.13it/s]\n"
     ]
    }
   ],
   "source": [
    "df_s = run_all(sampler_s, alpha, parameter_names, 0, **kwargs)"
   ]
  },
  {
   "cell_type": "code",
   "execution_count": 8,
   "metadata": {},
   "outputs": [
    {
     "data": {
      "text/html": [
       "<div>\n",
       "<style scoped>\n",
       "    .dataframe tbody tr th:only-of-type {\n",
       "        vertical-align: middle;\n",
       "    }\n",
       "\n",
       "    .dataframe tbody tr th {\n",
       "        vertical-align: top;\n",
       "    }\n",
       "\n",
       "    .dataframe thead th {\n",
       "        text-align: right;\n",
       "    }\n",
       "</style>\n",
       "<table border=\"1\" class=\"dataframe\">\n",
       "  <thead>\n",
       "    <tr style=\"text-align: right;\">\n",
       "      <th></th>\n",
       "      <th>alpha</th>\n",
       "      <th>energy</th>\n",
       "      <th>variance</th>\n",
       "      <th>std</th>\n",
       "      <th>acceptance</th>\n",
       "      <th>sampling_time</th>\n",
       "      <th>block_var</th>\n",
       "      <th>block_std</th>\n",
       "    </tr>\n",
       "  </thead>\n",
       "  <tbody>\n",
       "    <tr>\n",
       "      <th>0</th>\n",
       "      <td>0.4974</td>\n",
       "      <td>24.143889</td>\n",
       "      <td>2.187893e-08</td>\n",
       "      <td>0.000148</td>\n",
       "      <td>0.964127</td>\n",
       "      <td>0.878375</td>\n",
       "      <td>9.250103e-07</td>\n",
       "      <td>0.000962</td>\n",
       "    </tr>\n",
       "  </tbody>\n",
       "</table>\n",
       "</div>"
      ],
      "text/plain": [
       "    alpha     energy      variance       std  acceptance  sampling_time  \\\n",
       "0  0.4974  24.143889  2.187893e-08  0.000148    0.964127       0.878375   \n",
       "\n",
       "      block_var  block_std  \n",
       "0  9.250103e-07   0.000962  "
      ]
     },
     "metadata": {},
     "output_type": "display_data"
    }
   ],
   "source": [
    "display(df_s)"
   ]
  },
  {
   "cell_type": "code",
   "execution_count": 9,
   "metadata": {
    "collapsed": true
   },
   "outputs": [],
   "source": [
    "bins_i = sampler_i.get_one_body_densities()\n",
    "bins_s = sampler_s.get_one_body_densities()\n",
    "radii = np.linspace(r_min, r_max, num_bins)"
   ]
  },
  {
   "cell_type": "code",
   "execution_count": 16,
   "metadata": {},
   "outputs": [
    {
     "data": {
      "image/png": "[encoded data removed]",
      "text/plain": [
       "<matplotlib.figure.Figure at 0x1120f5b00>"
      ]
     },
     "metadata": {},
     "output_type": "display_data"
    }
   ],
   "source": [
    "plt.plot(radii, bins_i, label=r\"Interacting\")\n",
    "plt.plot(radii, bins_s, label=r\"Non interacting\")\n",
    "plt.title(r\"Radial one-body density\", fontsize=20)\n",
    "plt.xlabel(r\"$|\\mathbf{r}|$\", fontsize=16)\n",
    "plt.ylabel(r\"$\\rho(\\mathbf{r})$\", fontsize=16)\n",
    "plt.xticks(fontsize=14)\n",
    "plt.yticks(fontsize=14)\n",
    "plt.legend(loc=\"best\", fontsize=16)\n",
    "plt.savefig(\"../data/figures/problem_g.pdf\")\n",
    "plt.show()"
   ]
  }
 ],
 "metadata": {
  "kernelspec": {
   "display_name": "Python 3",
   "language": "python",
   "name": "python3"
  },
  "language_info": {
   "codemirror_mode": {
    "name": "ipython",
    "version": 3
   },
   "file_extension": ".py",
   "mimetype": "text/x-python",
   "name": "python",
   "nbconvert_exporter": "python",
   "pygments_lexer": "ipython3",
   "version": "3.6.1"
  }
 },
 "nbformat": 4,
 "nbformat_minor": 2
}
