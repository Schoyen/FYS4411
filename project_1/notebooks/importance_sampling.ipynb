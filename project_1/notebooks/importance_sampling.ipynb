{
 "cells": [
  {
   "cell_type": "markdown",
   "metadata": {},
   "source": [
    "# Importance sampling"
   ]
  },
  {
   "cell_type": "code",
   "execution_count": 1,
   "metadata": {
    "collapsed": true
   },
   "outputs": [],
   "source": [
    "%matplotlib inline\n",
    "\n",
    "import matplotlib.pyplot as plt\n",
    "import seaborn as sns\n",
    "import numpy as np\n",
    "import pandas as pd\n",
    "\n",
    "from vmc.interface import PyHarmonicOscillator, PyMetropolisAlgorithm, \\\n",
    "    PySimpleGaussian, PySampler, PyImportanceMetropolis\n",
    "from vmc import run_experiment\n",
    "\n",
    "from IPython.core.pylabtools import figsize\n",
    "from IPython.core.display import display"
   ]
  },
  {
   "cell_type": "code",
   "execution_count": 2,
   "metadata": {
    "collapsed": true
   },
   "outputs": [],
   "source": [
    "sns.set(color_codes=True)"
   ]
  },
  {
   "cell_type": "code",
   "execution_count": 3,
   "metadata": {
    "collapsed": true
   },
   "outputs": [],
   "source": [
    "mass = 1.0\n",
    "omega = 1.0\n",
    "diffusion_coefficient = 0.5\n",
    "\n",
    "step_length = 2.0\n",
    "time_step = 0.5"
   ]
  },
  {
   "cell_type": "code",
   "execution_count": 4,
   "metadata": {
    "collapsed": false
   },
   "outputs": [],
   "source": [
    "alpha_min = 0.1\n",
    "alpha_max = 0.9\n",
    "num_alphas = 17\n",
    "\n",
    "parameter_names = [\"alpha\"]\n",
    "\n",
    "alphas = np.linspace(alpha_min, alpha_max, num_alphas).reshape(num_alphas, 1)"
   ]
  },
  {
   "cell_type": "code",
   "execution_count": 5,
   "metadata": {
    "collapsed": false
   },
   "outputs": [],
   "source": [
    "num_particles = 10\n",
    "num_dimensions = 3\n",
    "num_samples = int(1e5)\n",
    "\n",
    "num_thermalization_steps = 0\n",
    "\n",
    "kwargs = {\n",
    "    \"num_samples\": num_samples, \"step_length\": step_length,\n",
    "    \"num_thermalization_steps\": num_thermalization_steps\n",
    "}"
   ]
  },
  {
   "cell_type": "code",
   "execution_count": 6,
   "metadata": {
    "collapsed": false
   },
   "outputs": [],
   "source": [
    "wavefunction_importance = PySimpleGaussian(\n",
    "    num_particles, num_dimensions, mass, omega, spread=step_length)\n",
    "sampler_importance = PySampler(\n",
    "    wavefunction_importance, PyHarmonicOscillator(),\n",
    "    PyImportanceMetropolis(time_step, diffusion_coefficient))"
   ]
  },
  {
   "cell_type": "code",
   "execution_count": 7,
   "metadata": {
    "collapsed": false
   },
   "outputs": [
    {
     "name": "stderr",
     "output_type": "stream",
     "text": [
      "100%|██████████| 17/17 [00:00<00:00, 17.17it/s]\n"
     ]
    }
   ],
   "source": [
    "df_importance = run_experiment(\n",
    "    sampler_importance, wavefunction_importance, alphas,\n",
    "    parameter_names, **kwargs)"
   ]
  },
  {
   "cell_type": "code",
   "execution_count": 8,
   "metadata": {
    "collapsed": true
   },
   "outputs": [],
   "source": [
    "wavefunction = PySimpleGaussian(\n",
    "    num_particles, num_dimensions, mass, omega, spread=step_length)\n",
    "sampler = PySampler(\n",
    "    wavefunction, PyHarmonicOscillator(),\n",
    "    PyMetropolisAlgorithm())"
   ]
  },
  {
   "cell_type": "code",
   "execution_count": 9,
   "metadata": {
    "collapsed": false
   },
   "outputs": [
    {
     "name": "stderr",
     "output_type": "stream",
     "text": [
      "100%|██████████| 17/17 [00:00<00:00, 33.77it/s]\n"
     ]
    }
   ],
   "source": [
    "df = run_experiment(\n",
    "    sampler, wavefunction, alphas,\n",
    "    parameter_names, **kwargs)"
   ]
  },
  {
   "cell_type": "code",
   "execution_count": 10,
   "metadata": {
    "collapsed": false
   },
   "outputs": [
    {
     "data": {
      "text/html": [
       "<div>\n",
       "<table border=\"1\" class=\"dataframe\">\n",
       "  <thead>\n",
       "    <tr style=\"text-align: right;\">\n",
       "      <th></th>\n",
       "      <th>alpha</th>\n",
       "      <th>energy</th>\n",
       "      <th>variance</th>\n",
       "      <th>acceptance</th>\n",
       "    </tr>\n",
       "  </thead>\n",
       "  <tbody>\n",
       "    <tr>\n",
       "      <th>0</th>\n",
       "      <td>0.10</td>\n",
       "      <td>39.006073</td>\n",
       "      <td>84.193585</td>\n",
       "      <td>0.98624</td>\n",
       "    </tr>\n",
       "    <tr>\n",
       "      <th>1</th>\n",
       "      <td>0.15</td>\n",
       "      <td>27.312300</td>\n",
       "      <td>33.468363</td>\n",
       "      <td>0.97486</td>\n",
       "    </tr>\n",
       "    <tr>\n",
       "      <th>2</th>\n",
       "      <td>0.20</td>\n",
       "      <td>21.681833</td>\n",
       "      <td>15.999902</td>\n",
       "      <td>0.96007</td>\n",
       "    </tr>\n",
       "    <tr>\n",
       "      <th>3</th>\n",
       "      <td>0.25</td>\n",
       "      <td>18.851310</td>\n",
       "      <td>8.529775</td>\n",
       "      <td>0.94431</td>\n",
       "    </tr>\n",
       "    <tr>\n",
       "      <th>4</th>\n",
       "      <td>0.30</td>\n",
       "      <td>17.035867</td>\n",
       "      <td>4.223166</td>\n",
       "      <td>0.92571</td>\n",
       "    </tr>\n",
       "    <tr>\n",
       "      <th>5</th>\n",
       "      <td>0.35</td>\n",
       "      <td>15.970687</td>\n",
       "      <td>1.936703</td>\n",
       "      <td>0.90811</td>\n",
       "    </tr>\n",
       "    <tr>\n",
       "      <th>6</th>\n",
       "      <td>0.40</td>\n",
       "      <td>15.363012</td>\n",
       "      <td>0.738618</td>\n",
       "      <td>0.88693</td>\n",
       "    </tr>\n",
       "    <tr>\n",
       "      <th>7</th>\n",
       "      <td>0.45</td>\n",
       "      <td>15.096167</td>\n",
       "      <td>0.172260</td>\n",
       "      <td>0.86610</td>\n",
       "    </tr>\n",
       "    <tr>\n",
       "      <th>8</th>\n",
       "      <td>0.50</td>\n",
       "      <td>15.000000</td>\n",
       "      <td>0.000000</td>\n",
       "      <td>0.84326</td>\n",
       "    </tr>\n",
       "    <tr>\n",
       "      <th>9</th>\n",
       "      <td>0.55</td>\n",
       "      <td>15.069014</td>\n",
       "      <td>0.140493</td>\n",
       "      <td>0.81855</td>\n",
       "    </tr>\n",
       "    <tr>\n",
       "      <th>10</th>\n",
       "      <td>0.60</td>\n",
       "      <td>15.230723</td>\n",
       "      <td>0.521550</td>\n",
       "      <td>0.79409</td>\n",
       "    </tr>\n",
       "    <tr>\n",
       "      <th>11</th>\n",
       "      <td>0.65</td>\n",
       "      <td>15.530203</td>\n",
       "      <td>1.085915</td>\n",
       "      <td>0.76797</td>\n",
       "    </tr>\n",
       "    <tr>\n",
       "      <th>12</th>\n",
       "      <td>0.70</td>\n",
       "      <td>15.855762</td>\n",
       "      <td>1.768640</td>\n",
       "      <td>0.74313</td>\n",
       "    </tr>\n",
       "    <tr>\n",
       "      <th>13</th>\n",
       "      <td>0.75</td>\n",
       "      <td>16.232106</td>\n",
       "      <td>2.621289</td>\n",
       "      <td>0.71809</td>\n",
       "    </tr>\n",
       "    <tr>\n",
       "      <th>14</th>\n",
       "      <td>0.80</td>\n",
       "      <td>16.696880</td>\n",
       "      <td>3.592077</td>\n",
       "      <td>0.69039</td>\n",
       "    </tr>\n",
       "    <tr>\n",
       "      <th>15</th>\n",
       "      <td>0.85</td>\n",
       "      <td>17.132714</td>\n",
       "      <td>4.536634</td>\n",
       "      <td>0.66644</td>\n",
       "    </tr>\n",
       "    <tr>\n",
       "      <th>16</th>\n",
       "      <td>0.90</td>\n",
       "      <td>17.565116</td>\n",
       "      <td>5.952728</td>\n",
       "      <td>0.64131</td>\n",
       "    </tr>\n",
       "  </tbody>\n",
       "</table>\n",
       "</div>"
      ],
      "text/plain": [
       "    alpha     energy   variance  acceptance\n",
       "0    0.10  39.006073  84.193585     0.98624\n",
       "1    0.15  27.312300  33.468363     0.97486\n",
       "2    0.20  21.681833  15.999902     0.96007\n",
       "3    0.25  18.851310   8.529775     0.94431\n",
       "4    0.30  17.035867   4.223166     0.92571\n",
       "5    0.35  15.970687   1.936703     0.90811\n",
       "6    0.40  15.363012   0.738618     0.88693\n",
       "7    0.45  15.096167   0.172260     0.86610\n",
       "8    0.50  15.000000   0.000000     0.84326\n",
       "9    0.55  15.069014   0.140493     0.81855\n",
       "10   0.60  15.230723   0.521550     0.79409\n",
       "11   0.65  15.530203   1.085915     0.76797\n",
       "12   0.70  15.855762   1.768640     0.74313\n",
       "13   0.75  16.232106   2.621289     0.71809\n",
       "14   0.80  16.696880   3.592077     0.69039\n",
       "15   0.85  17.132714   4.536634     0.66644\n",
       "16   0.90  17.565116   5.952728     0.64131"
      ]
     },
     "metadata": {},
     "output_type": "display_data"
    }
   ],
   "source": [
    "display(df_importance)"
   ]
  },
  {
   "cell_type": "code",
   "execution_count": 11,
   "metadata": {
    "collapsed": false
   },
   "outputs": [
    {
     "data": {
      "text/html": [
       "<div>\n",
       "<table border=\"1\" class=\"dataframe\">\n",
       "  <thead>\n",
       "    <tr style=\"text-align: right;\">\n",
       "      <th></th>\n",
       "      <th>alpha</th>\n",
       "      <th>energy</th>\n",
       "      <th>variance</th>\n",
       "      <th>acceptance</th>\n",
       "    </tr>\n",
       "  </thead>\n",
       "  <tbody>\n",
       "    <tr>\n",
       "      <th>0</th>\n",
       "      <td>0.10</td>\n",
       "      <td>38.664703</td>\n",
       "      <td>82.876745</td>\n",
       "      <td>0.55187</td>\n",
       "    </tr>\n",
       "    <tr>\n",
       "      <th>1</th>\n",
       "      <td>0.15</td>\n",
       "      <td>27.117352</td>\n",
       "      <td>35.370782</td>\n",
       "      <td>0.46607</td>\n",
       "    </tr>\n",
       "    <tr>\n",
       "      <th>2</th>\n",
       "      <td>0.20</td>\n",
       "      <td>21.890467</td>\n",
       "      <td>17.438894</td>\n",
       "      <td>0.40596</td>\n",
       "    </tr>\n",
       "    <tr>\n",
       "      <th>3</th>\n",
       "      <td>0.25</td>\n",
       "      <td>18.683476</td>\n",
       "      <td>8.665071</td>\n",
       "      <td>0.35396</td>\n",
       "    </tr>\n",
       "    <tr>\n",
       "      <th>4</th>\n",
       "      <td>0.30</td>\n",
       "      <td>16.948329</td>\n",
       "      <td>3.930849</td>\n",
       "      <td>0.31470</td>\n",
       "    </tr>\n",
       "    <tr>\n",
       "      <th>5</th>\n",
       "      <td>0.35</td>\n",
       "      <td>15.895134</td>\n",
       "      <td>2.078105</td>\n",
       "      <td>0.28081</td>\n",
       "    </tr>\n",
       "    <tr>\n",
       "      <th>6</th>\n",
       "      <td>0.40</td>\n",
       "      <td>15.326953</td>\n",
       "      <td>0.711532</td>\n",
       "      <td>0.25120</td>\n",
       "    </tr>\n",
       "    <tr>\n",
       "      <th>7</th>\n",
       "      <td>0.45</td>\n",
       "      <td>15.068974</td>\n",
       "      <td>0.166125</td>\n",
       "      <td>0.22636</td>\n",
       "    </tr>\n",
       "    <tr>\n",
       "      <th>8</th>\n",
       "      <td>0.50</td>\n",
       "      <td>15.000000</td>\n",
       "      <td>0.000000</td>\n",
       "      <td>0.20739</td>\n",
       "    </tr>\n",
       "    <tr>\n",
       "      <th>9</th>\n",
       "      <td>0.55</td>\n",
       "      <td>15.050113</td>\n",
       "      <td>0.145721</td>\n",
       "      <td>0.19004</td>\n",
       "    </tr>\n",
       "    <tr>\n",
       "      <th>10</th>\n",
       "      <td>0.60</td>\n",
       "      <td>15.242532</td>\n",
       "      <td>0.518583</td>\n",
       "      <td>0.17322</td>\n",
       "    </tr>\n",
       "    <tr>\n",
       "      <th>11</th>\n",
       "      <td>0.65</td>\n",
       "      <td>15.546015</td>\n",
       "      <td>1.033776</td>\n",
       "      <td>0.15925</td>\n",
       "    </tr>\n",
       "    <tr>\n",
       "      <th>12</th>\n",
       "      <td>0.70</td>\n",
       "      <td>15.907266</td>\n",
       "      <td>1.802904</td>\n",
       "      <td>0.14614</td>\n",
       "    </tr>\n",
       "    <tr>\n",
       "      <th>13</th>\n",
       "      <td>0.75</td>\n",
       "      <td>16.211269</td>\n",
       "      <td>2.684646</td>\n",
       "      <td>0.13505</td>\n",
       "    </tr>\n",
       "    <tr>\n",
       "      <th>14</th>\n",
       "      <td>0.80</td>\n",
       "      <td>16.682367</td>\n",
       "      <td>4.239192</td>\n",
       "      <td>0.12702</td>\n",
       "    </tr>\n",
       "    <tr>\n",
       "      <th>15</th>\n",
       "      <td>0.85</td>\n",
       "      <td>17.279863</td>\n",
       "      <td>5.107517</td>\n",
       "      <td>0.11627</td>\n",
       "    </tr>\n",
       "    <tr>\n",
       "      <th>16</th>\n",
       "      <td>0.90</td>\n",
       "      <td>17.669182</td>\n",
       "      <td>5.854382</td>\n",
       "      <td>0.10756</td>\n",
       "    </tr>\n",
       "  </tbody>\n",
       "</table>\n",
       "</div>"
      ],
      "text/plain": [
       "    alpha     energy   variance  acceptance\n",
       "0    0.10  38.664703  82.876745     0.55187\n",
       "1    0.15  27.117352  35.370782     0.46607\n",
       "2    0.20  21.890467  17.438894     0.40596\n",
       "3    0.25  18.683476   8.665071     0.35396\n",
       "4    0.30  16.948329   3.930849     0.31470\n",
       "5    0.35  15.895134   2.078105     0.28081\n",
       "6    0.40  15.326953   0.711532     0.25120\n",
       "7    0.45  15.068974   0.166125     0.22636\n",
       "8    0.50  15.000000   0.000000     0.20739\n",
       "9    0.55  15.050113   0.145721     0.19004\n",
       "10   0.60  15.242532   0.518583     0.17322\n",
       "11   0.65  15.546015   1.033776     0.15925\n",
       "12   0.70  15.907266   1.802904     0.14614\n",
       "13   0.75  16.211269   2.684646     0.13505\n",
       "14   0.80  16.682367   4.239192     0.12702\n",
       "15   0.85  17.279863   5.107517     0.11627\n",
       "16   0.90  17.669182   5.854382     0.10756"
      ]
     },
     "metadata": {},
     "output_type": "display_data"
    }
   ],
   "source": [
    "display(df)"
   ]
  },
  {
   "cell_type": "code",
   "execution_count": 12,
   "metadata": {
    "collapsed": false
   },
   "outputs": [
    {
     "data": {
      "image/png": "[encoded data removed]",
      "text/plain": [
       "<matplotlib.figure.Figure at 0x7f39c740d080>"
      ]
     },
     "metadata": {},
     "output_type": "display_data"
    }
   ],
   "source": [
    "plt.plot(\n",
    "    df_importance[\"alpha\"], df_importance[\"energy\"],\n",
    "    label=\"Importance\"\n",
    ")\n",
    "plt.plot(\n",
    "    df[\"alpha\"], df[\"energy\"],\n",
    "    label=\"Brute force\"\n",
    ")\n",
    "plt.legend(loc=\"best\")\n",
    "plt.show()"
   ]
  }
 ],
 "metadata": {
  "anaconda-cloud": {},
  "kernelspec": {
   "display_name": "Python [conda root]",
   "language": "python",
   "name": "conda-root-py"
  },
  "language_info": {
   "codemirror_mode": {
    "name": "ipython",
    "version": 3
   },
   "file_extension": ".py",
   "mimetype": "text/x-python",
   "name": "python",
   "nbconvert_exporter": "python",
   "pygments_lexer": "ipython3",
   "version": "3.5.2"
  }
 },
 "nbformat": 4,
 "nbformat_minor": 1
}
