{
 "cells": [
  {
   "cell_type": "markdown",
   "metadata": {},
   "source": [
    "# Importance sampling"
   ]
  },
  {
   "cell_type": "code",
   "execution_count": 1,
   "metadata": {
    "collapsed": true
   },
   "outputs": [],
   "source": [
    "%matplotlib inline\n",
    "\n",
    "import matplotlib.pyplot as plt\n",
    "import seaborn as sns\n",
    "import numpy as np\n",
    "import pandas as pd\n",
    "\n",
    "from vmc.interface import PyHarmonicOscillator, PyMetropolisAlgorithm, \\\n",
    "    PySimpleGaussian, PySampler, PyImportanceMetropolis\n",
    "from vmc import run_experiment\n",
    "\n",
    "from IPython.core.pylabtools import figsize\n",
    "from IPython.core.display import display"
   ]
  },
  {
   "cell_type": "code",
   "execution_count": 2,
   "metadata": {
    "collapsed": true
   },
   "outputs": [],
   "source": [
    "sns.set(color_codes=True)"
   ]
  },
  {
   "cell_type": "code",
   "execution_count": 3,
   "metadata": {
    "collapsed": true
   },
   "outputs": [],
   "source": [
    "mass = 1.0\n",
    "omega = 1.0\n",
    "diffusion_coefficient = 0.5\n",
    "\n",
    "step_length = 1.0\n",
    "time_step = 0.5"
   ]
  },
  {
   "cell_type": "code",
   "execution_count": 4,
   "metadata": {
    "collapsed": false
   },
   "outputs": [],
   "source": [
    "alpha_min = 0.1\n",
    "alpha_max = 0.9\n",
    "num_alphas = 17\n",
    "\n",
    "parameter_names = [\"alpha\"]\n",
    "\n",
    "alphas = np.linspace(alpha_min, alpha_max, num_alphas).reshape(num_alphas, 1)"
   ]
  },
  {
   "cell_type": "code",
   "execution_count": 5,
   "metadata": {
    "collapsed": false
   },
   "outputs": [],
   "source": [
    "num_particles = 500\n",
    "num_dimensions = 3\n",
    "num_samples = int(1e6)\n",
    "\n",
    "num_thermalization_steps = 0\n",
    "\n",
    "kwargs = {\n",
    "    \"num_samples\": num_samples, \"step_length\": step_length,\n",
    "    \"num_thermalization_steps\": num_thermalization_steps\n",
    "}"
   ]
  },
  {
   "cell_type": "code",
   "execution_count": 6,
   "metadata": {
    "collapsed": false
   },
   "outputs": [],
   "source": [
    "wavefunction_importance = PySimpleGaussian(\n",
    "    num_particles, num_dimensions, mass, omega, spread=step_length)\n",
    "sampler_importance = PySampler(\n",
    "    wavefunction_importance, PyHarmonicOscillator(),\n",
    "    PyImportanceMetropolis(time_step, diffusion_coefficient))"
   ]
  },
  {
   "cell_type": "code",
   "execution_count": 7,
   "metadata": {
    "collapsed": false
   },
   "outputs": [
    {
     "name": "stderr",
     "output_type": "stream",
     "text": [
      "100%|██████████| 17/17 [02:21<00:00,  8.32s/it]\n"
     ]
    }
   ],
   "source": [
    "df_importance = run_experiment(\n",
    "    sampler_importance, wavefunction_importance, alphas,\n",
    "    parameter_names, **kwargs)"
   ]
  },
  {
   "cell_type": "code",
   "execution_count": 8,
   "metadata": {
    "collapsed": true
   },
   "outputs": [],
   "source": [
    "wavefunction = PySimpleGaussian(\n",
    "    num_particles, num_dimensions, mass, omega, spread=step_length)\n",
    "sampler = PySampler(\n",
    "    wavefunction, PyHarmonicOscillator(),\n",
    "    PyMetropolisAlgorithm())"
   ]
  },
  {
   "cell_type": "code",
   "execution_count": 9,
   "metadata": {
    "collapsed": false
   },
   "outputs": [
    {
     "name": "stderr",
     "output_type": "stream",
     "text": [
      "100%|██████████| 17/17 [01:58<00:00,  6.97s/it]\n"
     ]
    }
   ],
   "source": [
    "df = run_experiment(\n",
    "    sampler, wavefunction, alphas,\n",
    "    parameter_names, **kwargs)"
   ]
  },
  {
   "cell_type": "code",
   "execution_count": 10,
   "metadata": {
    "collapsed": false
   },
   "outputs": [
    {
     "data": {
      "text/html": [
       "<div>\n",
       "<style scoped>\n",
       "    .dataframe tbody tr th:only-of-type {\n",
       "        vertical-align: middle;\n",
       "    }\n",
       "\n",
       "    .dataframe tbody tr th {\n",
       "        vertical-align: top;\n",
       "    }\n",
       "\n",
       "    .dataframe thead th {\n",
       "        text-align: right;\n",
       "    }\n",
       "</style>\n",
       "<table border=\"1\" class=\"dataframe\">\n",
       "  <thead>\n",
       "    <tr style=\"text-align: right;\">\n",
       "      <th></th>\n",
       "      <th>alpha</th>\n",
       "      <th>energy</th>\n",
       "      <th>variance</th>\n",
       "      <th>acceptance</th>\n",
       "    </tr>\n",
       "  </thead>\n",
       "  <tbody>\n",
       "    <tr>\n",
       "      <th>0</th>\n",
       "      <td>0.10</td>\n",
       "      <td>1886.856807</td>\n",
       "      <td>4100.758893</td>\n",
       "      <td>0.973837</td>\n",
       "    </tr>\n",
       "    <tr>\n",
       "      <th>1</th>\n",
       "      <td>0.15</td>\n",
       "      <td>1324.154611</td>\n",
       "      <td>1106.017665</td>\n",
       "      <td>0.960147</td>\n",
       "    </tr>\n",
       "    <tr>\n",
       "      <th>2</th>\n",
       "      <td>0.20</td>\n",
       "      <td>1061.235732</td>\n",
       "      <td>457.340795</td>\n",
       "      <td>0.944565</td>\n",
       "    </tr>\n",
       "    <tr>\n",
       "      <th>3</th>\n",
       "      <td>0.25</td>\n",
       "      <td>918.626999</td>\n",
       "      <td>200.356200</td>\n",
       "      <td>0.927338</td>\n",
       "    </tr>\n",
       "    <tr>\n",
       "      <th>4</th>\n",
       "      <td>0.30</td>\n",
       "      <td>836.747887</td>\n",
       "      <td>89.196417</td>\n",
       "      <td>0.909218</td>\n",
       "    </tr>\n",
       "    <tr>\n",
       "      <th>5</th>\n",
       "      <td>0.35</td>\n",
       "      <td>789.050078</td>\n",
       "      <td>40.912057</td>\n",
       "      <td>0.889112</td>\n",
       "    </tr>\n",
       "    <tr>\n",
       "      <th>6</th>\n",
       "      <td>0.40</td>\n",
       "      <td>763.114789</td>\n",
       "      <td>14.288289</td>\n",
       "      <td>0.868779</td>\n",
       "    </tr>\n",
       "    <tr>\n",
       "      <th>7</th>\n",
       "      <td>0.45</td>\n",
       "      <td>751.592550</td>\n",
       "      <td>2.891347</td>\n",
       "      <td>0.846268</td>\n",
       "    </tr>\n",
       "    <tr>\n",
       "      <th>8</th>\n",
       "      <td>0.50</td>\n",
       "      <td>750.000000</td>\n",
       "      <td>0.000000</td>\n",
       "      <td>0.823496</td>\n",
       "    </tr>\n",
       "    <tr>\n",
       "      <th>9</th>\n",
       "      <td>0.55</td>\n",
       "      <td>755.710276</td>\n",
       "      <td>2.140968</td>\n",
       "      <td>0.798318</td>\n",
       "    </tr>\n",
       "    <tr>\n",
       "      <th>10</th>\n",
       "      <td>0.60</td>\n",
       "      <td>767.188777</td>\n",
       "      <td>8.424354</td>\n",
       "      <td>0.775634</td>\n",
       "    </tr>\n",
       "    <tr>\n",
       "      <th>11</th>\n",
       "      <td>0.65</td>\n",
       "      <td>782.483814</td>\n",
       "      <td>16.253153</td>\n",
       "      <td>0.749629</td>\n",
       "    </tr>\n",
       "    <tr>\n",
       "      <th>12</th>\n",
       "      <td>0.70</td>\n",
       "      <td>801.478112</td>\n",
       "      <td>27.521037</td>\n",
       "      <td>0.724997</td>\n",
       "    </tr>\n",
       "    <tr>\n",
       "      <th>13</th>\n",
       "      <td>0.75</td>\n",
       "      <td>822.699779</td>\n",
       "      <td>40.372989</td>\n",
       "      <td>0.698547</td>\n",
       "    </tr>\n",
       "    <tr>\n",
       "      <th>14</th>\n",
       "      <td>0.80</td>\n",
       "      <td>796.713340</td>\n",
       "      <td>-0.000035</td>\n",
       "      <td>0.000000</td>\n",
       "    </tr>\n",
       "    <tr>\n",
       "      <th>15</th>\n",
       "      <td>0.85</td>\n",
       "      <td>790.939611</td>\n",
       "      <td>-0.000016</td>\n",
       "      <td>0.000000</td>\n",
       "    </tr>\n",
       "    <tr>\n",
       "      <th>16</th>\n",
       "      <td>0.90</td>\n",
       "      <td>782.767687</td>\n",
       "      <td>-0.000002</td>\n",
       "      <td>0.000000</td>\n",
       "    </tr>\n",
       "  </tbody>\n",
       "</table>\n",
       "</div>"
      ],
      "text/plain": [
       "    alpha       energy     variance  acceptance\n",
       "0    0.10  1886.856807  4100.758893    0.973837\n",
       "1    0.15  1324.154611  1106.017665    0.960147\n",
       "2    0.20  1061.235732   457.340795    0.944565\n",
       "3    0.25   918.626999   200.356200    0.927338\n",
       "4    0.30   836.747887    89.196417    0.909218\n",
       "5    0.35   789.050078    40.912057    0.889112\n",
       "6    0.40   763.114789    14.288289    0.868779\n",
       "7    0.45   751.592550     2.891347    0.846268\n",
       "8    0.50   750.000000     0.000000    0.823496\n",
       "9    0.55   755.710276     2.140968    0.798318\n",
       "10   0.60   767.188777     8.424354    0.775634\n",
       "11   0.65   782.483814    16.253153    0.749629\n",
       "12   0.70   801.478112    27.521037    0.724997\n",
       "13   0.75   822.699779    40.372989    0.698547\n",
       "14   0.80   796.713340    -0.000035    0.000000\n",
       "15   0.85   790.939611    -0.000016    0.000000\n",
       "16   0.90   782.767687    -0.000002    0.000000"
      ]
     },
     "metadata": {},
     "output_type": "display_data"
    }
   ],
   "source": [
    "display(df_importance)"
   ]
  },
  {
   "cell_type": "code",
   "execution_count": 11,
   "metadata": {
    "collapsed": false
   },
   "outputs": [
    {
     "data": {
      "text/html": [
       "<div>\n",
       "<style scoped>\n",
       "    .dataframe tbody tr th:only-of-type {\n",
       "        vertical-align: middle;\n",
       "    }\n",
       "\n",
       "    .dataframe tbody tr th {\n",
       "        vertical-align: top;\n",
       "    }\n",
       "\n",
       "    .dataframe thead th {\n",
       "        text-align: right;\n",
       "    }\n",
       "</style>\n",
       "<table border=\"1\" class=\"dataframe\">\n",
       "  <thead>\n",
       "    <tr style=\"text-align: right;\">\n",
       "      <th></th>\n",
       "      <th>alpha</th>\n",
       "      <th>energy</th>\n",
       "      <th>variance</th>\n",
       "      <th>acceptance</th>\n",
       "    </tr>\n",
       "  </thead>\n",
       "  <tbody>\n",
       "    <tr>\n",
       "      <th>0</th>\n",
       "      <td>0.10</td>\n",
       "      <td>1879.461081</td>\n",
       "      <td>7463.962753</td>\n",
       "      <td>0.759031</td>\n",
       "    </tr>\n",
       "    <tr>\n",
       "      <th>1</th>\n",
       "      <td>0.15</td>\n",
       "      <td>1320.049690</td>\n",
       "      <td>2208.393319</td>\n",
       "      <td>0.708156</td>\n",
       "    </tr>\n",
       "    <tr>\n",
       "      <th>2</th>\n",
       "      <td>0.20</td>\n",
       "      <td>1060.258167</td>\n",
       "      <td>743.311034</td>\n",
       "      <td>0.664844</td>\n",
       "    </tr>\n",
       "    <tr>\n",
       "      <th>3</th>\n",
       "      <td>0.25</td>\n",
       "      <td>917.627517</td>\n",
       "      <td>343.845379</td>\n",
       "      <td>0.630146</td>\n",
       "    </tr>\n",
       "    <tr>\n",
       "      <th>4</th>\n",
       "      <td>0.30</td>\n",
       "      <td>836.071485</td>\n",
       "      <td>131.376347</td>\n",
       "      <td>0.598193</td>\n",
       "    </tr>\n",
       "    <tr>\n",
       "      <th>5</th>\n",
       "      <td>0.35</td>\n",
       "      <td>789.010228</td>\n",
       "      <td>58.510427</td>\n",
       "      <td>0.568994</td>\n",
       "    </tr>\n",
       "    <tr>\n",
       "      <th>6</th>\n",
       "      <td>0.40</td>\n",
       "      <td>763.086403</td>\n",
       "      <td>17.616039</td>\n",
       "      <td>0.543111</td>\n",
       "    </tr>\n",
       "    <tr>\n",
       "      <th>7</th>\n",
       "      <td>0.45</td>\n",
       "      <td>751.405591</td>\n",
       "      <td>3.970490</td>\n",
       "      <td>0.519842</td>\n",
       "    </tr>\n",
       "    <tr>\n",
       "      <th>8</th>\n",
       "      <td>0.50</td>\n",
       "      <td>750.000000</td>\n",
       "      <td>0.000000</td>\n",
       "      <td>0.497451</td>\n",
       "    </tr>\n",
       "    <tr>\n",
       "      <th>9</th>\n",
       "      <td>0.55</td>\n",
       "      <td>755.693274</td>\n",
       "      <td>2.301003</td>\n",
       "      <td>0.479367</td>\n",
       "    </tr>\n",
       "    <tr>\n",
       "      <th>10</th>\n",
       "      <td>0.60</td>\n",
       "      <td>767.156021</td>\n",
       "      <td>9.535956</td>\n",
       "      <td>0.459830</td>\n",
       "    </tr>\n",
       "    <tr>\n",
       "      <th>11</th>\n",
       "      <td>0.65</td>\n",
       "      <td>782.711645</td>\n",
       "      <td>17.333636</td>\n",
       "      <td>0.443445</td>\n",
       "    </tr>\n",
       "    <tr>\n",
       "      <th>12</th>\n",
       "      <td>0.70</td>\n",
       "      <td>801.277559</td>\n",
       "      <td>28.256819</td>\n",
       "      <td>0.426664</td>\n",
       "    </tr>\n",
       "    <tr>\n",
       "      <th>13</th>\n",
       "      <td>0.75</td>\n",
       "      <td>822.269914</td>\n",
       "      <td>36.714858</td>\n",
       "      <td>0.410806</td>\n",
       "    </tr>\n",
       "    <tr>\n",
       "      <th>14</th>\n",
       "      <td>0.80</td>\n",
       "      <td>802.658116</td>\n",
       "      <td>0.000006</td>\n",
       "      <td>0.000000</td>\n",
       "    </tr>\n",
       "    <tr>\n",
       "      <th>15</th>\n",
       "      <td>0.85</td>\n",
       "      <td>799.112336</td>\n",
       "      <td>0.000015</td>\n",
       "      <td>0.000000</td>\n",
       "    </tr>\n",
       "    <tr>\n",
       "      <th>16</th>\n",
       "      <td>0.90</td>\n",
       "      <td>769.533780</td>\n",
       "      <td>-0.000006</td>\n",
       "      <td>0.000000</td>\n",
       "    </tr>\n",
       "  </tbody>\n",
       "</table>\n",
       "</div>"
      ],
      "text/plain": [
       "    alpha       energy     variance  acceptance\n",
       "0    0.10  1879.461081  7463.962753    0.759031\n",
       "1    0.15  1320.049690  2208.393319    0.708156\n",
       "2    0.20  1060.258167   743.311034    0.664844\n",
       "3    0.25   917.627517   343.845379    0.630146\n",
       "4    0.30   836.071485   131.376347    0.598193\n",
       "5    0.35   789.010228    58.510427    0.568994\n",
       "6    0.40   763.086403    17.616039    0.543111\n",
       "7    0.45   751.405591     3.970490    0.519842\n",
       "8    0.50   750.000000     0.000000    0.497451\n",
       "9    0.55   755.693274     2.301003    0.479367\n",
       "10   0.60   767.156021     9.535956    0.459830\n",
       "11   0.65   782.711645    17.333636    0.443445\n",
       "12   0.70   801.277559    28.256819    0.426664\n",
       "13   0.75   822.269914    36.714858    0.410806\n",
       "14   0.80   802.658116     0.000006    0.000000\n",
       "15   0.85   799.112336     0.000015    0.000000\n",
       "16   0.90   769.533780    -0.000006    0.000000"
      ]
     },
     "metadata": {},
     "output_type": "display_data"
    }
   ],
   "source": [
    "display(df)"
   ]
  },
  {
   "cell_type": "code",
   "execution_count": 12,
   "metadata": {
    "collapsed": false
   },
   "outputs": [
    {
     "data": {
      "image/png": "[encoded data removed]",
      "text/plain": [
       "<matplotlib.figure.Figure at 0x7f548fc02b70>"
      ]
     },
     "metadata": {},
     "output_type": "display_data"
    }
   ],
   "source": [
    "plt.plot(\n",
    "    df_importance[\"alpha\"], df_importance[\"energy\"],\n",
    "    label=\"Importance\"\n",
    ")\n",
    "plt.plot(\n",
    "    df[\"alpha\"], df[\"energy\"],\n",
    "    label=\"Brute force\"\n",
    ")\n",
    "plt.legend(loc=\"best\")\n",
    "plt.show()"
   ]
  }
 ],
 "metadata": {
  "anaconda-cloud": {},
  "kernelspec": {
   "display_name": "Python [conda root]",
   "language": "python",
   "name": "conda-root-py"
  },
  "language_info": {
   "codemirror_mode": {
    "name": "ipython",
    "version": 3
   },
   "file_extension": ".py",
   "mimetype": "text/x-python",
   "name": "python",
   "nbconvert_exporter": "python",
   "pygments_lexer": "ipython3",
   "version": "3.5.2"
  }
 },
 "nbformat": 4,
 "nbformat_minor": 1
}
