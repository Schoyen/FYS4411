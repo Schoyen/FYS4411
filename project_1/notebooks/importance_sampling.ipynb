{
 "cells": [
  {
   "cell_type": "markdown",
   "metadata": {},
   "source": [
    "# Importance sampling"
   ]
  },
  {
   "cell_type": "code",
   "execution_count": 1,
   "metadata": {
    "collapsed": true
   },
   "outputs": [],
   "source": [
    "%matplotlib inline\n",
    "\n",
    "import matplotlib.pyplot as plt\n",
    "import seaborn as sns\n",
    "import numpy as np\n",
    "import pandas as pd\n",
    "\n",
    "from vmc.interface import PyHarmonicOscillator, PyMetropolisAlgorithm, \\\n",
    "    PySimpleGaussian, PySampler, PyImportanceMetropolis\n",
    "from vmc import run_experiment\n",
    "\n",
    "from IPython.core.pylabtools import figsize\n",
    "from IPython.core.display import display"
   ]
  },
  {
   "cell_type": "code",
   "execution_count": 2,
   "metadata": {
    "collapsed": true
   },
   "outputs": [],
   "source": [
    "sns.set(color_codes=True)"
   ]
  },
  {
   "cell_type": "code",
   "execution_count": 3,
   "metadata": {
    "collapsed": true
   },
   "outputs": [],
   "source": [
    "mass = 1.0\n",
    "omega = 1.0\n",
    "diffusion_coefficient = 0.5\n",
    "\n",
    "step_length = 2.0\n",
    "time_step = 0.5"
   ]
  },
  {
   "cell_type": "code",
   "execution_count": 4,
   "metadata": {
    "collapsed": false
   },
   "outputs": [],
   "source": [
    "alpha_min = 0.1\n",
    "alpha_max = 0.9\n",
    "num_alphas = 17\n",
    "\n",
    "parameter_names = [\"alpha\"]\n",
    "\n",
    "alphas = np.linspace(alpha_min, alpha_max, num_alphas).reshape(num_alphas, 1)"
   ]
  },
  {
   "cell_type": "code",
   "execution_count": 5,
   "metadata": {
    "collapsed": false
   },
   "outputs": [],
   "source": [
    "num_particles = 10\n",
    "num_dimensions = 3\n",
    "num_samples = int(1e5)\n",
    "\n",
    "num_thermalization_steps = 0\n",
    "num_local_energies = 0\n",
    "\n",
    "kwargs = {\n",
    "    \"num_samples\": num_samples, \"step_length\": step_length,\n",
    "    \"num_thermalization_steps\": num_thermalization_steps\n",
    "}"
   ]
  },
  {
   "cell_type": "code",
   "execution_count": 6,
   "metadata": {
    "collapsed": false
   },
   "outputs": [],
   "source": [
    "wavefunction_importance = PySimpleGaussian(\n",
    "    num_particles, num_dimensions, mass, omega, spread=step_length)\n",
    "sampler_importance = PySampler(\n",
    "    wavefunction_importance, PyHarmonicOscillator(),\n",
    "    PyImportanceMetropolis(time_step, diffusion_coefficient), num_local_energies)"
   ]
  },
  {
   "cell_type": "code",
   "execution_count": 7,
   "metadata": {
    "collapsed": false
   },
   "outputs": [
    {
     "name": "stderr",
     "output_type": "stream",
     "text": [
      "100%|██████████| 17/17 [00:00<00:00, 17.76it/s]\n"
     ]
    }
   ],
   "source": [
    "df_importance = run_experiment(\n",
    "    sampler_importance, wavefunction_importance, alphas,\n",
    "    parameter_names, **kwargs)"
   ]
  },
  {
   "cell_type": "code",
   "execution_count": 8,
   "metadata": {
    "collapsed": true
   },
   "outputs": [],
   "source": [
    "wavefunction = PySimpleGaussian(\n",
    "    num_particles, num_dimensions, mass, omega, spread=step_length)\n",
    "sampler = PySampler(\n",
    "    wavefunction, PyHarmonicOscillator(),\n",
    "    PyMetropolisAlgorithm(), num_local_energies)"
   ]
  },
  {
   "cell_type": "code",
   "execution_count": 9,
   "metadata": {
    "collapsed": false
   },
   "outputs": [
    {
     "name": "stderr",
     "output_type": "stream",
     "text": [
      "100%|██████████| 17/17 [00:00<00:00, 35.32it/s]\n"
     ]
    }
   ],
   "source": [
    "df = run_experiment(\n",
    "    sampler, wavefunction, alphas,\n",
    "    parameter_names, **kwargs)"
   ]
  },
  {
   "cell_type": "code",
   "execution_count": 10,
   "metadata": {
    "collapsed": false
   },
   "outputs": [
    {
     "data": {
      "text/html": [
       "<div>\n",
       "<table border=\"1\" class=\"dataframe\">\n",
       "  <thead>\n",
       "    <tr style=\"text-align: right;\">\n",
       "      <th></th>\n",
       "      <th>alpha</th>\n",
       "      <th>energy</th>\n",
       "      <th>variance</th>\n",
       "      <th>acceptance</th>\n",
       "    </tr>\n",
       "  </thead>\n",
       "  <tbody>\n",
       "    <tr>\n",
       "      <th>0</th>\n",
       "      <td>0.10</td>\n",
       "      <td>38.949778</td>\n",
       "      <td>85.660586</td>\n",
       "      <td>0.98593</td>\n",
       "    </tr>\n",
       "    <tr>\n",
       "      <th>1</th>\n",
       "      <td>0.15</td>\n",
       "      <td>27.258008</td>\n",
       "      <td>34.524375</td>\n",
       "      <td>0.97415</td>\n",
       "    </tr>\n",
       "    <tr>\n",
       "      <th>2</th>\n",
       "      <td>0.20</td>\n",
       "      <td>21.858803</td>\n",
       "      <td>16.699254</td>\n",
       "      <td>0.95941</td>\n",
       "    </tr>\n",
       "    <tr>\n",
       "      <th>3</th>\n",
       "      <td>0.25</td>\n",
       "      <td>18.693307</td>\n",
       "      <td>8.250357</td>\n",
       "      <td>0.94389</td>\n",
       "    </tr>\n",
       "    <tr>\n",
       "      <th>4</th>\n",
       "      <td>0.30</td>\n",
       "      <td>16.908337</td>\n",
       "      <td>4.105630</td>\n",
       "      <td>0.92558</td>\n",
       "    </tr>\n",
       "    <tr>\n",
       "      <th>5</th>\n",
       "      <td>0.35</td>\n",
       "      <td>15.953147</td>\n",
       "      <td>1.881227</td>\n",
       "      <td>0.90721</td>\n",
       "    </tr>\n",
       "    <tr>\n",
       "      <th>6</th>\n",
       "      <td>0.40</td>\n",
       "      <td>15.361016</td>\n",
       "      <td>0.759607</td>\n",
       "      <td>0.88540</td>\n",
       "    </tr>\n",
       "    <tr>\n",
       "      <th>7</th>\n",
       "      <td>0.45</td>\n",
       "      <td>15.076483</td>\n",
       "      <td>0.166181</td>\n",
       "      <td>0.86562</td>\n",
       "    </tr>\n",
       "    <tr>\n",
       "      <th>8</th>\n",
       "      <td>0.50</td>\n",
       "      <td>15.000000</td>\n",
       "      <td>0.000000</td>\n",
       "      <td>0.84186</td>\n",
       "    </tr>\n",
       "    <tr>\n",
       "      <th>9</th>\n",
       "      <td>0.55</td>\n",
       "      <td>15.076812</td>\n",
       "      <td>0.141765</td>\n",
       "      <td>0.81880</td>\n",
       "    </tr>\n",
       "    <tr>\n",
       "      <th>10</th>\n",
       "      <td>0.60</td>\n",
       "      <td>15.245817</td>\n",
       "      <td>0.508419</td>\n",
       "      <td>0.79258</td>\n",
       "    </tr>\n",
       "    <tr>\n",
       "      <th>11</th>\n",
       "      <td>0.65</td>\n",
       "      <td>15.538287</td>\n",
       "      <td>0.994320</td>\n",
       "      <td>0.76721</td>\n",
       "    </tr>\n",
       "    <tr>\n",
       "      <th>12</th>\n",
       "      <td>0.70</td>\n",
       "      <td>15.862662</td>\n",
       "      <td>1.789852</td>\n",
       "      <td>0.74260</td>\n",
       "    </tr>\n",
       "    <tr>\n",
       "      <th>13</th>\n",
       "      <td>0.75</td>\n",
       "      <td>16.217684</td>\n",
       "      <td>2.652107</td>\n",
       "      <td>0.71746</td>\n",
       "    </tr>\n",
       "    <tr>\n",
       "      <th>14</th>\n",
       "      <td>0.80</td>\n",
       "      <td>16.691316</td>\n",
       "      <td>3.462560</td>\n",
       "      <td>0.69129</td>\n",
       "    </tr>\n",
       "    <tr>\n",
       "      <th>15</th>\n",
       "      <td>0.85</td>\n",
       "      <td>17.166255</td>\n",
       "      <td>4.544238</td>\n",
       "      <td>0.66307</td>\n",
       "    </tr>\n",
       "    <tr>\n",
       "      <th>16</th>\n",
       "      <td>0.90</td>\n",
       "      <td>17.691046</td>\n",
       "      <td>5.948493</td>\n",
       "      <td>0.63464</td>\n",
       "    </tr>\n",
       "  </tbody>\n",
       "</table>\n",
       "</div>"
      ],
      "text/plain": [
       "    alpha     energy   variance  acceptance\n",
       "0    0.10  38.949778  85.660586     0.98593\n",
       "1    0.15  27.258008  34.524375     0.97415\n",
       "2    0.20  21.858803  16.699254     0.95941\n",
       "3    0.25  18.693307   8.250357     0.94389\n",
       "4    0.30  16.908337   4.105630     0.92558\n",
       "5    0.35  15.953147   1.881227     0.90721\n",
       "6    0.40  15.361016   0.759607     0.88540\n",
       "7    0.45  15.076483   0.166181     0.86562\n",
       "8    0.50  15.000000   0.000000     0.84186\n",
       "9    0.55  15.076812   0.141765     0.81880\n",
       "10   0.60  15.245817   0.508419     0.79258\n",
       "11   0.65  15.538287   0.994320     0.76721\n",
       "12   0.70  15.862662   1.789852     0.74260\n",
       "13   0.75  16.217684   2.652107     0.71746\n",
       "14   0.80  16.691316   3.462560     0.69129\n",
       "15   0.85  17.166255   4.544238     0.66307\n",
       "16   0.90  17.691046   5.948493     0.63464"
      ]
     },
     "metadata": {},
     "output_type": "display_data"
    }
   ],
   "source": [
    "display(df_importance)"
   ]
  },
  {
   "cell_type": "code",
   "execution_count": 11,
   "metadata": {
    "collapsed": false
   },
   "outputs": [
    {
     "data": {
      "text/html": [
       "<div>\n",
       "<table border=\"1\" class=\"dataframe\">\n",
       "  <thead>\n",
       "    <tr style=\"text-align: right;\">\n",
       "      <th></th>\n",
       "      <th>alpha</th>\n",
       "      <th>energy</th>\n",
       "      <th>variance</th>\n",
       "      <th>acceptance</th>\n",
       "    </tr>\n",
       "  </thead>\n",
       "  <tbody>\n",
       "    <tr>\n",
       "      <th>0</th>\n",
       "      <td>0.10</td>\n",
       "      <td>39.039238</td>\n",
       "      <td>85.700123</td>\n",
       "      <td>0.54991</td>\n",
       "    </tr>\n",
       "    <tr>\n",
       "      <th>1</th>\n",
       "      <td>0.15</td>\n",
       "      <td>27.121911</td>\n",
       "      <td>33.941712</td>\n",
       "      <td>0.46812</td>\n",
       "    </tr>\n",
       "    <tr>\n",
       "      <th>2</th>\n",
       "      <td>0.20</td>\n",
       "      <td>21.490006</td>\n",
       "      <td>15.580477</td>\n",
       "      <td>0.40400</td>\n",
       "    </tr>\n",
       "    <tr>\n",
       "      <th>3</th>\n",
       "      <td>0.25</td>\n",
       "      <td>18.550999</td>\n",
       "      <td>8.369661</td>\n",
       "      <td>0.35241</td>\n",
       "    </tr>\n",
       "    <tr>\n",
       "      <th>4</th>\n",
       "      <td>0.30</td>\n",
       "      <td>16.934347</td>\n",
       "      <td>3.933680</td>\n",
       "      <td>0.31286</td>\n",
       "    </tr>\n",
       "    <tr>\n",
       "      <th>5</th>\n",
       "      <td>0.35</td>\n",
       "      <td>15.961554</td>\n",
       "      <td>1.988376</td>\n",
       "      <td>0.27954</td>\n",
       "    </tr>\n",
       "    <tr>\n",
       "      <th>6</th>\n",
       "      <td>0.40</td>\n",
       "      <td>15.408198</td>\n",
       "      <td>0.766022</td>\n",
       "      <td>0.25185</td>\n",
       "    </tr>\n",
       "    <tr>\n",
       "      <th>7</th>\n",
       "      <td>0.45</td>\n",
       "      <td>15.077682</td>\n",
       "      <td>0.162521</td>\n",
       "      <td>0.22597</td>\n",
       "    </tr>\n",
       "    <tr>\n",
       "      <th>8</th>\n",
       "      <td>0.50</td>\n",
       "      <td>15.000000</td>\n",
       "      <td>0.000000</td>\n",
       "      <td>0.20821</td>\n",
       "    </tr>\n",
       "    <tr>\n",
       "      <th>9</th>\n",
       "      <td>0.55</td>\n",
       "      <td>15.048025</td>\n",
       "      <td>0.155559</td>\n",
       "      <td>0.18952</td>\n",
       "    </tr>\n",
       "    <tr>\n",
       "      <th>10</th>\n",
       "      <td>0.60</td>\n",
       "      <td>15.274781</td>\n",
       "      <td>0.487089</td>\n",
       "      <td>0.17456</td>\n",
       "    </tr>\n",
       "    <tr>\n",
       "      <th>11</th>\n",
       "      <td>0.65</td>\n",
       "      <td>15.578324</td>\n",
       "      <td>1.038426</td>\n",
       "      <td>0.15664</td>\n",
       "    </tr>\n",
       "    <tr>\n",
       "      <th>12</th>\n",
       "      <td>0.70</td>\n",
       "      <td>15.803225</td>\n",
       "      <td>1.943873</td>\n",
       "      <td>0.14802</td>\n",
       "    </tr>\n",
       "    <tr>\n",
       "      <th>13</th>\n",
       "      <td>0.75</td>\n",
       "      <td>16.199479</td>\n",
       "      <td>2.673208</td>\n",
       "      <td>0.13683</td>\n",
       "    </tr>\n",
       "    <tr>\n",
       "      <th>14</th>\n",
       "      <td>0.80</td>\n",
       "      <td>16.702594</td>\n",
       "      <td>4.010971</td>\n",
       "      <td>0.12592</td>\n",
       "    </tr>\n",
       "    <tr>\n",
       "      <th>15</th>\n",
       "      <td>0.85</td>\n",
       "      <td>17.286797</td>\n",
       "      <td>5.108208</td>\n",
       "      <td>0.11568</td>\n",
       "    </tr>\n",
       "    <tr>\n",
       "      <th>16</th>\n",
       "      <td>0.90</td>\n",
       "      <td>17.602833</td>\n",
       "      <td>6.118379</td>\n",
       "      <td>0.10911</td>\n",
       "    </tr>\n",
       "  </tbody>\n",
       "</table>\n",
       "</div>"
      ],
      "text/plain": [
       "    alpha     energy   variance  acceptance\n",
       "0    0.10  39.039238  85.700123     0.54991\n",
       "1    0.15  27.121911  33.941712     0.46812\n",
       "2    0.20  21.490006  15.580477     0.40400\n",
       "3    0.25  18.550999   8.369661     0.35241\n",
       "4    0.30  16.934347   3.933680     0.31286\n",
       "5    0.35  15.961554   1.988376     0.27954\n",
       "6    0.40  15.408198   0.766022     0.25185\n",
       "7    0.45  15.077682   0.162521     0.22597\n",
       "8    0.50  15.000000   0.000000     0.20821\n",
       "9    0.55  15.048025   0.155559     0.18952\n",
       "10   0.60  15.274781   0.487089     0.17456\n",
       "11   0.65  15.578324   1.038426     0.15664\n",
       "12   0.70  15.803225   1.943873     0.14802\n",
       "13   0.75  16.199479   2.673208     0.13683\n",
       "14   0.80  16.702594   4.010971     0.12592\n",
       "15   0.85  17.286797   5.108208     0.11568\n",
       "16   0.90  17.602833   6.118379     0.10911"
      ]
     },
     "metadata": {},
     "output_type": "display_data"
    }
   ],
   "source": [
    "display(df)"
   ]
  },
  {
   "cell_type": "code",
   "execution_count": 12,
   "metadata": {
    "collapsed": false
   },
   "outputs": [
    {
     "data": {
      "image/png": "[encoded data removed]",
      "text/plain": [
       "<matplotlib.figure.Figure at 0x7fa8a6377048>"
      ]
     },
     "metadata": {},
     "output_type": "display_data"
    }
   ],
   "source": [
    "plt.plot(\n",
    "    df_importance[\"alpha\"], df_importance[\"energy\"],\n",
    "    label=\"Importance\"\n",
    ")\n",
    "plt.plot(\n",
    "    df[\"alpha\"], df[\"energy\"],\n",
    "    label=\"Brute force\"\n",
    ")\n",
    "plt.legend(loc=\"best\")\n",
    "plt.show()"
   ]
  }
 ],
 "metadata": {
  "anaconda-cloud": {},
  "kernelspec": {
   "display_name": "Python [conda root]",
   "language": "python",
   "name": "conda-root-py"
  },
  "language_info": {
   "codemirror_mode": {
    "name": "ipython",
    "version": 3
   },
   "file_extension": ".py",
   "mimetype": "text/x-python",
   "name": "python",
   "nbconvert_exporter": "python",
   "pygments_lexer": "ipython3",
   "version": "3.5.2"
  }
 },
 "nbformat": 4,
 "nbformat_minor": 1
}
