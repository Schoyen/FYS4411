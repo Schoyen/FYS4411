{
 "cells": [
  {
   "cell_type": "markdown",
   "metadata": {},
   "source": [
    "# Importance sampling"
   ]
  },
  {
   "cell_type": "code",
   "execution_count": 1,
   "metadata": {
    "collapsed": false
   },
   "outputs": [],
   "source": [
    "%matplotlib inline\n",
    "\n",
    "import matplotlib.pyplot as plt\n",
    "import seaborn as sns\n",
    "import numpy as np\n",
    "import pandas as pd\n",
    "\n",
    "from vmc.interface import PyHarmonicOscillator, PyMetropolisAlgorithm, \\\n",
    "    PySimpleGaussian, PySampler, PyImportanceMetropolis\n",
    "from vmc import run_experiment\n",
    "\n",
    "from IPython.core.pylabtools import figsize\n",
    "from IPython.core.display import display"
   ]
  },
  {
   "cell_type": "code",
   "execution_count": 2,
   "metadata": {
    "collapsed": true
   },
   "outputs": [],
   "source": [
    "sns.set(color_codes=True)"
   ]
  },
  {
   "cell_type": "code",
   "execution_count": 3,
   "metadata": {
    "collapsed": true
   },
   "outputs": [],
   "source": [
    "mass = 1.0\n",
    "omega = 1.0\n",
    "diffusion_coefficient = 0.5\n",
    "\n",
    "step_length = 1.0\n",
    "time_step = 0.5"
   ]
  },
  {
   "cell_type": "code",
   "execution_count": 4,
   "metadata": {
    "collapsed": false
   },
   "outputs": [],
   "source": [
    "alpha_min = 0.1\n",
    "alpha_max = 0.9\n",
    "num_alphas = 17\n",
    "\n",
    "parameter_names = [\"alpha\"]\n",
    "\n",
    "alphas = np.linspace(alpha_min, alpha_max, num_alphas).reshape(num_alphas, 1)"
   ]
  },
  {
   "cell_type": "code",
   "execution_count": 5,
   "metadata": {
    "collapsed": false
   },
   "outputs": [],
   "source": [
    "num_particles = 500\n",
    "num_dimensions = 3\n",
    "num_samples = int(1e6)\n",
    "\n",
    "num_thermalization_steps = 0\n",
    "\n",
    "kwargs = {\n",
    "    \"num_samples\": num_samples, \"step_length\": step_length,\n",
    "    \"num_thermalization_steps\": num_thermalization_steps\n",
    "}"
   ]
  },
  {
   "cell_type": "code",
   "execution_count": 6,
   "metadata": {
    "collapsed": false
   },
   "outputs": [],
   "source": [
    "wavefunction_importance = PySimpleGaussian(\n",
    "    num_particles, num_dimensions, mass, omega, spread=step_length)\n",
    "sampler_importance = PySampler(\n",
    "    wavefunction_importance, PyHarmonicOscillator(),\n",
    "    PyImportanceMetropolis(time_step, diffusion_coefficient))"
   ]
  },
  {
   "cell_type": "code",
   "execution_count": 7,
   "metadata": {
    "collapsed": false
   },
   "outputs": [
    {
     "name": "stderr",
     "output_type": "stream",
     "text": [
      "100%|██████████| 17/17 [02:26<00:00,  8.61s/it]\n"
     ]
    }
   ],
   "source": [
    "df_importance = run_experiment(\n",
    "    sampler_importance, wavefunction_importance, alphas,\n",
    "    parameter_names, **kwargs)"
   ]
  },
  {
   "cell_type": "code",
   "execution_count": 8,
   "metadata": {
    "collapsed": true
   },
   "outputs": [],
   "source": [
    "wavefunction = PySimpleGaussian(\n",
    "    num_particles, num_dimensions, mass, omega, spread=step_length)\n",
    "sampler = PySampler(\n",
    "    wavefunction, PyHarmonicOscillator(),\n",
    "    PyMetropolisAlgorithm())"
   ]
  },
  {
   "cell_type": "code",
   "execution_count": 9,
   "metadata": {
    "collapsed": false
   },
   "outputs": [
    {
     "name": "stderr",
     "output_type": "stream",
     "text": [
      "100%|██████████| 17/17 [02:02<00:00,  7.23s/it]\n"
     ]
    }
   ],
   "source": [
    "df = run_experiment(\n",
    "    sampler, wavefunction, alphas,\n",
    "    parameter_names, **kwargs)"
   ]
  },
  {
   "cell_type": "code",
   "execution_count": 10,
   "metadata": {
    "collapsed": false
   },
   "outputs": [
    {
     "data": {
      "text/html": [
       "<div>\n",
       "<style scoped>\n",
       "    .dataframe tbody tr th:only-of-type {\n",
       "        vertical-align: middle;\n",
       "    }\n",
       "\n",
       "    .dataframe tbody tr th {\n",
       "        vertical-align: top;\n",
       "    }\n",
       "\n",
       "    .dataframe thead th {\n",
       "        text-align: right;\n",
       "    }\n",
       "</style>\n",
       "<table border=\"1\" class=\"dataframe\">\n",
       "  <thead>\n",
       "    <tr style=\"text-align: right;\">\n",
       "      <th></th>\n",
       "      <th>alpha</th>\n",
       "      <th>energy</th>\n",
       "      <th>variance</th>\n",
       "      <th>acceptance</th>\n",
       "    </tr>\n",
       "  </thead>\n",
       "  <tbody>\n",
       "    <tr>\n",
       "      <th>0</th>\n",
       "      <td>0.10</td>\n",
       "      <td>1885.555685</td>\n",
       "      <td>4136.747252</td>\n",
       "      <td>0.973799</td>\n",
       "    </tr>\n",
       "    <tr>\n",
       "      <th>1</th>\n",
       "      <td>0.15</td>\n",
       "      <td>1324.450152</td>\n",
       "      <td>1114.734183</td>\n",
       "      <td>0.959504</td>\n",
       "    </tr>\n",
       "    <tr>\n",
       "      <th>2</th>\n",
       "      <td>0.20</td>\n",
       "      <td>1060.573472</td>\n",
       "      <td>442.245847</td>\n",
       "      <td>0.945641</td>\n",
       "    </tr>\n",
       "    <tr>\n",
       "      <th>3</th>\n",
       "      <td>0.25</td>\n",
       "      <td>919.246748</td>\n",
       "      <td>193.923394</td>\n",
       "      <td>0.927174</td>\n",
       "    </tr>\n",
       "    <tr>\n",
       "      <th>4</th>\n",
       "      <td>0.30</td>\n",
       "      <td>837.167097</td>\n",
       "      <td>84.102440</td>\n",
       "      <td>0.908020</td>\n",
       "    </tr>\n",
       "    <tr>\n",
       "      <th>5</th>\n",
       "      <td>0.35</td>\n",
       "      <td>789.150936</td>\n",
       "      <td>38.328194</td>\n",
       "      <td>0.889259</td>\n",
       "    </tr>\n",
       "    <tr>\n",
       "      <th>6</th>\n",
       "      <td>0.40</td>\n",
       "      <td>763.052677</td>\n",
       "      <td>13.983311</td>\n",
       "      <td>0.868486</td>\n",
       "    </tr>\n",
       "    <tr>\n",
       "      <th>7</th>\n",
       "      <td>0.45</td>\n",
       "      <td>751.532330</td>\n",
       "      <td>2.926406</td>\n",
       "      <td>0.846892</td>\n",
       "    </tr>\n",
       "    <tr>\n",
       "      <th>8</th>\n",
       "      <td>0.50</td>\n",
       "      <td>750.000000</td>\n",
       "      <td>0.000000</td>\n",
       "      <td>0.822778</td>\n",
       "    </tr>\n",
       "    <tr>\n",
       "      <th>9</th>\n",
       "      <td>0.55</td>\n",
       "      <td>755.752596</td>\n",
       "      <td>2.188012</td>\n",
       "      <td>0.799670</td>\n",
       "    </tr>\n",
       "    <tr>\n",
       "      <th>10</th>\n",
       "      <td>0.60</td>\n",
       "      <td>767.062130</td>\n",
       "      <td>8.253951</td>\n",
       "      <td>0.774361</td>\n",
       "    </tr>\n",
       "    <tr>\n",
       "      <th>11</th>\n",
       "      <td>0.65</td>\n",
       "      <td>782.474482</td>\n",
       "      <td>16.209049</td>\n",
       "      <td>0.750089</td>\n",
       "    </tr>\n",
       "    <tr>\n",
       "      <th>12</th>\n",
       "      <td>0.70</td>\n",
       "      <td>801.257273</td>\n",
       "      <td>26.635204</td>\n",
       "      <td>0.723722</td>\n",
       "    </tr>\n",
       "    <tr>\n",
       "      <th>13</th>\n",
       "      <td>0.75</td>\n",
       "      <td>801.878649</td>\n",
       "      <td>0.000010</td>\n",
       "      <td>0.000000</td>\n",
       "    </tr>\n",
       "    <tr>\n",
       "      <th>14</th>\n",
       "      <td>0.80</td>\n",
       "      <td>814.120282</td>\n",
       "      <td>-0.000024</td>\n",
       "      <td>0.000000</td>\n",
       "    </tr>\n",
       "    <tr>\n",
       "      <th>15</th>\n",
       "      <td>0.85</td>\n",
       "      <td>804.361847</td>\n",
       "      <td>0.000030</td>\n",
       "      <td>0.000000</td>\n",
       "    </tr>\n",
       "    <tr>\n",
       "      <th>16</th>\n",
       "      <td>0.90</td>\n",
       "      <td>795.028184</td>\n",
       "      <td>-0.000031</td>\n",
       "      <td>0.000000</td>\n",
       "    </tr>\n",
       "  </tbody>\n",
       "</table>\n",
       "</div>"
      ],
      "text/plain": [
       "    alpha       energy     variance  acceptance\n",
       "0    0.10  1885.555685  4136.747252    0.973799\n",
       "1    0.15  1324.450152  1114.734183    0.959504\n",
       "2    0.20  1060.573472   442.245847    0.945641\n",
       "3    0.25   919.246748   193.923394    0.927174\n",
       "4    0.30   837.167097    84.102440    0.908020\n",
       "5    0.35   789.150936    38.328194    0.889259\n",
       "6    0.40   763.052677    13.983311    0.868486\n",
       "7    0.45   751.532330     2.926406    0.846892\n",
       "8    0.50   750.000000     0.000000    0.822778\n",
       "9    0.55   755.752596     2.188012    0.799670\n",
       "10   0.60   767.062130     8.253951    0.774361\n",
       "11   0.65   782.474482    16.209049    0.750089\n",
       "12   0.70   801.257273    26.635204    0.723722\n",
       "13   0.75   801.878649     0.000010    0.000000\n",
       "14   0.80   814.120282    -0.000024    0.000000\n",
       "15   0.85   804.361847     0.000030    0.000000\n",
       "16   0.90   795.028184    -0.000031    0.000000"
      ]
     },
     "metadata": {},
     "output_type": "display_data"
    }
   ],
   "source": [
    "display(df_importance)"
   ]
  },
  {
   "cell_type": "code",
   "execution_count": 11,
   "metadata": {
    "collapsed": false
   },
   "outputs": [
    {
     "data": {
      "text/html": [
       "<div>\n",
       "<style scoped>\n",
       "    .dataframe tbody tr th:only-of-type {\n",
       "        vertical-align: middle;\n",
       "    }\n",
       "\n",
       "    .dataframe tbody tr th {\n",
       "        vertical-align: top;\n",
       "    }\n",
       "\n",
       "    .dataframe thead th {\n",
       "        text-align: right;\n",
       "    }\n",
       "</style>\n",
       "<table border=\"1\" class=\"dataframe\">\n",
       "  <thead>\n",
       "    <tr style=\"text-align: right;\">\n",
       "      <th></th>\n",
       "      <th>alpha</th>\n",
       "      <th>energy</th>\n",
       "      <th>variance</th>\n",
       "      <th>acceptance</th>\n",
       "    </tr>\n",
       "  </thead>\n",
       "  <tbody>\n",
       "    <tr>\n",
       "      <th>0</th>\n",
       "      <td>0.10</td>\n",
       "      <td>1881.431326</td>\n",
       "      <td>8055.691054</td>\n",
       "      <td>0.758405</td>\n",
       "    </tr>\n",
       "    <tr>\n",
       "      <th>1</th>\n",
       "      <td>0.15</td>\n",
       "      <td>1321.841033</td>\n",
       "      <td>2075.623472</td>\n",
       "      <td>0.706407</td>\n",
       "    </tr>\n",
       "    <tr>\n",
       "      <th>2</th>\n",
       "      <td>0.20</td>\n",
       "      <td>1059.631640</td>\n",
       "      <td>817.327669</td>\n",
       "      <td>0.664614</td>\n",
       "    </tr>\n",
       "    <tr>\n",
       "      <th>3</th>\n",
       "      <td>0.25</td>\n",
       "      <td>918.336614</td>\n",
       "      <td>321.038420</td>\n",
       "      <td>0.628149</td>\n",
       "    </tr>\n",
       "    <tr>\n",
       "      <th>4</th>\n",
       "      <td>0.30</td>\n",
       "      <td>836.269344</td>\n",
       "      <td>132.656064</td>\n",
       "      <td>0.597599</td>\n",
       "    </tr>\n",
       "    <tr>\n",
       "      <th>5</th>\n",
       "      <td>0.35</td>\n",
       "      <td>788.912325</td>\n",
       "      <td>61.057078</td>\n",
       "      <td>0.567908</td>\n",
       "    </tr>\n",
       "    <tr>\n",
       "      <th>6</th>\n",
       "      <td>0.40</td>\n",
       "      <td>763.013368</td>\n",
       "      <td>19.809041</td>\n",
       "      <td>0.543688</td>\n",
       "    </tr>\n",
       "    <tr>\n",
       "      <th>7</th>\n",
       "      <td>0.45</td>\n",
       "      <td>751.479398</td>\n",
       "      <td>3.467935</td>\n",
       "      <td>0.519418</td>\n",
       "    </tr>\n",
       "    <tr>\n",
       "      <th>8</th>\n",
       "      <td>0.50</td>\n",
       "      <td>750.000000</td>\n",
       "      <td>0.000000</td>\n",
       "      <td>0.498205</td>\n",
       "    </tr>\n",
       "    <tr>\n",
       "      <th>9</th>\n",
       "      <td>0.55</td>\n",
       "      <td>755.718210</td>\n",
       "      <td>2.464578</td>\n",
       "      <td>0.478386</td>\n",
       "    </tr>\n",
       "    <tr>\n",
       "      <th>10</th>\n",
       "      <td>0.60</td>\n",
       "      <td>766.857953</td>\n",
       "      <td>7.650459</td>\n",
       "      <td>0.458252</td>\n",
       "    </tr>\n",
       "    <tr>\n",
       "      <th>11</th>\n",
       "      <td>0.65</td>\n",
       "      <td>782.816515</td>\n",
       "      <td>20.013534</td>\n",
       "      <td>0.442753</td>\n",
       "    </tr>\n",
       "    <tr>\n",
       "      <th>12</th>\n",
       "      <td>0.70</td>\n",
       "      <td>801.414203</td>\n",
       "      <td>27.669885</td>\n",
       "      <td>0.427459</td>\n",
       "    </tr>\n",
       "    <tr>\n",
       "      <th>13</th>\n",
       "      <td>0.75</td>\n",
       "      <td>822.623792</td>\n",
       "      <td>40.536673</td>\n",
       "      <td>0.410724</td>\n",
       "    </tr>\n",
       "    <tr>\n",
       "      <th>14</th>\n",
       "      <td>0.80</td>\n",
       "      <td>808.072890</td>\n",
       "      <td>-0.000004</td>\n",
       "      <td>0.000000</td>\n",
       "    </tr>\n",
       "    <tr>\n",
       "      <th>15</th>\n",
       "      <td>0.85</td>\n",
       "      <td>788.070244</td>\n",
       "      <td>-0.000006</td>\n",
       "      <td>0.000000</td>\n",
       "    </tr>\n",
       "    <tr>\n",
       "      <th>16</th>\n",
       "      <td>0.90</td>\n",
       "      <td>819.524870</td>\n",
       "      <td>-0.000037</td>\n",
       "      <td>0.000000</td>\n",
       "    </tr>\n",
       "  </tbody>\n",
       "</table>\n",
       "</div>"
      ],
      "text/plain": [
       "    alpha       energy     variance  acceptance\n",
       "0    0.10  1881.431326  8055.691054    0.758405\n",
       "1    0.15  1321.841033  2075.623472    0.706407\n",
       "2    0.20  1059.631640   817.327669    0.664614\n",
       "3    0.25   918.336614   321.038420    0.628149\n",
       "4    0.30   836.269344   132.656064    0.597599\n",
       "5    0.35   788.912325    61.057078    0.567908\n",
       "6    0.40   763.013368    19.809041    0.543688\n",
       "7    0.45   751.479398     3.467935    0.519418\n",
       "8    0.50   750.000000     0.000000    0.498205\n",
       "9    0.55   755.718210     2.464578    0.478386\n",
       "10   0.60   766.857953     7.650459    0.458252\n",
       "11   0.65   782.816515    20.013534    0.442753\n",
       "12   0.70   801.414203    27.669885    0.427459\n",
       "13   0.75   822.623792    40.536673    0.410724\n",
       "14   0.80   808.072890    -0.000004    0.000000\n",
       "15   0.85   788.070244    -0.000006    0.000000\n",
       "16   0.90   819.524870    -0.000037    0.000000"
      ]
     },
     "metadata": {},
     "output_type": "display_data"
    }
   ],
   "source": [
    "display(df)"
   ]
  },
  {
   "cell_type": "code",
   "execution_count": 12,
   "metadata": {
    "collapsed": false
   },
   "outputs": [
    {
     "data": {
      "image/png": "[encoded data removed]",
      "text/plain": [
       "<matplotlib.figure.Figure at 0x7f5b9d13df98>"
      ]
     },
     "metadata": {},
     "output_type": "display_data"
    }
   ],
   "source": [
    "plt.plot(\n",
    "    df_importance[\"alpha\"], df_importance[\"energy\"],\n",
    "    label=\"Importance\"\n",
    ")\n",
    "plt.plot(\n",
    "    df[\"alpha\"], df[\"energy\"],\n",
    "    label=\"Brute force\"\n",
    ")\n",
    "plt.legend(loc=\"best\")\n",
    "plt.show()"
   ]
  }
 ],
 "metadata": {
  "anaconda-cloud": {},
  "kernelspec": {
   "display_name": "Python [conda root]",
   "language": "python",
   "name": "conda-root-py"
  },
  "language_info": {
   "codemirror_mode": {
    "name": "ipython",
    "version": 3
   },
   "file_extension": ".py",
   "mimetype": "text/x-python",
   "name": "python",
   "nbconvert_exporter": "python",
   "pygments_lexer": "ipython3",
   "version": "3.5.2"
  }
 },
 "nbformat": 4,
 "nbformat_minor": 1
}
