{
 "cells": [
  {
   "cell_type": "markdown",
   "metadata": {},
   "source": [
    "# Elliptical harmonic oscillator with interacting gaussians"
   ]
  },
  {
   "cell_type": "code",
   "execution_count": 1,
   "metadata": {
    "collapsed": false
   },
   "outputs": [],
   "source": [
    "%matplotlib inline\n",
    "\n",
    "import matplotlib.pyplot as plt\n",
    "import seaborn as sns\n",
    "import numpy as np\n",
    "import pandas as pd\n",
    "import tqdm\n",
    "\n",
    "from vmc.interface import PyEllipticalHarmonicOscillator, PyMetropolisAlgorithm, \\\n",
    "    PyInteractingEllipticalGaussian, PySampler\n",
    "from vmc import run_experiment\n",
    "\n",
    "from IPython.core.pylabtools import figsize\n",
    "from IPython.core.display import display"
   ]
  },
  {
   "cell_type": "code",
   "execution_count": 2,
   "metadata": {
    "collapsed": true
   },
   "outputs": [],
   "source": [
    "sns.set(color_codes=True)"
   ]
  },
  {
   "cell_type": "code",
   "execution_count": 3,
   "metadata": {
    "collapsed": false
   },
   "outputs": [],
   "source": [
    "mass = 1.0\n",
    "omega = 1.0\n",
    "hbar = 1.0\n",
    "\n",
    "radius = 0.043\n",
    "beta = _lambda = 2.82843\n",
    "\n",
    "num_particles = 5\n",
    "num_dimensions = 3\n",
    "\n",
    "step_length = 1.0\n",
    "num_thermalization_steps = int(num_particles * 2000)\n",
    "num_samples = int(1e6)\n",
    "\n",
    "alpha_min = 0.2\n",
    "alpha_max = 0.9\n",
    "num_alphas = 29\n",
    "\n",
    "parameter_names = [\"alpha\"]\n",
    "\n",
    "alphas = np.linspace(alpha_min, alpha_max, num_alphas).reshape(num_alphas, 1)\n",
    "\n",
    "kwargs = {\n",
    "    \"num_samples\": num_samples, \"step_length\": step_length,\n",
    "    \"num_thermalization_steps\": num_thermalization_steps}"
   ]
  },
  {
   "cell_type": "code",
   "execution_count": 4,
   "metadata": {
    "collapsed": false
   },
   "outputs": [],
   "source": [
    "wavefunction = PyInteractingEllipticalGaussian(\n",
    "    num_particles, num_dimensions, mass, omega, beta, radius, spread=step_length)\n",
    "solver = PyMetropolisAlgorithm(num_particles)\n",
    "hamiltonian = PyEllipticalHarmonicOscillator(_lambda)\n",
    "\n",
    "sampler = PySampler(wavefunction, hamiltonian, solver)"
   ]
  },
  {
   "cell_type": "code",
   "execution_count": 5,
   "metadata": {
    "collapsed": false
   },
   "outputs": [
    {
     "name": "stderr",
     "output_type": "stream",
     "text": [
      "100%|██████████| 29/29 [00:31<00:00,  1.07s/it]\n"
     ]
    }
   ],
   "source": [
    "df = run_experiment(sampler, wavefunction, alphas, parameter_names, **kwargs)"
   ]
  },
  {
   "cell_type": "code",
   "execution_count": 6,
   "metadata": {
    "collapsed": false
   },
   "outputs": [
    {
     "data": {
      "text/html": [
       "<div>\n",
       "<style scoped>\n",
       "    .dataframe tbody tr th:only-of-type {\n",
       "        vertical-align: middle;\n",
       "    }\n",
       "\n",
       "    .dataframe tbody tr th {\n",
       "        vertical-align: top;\n",
       "    }\n",
       "\n",
       "    .dataframe thead th {\n",
       "        text-align: right;\n",
       "    }\n",
       "</style>\n",
       "<table border=\"1\" class=\"dataframe\">\n",
       "  <thead>\n",
       "    <tr style=\"text-align: right;\">\n",
       "      <th></th>\n",
       "      <th>alpha</th>\n",
       "      <th>energy</th>\n",
       "      <th>variance</th>\n",
       "      <th>acceptance</th>\n",
       "    </tr>\n",
       "  </thead>\n",
       "  <tbody>\n",
       "    <tr>\n",
       "      <th>0</th>\n",
       "      <td>0.200</td>\n",
       "      <td>17.991245</td>\n",
       "      <td>28.162925</td>\n",
       "      <td>0.600890</td>\n",
       "    </tr>\n",
       "    <tr>\n",
       "      <th>1</th>\n",
       "      <td>0.225</td>\n",
       "      <td>16.584926</td>\n",
       "      <td>19.774514</td>\n",
       "      <td>0.580131</td>\n",
       "    </tr>\n",
       "    <tr>\n",
       "      <th>2</th>\n",
       "      <td>0.250</td>\n",
       "      <td>15.575167</td>\n",
       "      <td>14.229959</td>\n",
       "      <td>0.560714</td>\n",
       "    </tr>\n",
       "    <tr>\n",
       "      <th>3</th>\n",
       "      <td>0.275</td>\n",
       "      <td>14.792888</td>\n",
       "      <td>10.061798</td>\n",
       "      <td>0.542327</td>\n",
       "    </tr>\n",
       "    <tr>\n",
       "      <th>4</th>\n",
       "      <td>0.300</td>\n",
       "      <td>14.173859</td>\n",
       "      <td>7.120005</td>\n",
       "      <td>0.525044</td>\n",
       "    </tr>\n",
       "    <tr>\n",
       "      <th>5</th>\n",
       "      <td>0.325</td>\n",
       "      <td>13.689833</td>\n",
       "      <td>4.928256</td>\n",
       "      <td>0.510234</td>\n",
       "    </tr>\n",
       "    <tr>\n",
       "      <th>6</th>\n",
       "      <td>0.350</td>\n",
       "      <td>13.358575</td>\n",
       "      <td>3.315452</td>\n",
       "      <td>0.495857</td>\n",
       "    </tr>\n",
       "    <tr>\n",
       "      <th>7</th>\n",
       "      <td>0.375</td>\n",
       "      <td>13.077777</td>\n",
       "      <td>2.093570</td>\n",
       "      <td>0.481139</td>\n",
       "    </tr>\n",
       "    <tr>\n",
       "      <th>8</th>\n",
       "      <td>0.400</td>\n",
       "      <td>12.889304</td>\n",
       "      <td>1.227582</td>\n",
       "      <td>0.468593</td>\n",
       "    </tr>\n",
       "    <tr>\n",
       "      <th>9</th>\n",
       "      <td>0.425</td>\n",
       "      <td>12.756357</td>\n",
       "      <td>0.646481</td>\n",
       "      <td>0.455142</td>\n",
       "    </tr>\n",
       "    <tr>\n",
       "      <th>10</th>\n",
       "      <td>0.450</td>\n",
       "      <td>12.671112</td>\n",
       "      <td>0.266957</td>\n",
       "      <td>0.444071</td>\n",
       "    </tr>\n",
       "    <tr>\n",
       "      <th>11</th>\n",
       "      <td>0.475</td>\n",
       "      <td>12.633994</td>\n",
       "      <td>0.077548</td>\n",
       "      <td>0.432199</td>\n",
       "    </tr>\n",
       "    <tr>\n",
       "      <th>12</th>\n",
       "      <td>0.500</td>\n",
       "      <td>12.629460</td>\n",
       "      <td>0.038999</td>\n",
       "      <td>0.421765</td>\n",
       "    </tr>\n",
       "    <tr>\n",
       "      <th>13</th>\n",
       "      <td>0.525</td>\n",
       "      <td>12.658789</td>\n",
       "      <td>0.136199</td>\n",
       "      <td>0.411636</td>\n",
       "    </tr>\n",
       "    <tr>\n",
       "      <th>14</th>\n",
       "      <td>0.550</td>\n",
       "      <td>12.710276</td>\n",
       "      <td>0.351854</td>\n",
       "      <td>0.401406</td>\n",
       "    </tr>\n",
       "    <tr>\n",
       "      <th>15</th>\n",
       "      <td>0.575</td>\n",
       "      <td>12.786448</td>\n",
       "      <td>0.660829</td>\n",
       "      <td>0.391076</td>\n",
       "    </tr>\n",
       "    <tr>\n",
       "      <th>16</th>\n",
       "      <td>0.600</td>\n",
       "      <td>12.889024</td>\n",
       "      <td>1.067851</td>\n",
       "      <td>0.382257</td>\n",
       "    </tr>\n",
       "    <tr>\n",
       "      <th>17</th>\n",
       "      <td>0.625</td>\n",
       "      <td>13.020650</td>\n",
       "      <td>1.534824</td>\n",
       "      <td>0.373594</td>\n",
       "    </tr>\n",
       "    <tr>\n",
       "      <th>18</th>\n",
       "      <td>0.650</td>\n",
       "      <td>13.142601</td>\n",
       "      <td>2.130848</td>\n",
       "      <td>0.365567</td>\n",
       "    </tr>\n",
       "    <tr>\n",
       "      <th>19</th>\n",
       "      <td>0.675</td>\n",
       "      <td>13.276648</td>\n",
       "      <td>2.787555</td>\n",
       "      <td>0.358343</td>\n",
       "    </tr>\n",
       "    <tr>\n",
       "      <th>20</th>\n",
       "      <td>0.700</td>\n",
       "      <td>13.462859</td>\n",
       "      <td>3.412427</td>\n",
       "      <td>0.349584</td>\n",
       "    </tr>\n",
       "    <tr>\n",
       "      <th>21</th>\n",
       "      <td>0.725</td>\n",
       "      <td>13.632503</td>\n",
       "      <td>4.212094</td>\n",
       "      <td>0.342426</td>\n",
       "    </tr>\n",
       "    <tr>\n",
       "      <th>22</th>\n",
       "      <td>0.750</td>\n",
       "      <td>13.798835</td>\n",
       "      <td>5.060979</td>\n",
       "      <td>0.335189</td>\n",
       "    </tr>\n",
       "    <tr>\n",
       "      <th>23</th>\n",
       "      <td>0.775</td>\n",
       "      <td>14.014318</td>\n",
       "      <td>5.894326</td>\n",
       "      <td>0.327486</td>\n",
       "    </tr>\n",
       "    <tr>\n",
       "      <th>24</th>\n",
       "      <td>0.800</td>\n",
       "      <td>14.183218</td>\n",
       "      <td>6.911163</td>\n",
       "      <td>0.322221</td>\n",
       "    </tr>\n",
       "    <tr>\n",
       "      <th>25</th>\n",
       "      <td>0.825</td>\n",
       "      <td>14.392500</td>\n",
       "      <td>7.884884</td>\n",
       "      <td>0.315262</td>\n",
       "    </tr>\n",
       "    <tr>\n",
       "      <th>26</th>\n",
       "      <td>0.850</td>\n",
       "      <td>14.653776</td>\n",
       "      <td>8.750320</td>\n",
       "      <td>0.309099</td>\n",
       "    </tr>\n",
       "    <tr>\n",
       "      <th>27</th>\n",
       "      <td>0.875</td>\n",
       "      <td>14.831123</td>\n",
       "      <td>10.136668</td>\n",
       "      <td>0.302707</td>\n",
       "    </tr>\n",
       "    <tr>\n",
       "      <th>28</th>\n",
       "      <td>0.900</td>\n",
       "      <td>15.104049</td>\n",
       "      <td>11.054708</td>\n",
       "      <td>0.296719</td>\n",
       "    </tr>\n",
       "  </tbody>\n",
       "</table>\n",
       "</div>"
      ],
      "text/plain": [
       "    alpha     energy   variance  acceptance\n",
       "0   0.200  17.991245  28.162925    0.600890\n",
       "1   0.225  16.584926  19.774514    0.580131\n",
       "2   0.250  15.575167  14.229959    0.560714\n",
       "3   0.275  14.792888  10.061798    0.542327\n",
       "4   0.300  14.173859   7.120005    0.525044\n",
       "5   0.325  13.689833   4.928256    0.510234\n",
       "6   0.350  13.358575   3.315452    0.495857\n",
       "7   0.375  13.077777   2.093570    0.481139\n",
       "8   0.400  12.889304   1.227582    0.468593\n",
       "9   0.425  12.756357   0.646481    0.455142\n",
       "10  0.450  12.671112   0.266957    0.444071\n",
       "11  0.475  12.633994   0.077548    0.432199\n",
       "12  0.500  12.629460   0.038999    0.421765\n",
       "13  0.525  12.658789   0.136199    0.411636\n",
       "14  0.550  12.710276   0.351854    0.401406\n",
       "15  0.575  12.786448   0.660829    0.391076\n",
       "16  0.600  12.889024   1.067851    0.382257\n",
       "17  0.625  13.020650   1.534824    0.373594\n",
       "18  0.650  13.142601   2.130848    0.365567\n",
       "19  0.675  13.276648   2.787555    0.358343\n",
       "20  0.700  13.462859   3.412427    0.349584\n",
       "21  0.725  13.632503   4.212094    0.342426\n",
       "22  0.750  13.798835   5.060979    0.335189\n",
       "23  0.775  14.014318   5.894326    0.327486\n",
       "24  0.800  14.183218   6.911163    0.322221\n",
       "25  0.825  14.392500   7.884884    0.315262\n",
       "26  0.850  14.653776   8.750320    0.309099\n",
       "27  0.875  14.831123  10.136668    0.302707\n",
       "28  0.900  15.104049  11.054708    0.296719"
      ]
     },
     "metadata": {},
     "output_type": "display_data"
    }
   ],
   "source": [
    "display(df)"
   ]
  },
  {
   "cell_type": "code",
   "execution_count": 7,
   "metadata": {
    "collapsed": false
   },
   "outputs": [
    {
     "data": {
      "image/png": "[encoded data removed]",
      "text/plain": [
       "<matplotlib.figure.Figure at 0x7fc97fad5cc0>"
      ]
     },
     "metadata": {},
     "output_type": "display_data"
    }
   ],
   "source": [
    "plt.plot(df[\"alpha\"], df[\"energy\"])\n",
    "plt.show()"
   ]
  },
  {
   "cell_type": "code",
   "execution_count": 8,
   "metadata": {
    "collapsed": false
   },
   "outputs": [
    {
     "data": {
      "image/png": "[encoded data removed]",
      "text/plain": [
       "<matplotlib.figure.Figure at 0x7fc97faa0390>"
      ]
     },
     "metadata": {},
     "output_type": "display_data"
    }
   ],
   "source": [
    "plt.errorbar(\n",
    "    df[\"alpha\"], df[\"energy\"],\n",
    "    yerr=np.sqrt(df[\"variance\"]),\n",
    "    label=\"analytical\", fmt=\"o-\")\n",
    "plt.show()"
   ]
  },
  {
   "cell_type": "code",
   "execution_count": 9,
   "metadata": {
    "collapsed": false
   },
   "outputs": [],
   "source": [
    "r_min = 0\n",
    "r_max = 4\n",
    "num_bins = 100\n",
    "\n",
    "sampler.initialize_one_body_densities(r_min, r_max, num_bins)\n",
    "wavefunction.set_parameters(np.array([0.5]))\n",
    "wavefunction.redistribute()"
   ]
  },
  {
   "cell_type": "code",
   "execution_count": 10,
   "metadata": {
    "collapsed": false
   },
   "outputs": [],
   "source": [
    "sampler.sample(num_samples, step_length)"
   ]
  },
  {
   "cell_type": "code",
   "execution_count": 11,
   "metadata": {
    "collapsed": true
   },
   "outputs": [],
   "source": [
    "bins = sampler.get_one_body_densities()\n",
    "radius = np.linspace(r_min, r_max, num_bins)"
   ]
  },
  {
   "cell_type": "code",
   "execution_count": 12,
   "metadata": {
    "collapsed": false
   },
   "outputs": [
    {
     "data": {
      "image/png": "[encoded data removed]",
      "text/plain": [
       "<matplotlib.figure.Figure at 0x7fc97fa95be0>"
      ]
     },
     "metadata": {},
     "output_type": "display_data"
    }
   ],
   "source": [
    "plt.scatter(radius, bins)\n",
    "plt.show()"
   ]
  }
 ],
 "metadata": {
  "anaconda-cloud": {},
  "kernelspec": {
   "display_name": "Python [conda root]",
   "language": "python",
   "name": "conda-root-py"
  },
  "language_info": {
   "codemirror_mode": {
    "name": "ipython",
    "version": 3
   },
   "file_extension": ".py",
   "mimetype": "text/x-python",
   "name": "python",
   "nbconvert_exporter": "python",
   "pygments_lexer": "ipython3",
   "version": "3.5.2"
  }
 },
 "nbformat": 4,
 "nbformat_minor": 1
}
