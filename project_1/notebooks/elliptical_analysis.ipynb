{
 "cells": [
  {
   "cell_type": "markdown",
   "metadata": {},
   "source": [
    "# Elliptical harmonic oscillator with interacting gaussians"
   ]
  },
  {
   "cell_type": "code",
   "execution_count": 1,
   "metadata": {
    "collapsed": false
   },
   "outputs": [],
   "source": [
    "%matplotlib inline\n",
    "\n",
    "import matplotlib.pyplot as plt\n",
    "import seaborn as sns\n",
    "import numpy as np\n",
    "import pandas as pd\n",
    "import tqdm\n",
    "\n",
    "from vmc.interface import PyEllipticalHarmonicOscillator, PyMetropolisAlgorithm, \\\n",
    "    PyInteractingEllipticalGaussian, PySampler\n",
    "from vmc import run_experiment\n",
    "\n",
    "from IPython.core.pylabtools import figsize\n",
    "from IPython.core.display import display"
   ]
  },
  {
   "cell_type": "code",
   "execution_count": 2,
   "metadata": {
    "collapsed": true
   },
   "outputs": [],
   "source": [
    "sns.set(color_codes=True)"
   ]
  },
  {
   "cell_type": "code",
   "execution_count": 3,
   "metadata": {
    "collapsed": false
   },
   "outputs": [],
   "source": [
    "mass = 1.0\n",
    "omega = 1.0\n",
    "hbar = 1.0\n",
    "\n",
    "radius = 0.043\n",
    "beta = _lambda = 2.82843\n",
    "#beta = _lambda = 1\n",
    "\n",
    "num_particles = 3\n",
    "num_dimensions = 3\n",
    "\n",
    "step_length = 1.0\n",
    "num_thermalization_steps = 0\n",
    "num_samples = int(1e6)\n",
    "num_local_energies = 0\n",
    "\n",
    "alpha_min = 0.2\n",
    "alpha_max = 1.0\n",
    "num_alphas = 30\n",
    "\n",
    "parameter_names = [\"alpha\"]\n",
    "\n",
    "alphas = np.linspace(alpha_min, alpha_max, num_alphas).reshape(num_alphas, 1)\n",
    "\n",
    "kwargs = {\n",
    "    \"num_samples\": num_samples, \"step_length\": step_length,\n",
    "    \"num_thermalization_steps\": num_thermalization_steps}"
   ]
  },
  {
   "cell_type": "code",
   "execution_count": 4,
   "metadata": {
    "collapsed": false
   },
   "outputs": [],
   "source": [
    "wavefunction = PyInteractingEllipticalGaussian(\n",
    "    num_particles, num_dimensions, mass, omega, beta, radius, spread=step_length)\n",
    "solver = PyMetropolisAlgorithm(num_particles)\n",
    "hamiltonian = PyEllipticalHarmonicOscillator(_lambda)\n",
    "\n",
    "sampler = PySampler(wavefunction, hamiltonian, solver, num_local_energies)"
   ]
  },
  {
   "cell_type": "code",
   "execution_count": 5,
   "metadata": {
    "collapsed": false
   },
   "outputs": [
    {
     "name": "stderr",
     "output_type": "stream",
     "text": [
      "100%|██████████| 30/30 [00:14<00:00,  2.05it/s]\n"
     ]
    }
   ],
   "source": [
    "df = run_experiment(sampler, wavefunction, alphas, parameter_names, **kwargs)"
   ]
  },
  {
   "cell_type": "code",
   "execution_count": 6,
   "metadata": {
    "collapsed": false
   },
   "outputs": [
    {
     "data": {
      "text/html": [
       "<div>\n",
       "<table border=\"1\" class=\"dataframe\">\n",
       "  <thead>\n",
       "    <tr style=\"text-align: right;\">\n",
       "      <th></th>\n",
       "      <th>alpha</th>\n",
       "      <th>energy</th>\n",
       "      <th>variance</th>\n",
       "      <th>acceptance</th>\n",
       "    </tr>\n",
       "  </thead>\n",
       "  <tbody>\n",
       "    <tr>\n",
       "      <th>0</th>\n",
       "      <td>0.200000</td>\n",
       "      <td>13.391045</td>\n",
       "      <td>3.617277e+06</td>\n",
       "      <td>0.597810</td>\n",
       "    </tr>\n",
       "    <tr>\n",
       "      <th>1</th>\n",
       "      <td>0.227586</td>\n",
       "      <td>-30550.158955</td>\n",
       "      <td>-2.255797e-02</td>\n",
       "      <td>0.000000</td>\n",
       "    </tr>\n",
       "    <tr>\n",
       "      <th>2</th>\n",
       "      <td>0.255172</td>\n",
       "      <td>9.341777</td>\n",
       "      <td>3.197241e+04</td>\n",
       "      <td>0.553315</td>\n",
       "    </tr>\n",
       "    <tr>\n",
       "      <th>3</th>\n",
       "      <td>0.282759</td>\n",
       "      <td>8.617961</td>\n",
       "      <td>5.474935e+00</td>\n",
       "      <td>0.533309</td>\n",
       "    </tr>\n",
       "    <tr>\n",
       "      <th>4</th>\n",
       "      <td>0.310345</td>\n",
       "      <td>8.228832</td>\n",
       "      <td>3.665132e+00</td>\n",
       "      <td>0.515613</td>\n",
       "    </tr>\n",
       "    <tr>\n",
       "      <th>5</th>\n",
       "      <td>0.337931</td>\n",
       "      <td>7.956139</td>\n",
       "      <td>2.422008e+00</td>\n",
       "      <td>0.498666</td>\n",
       "    </tr>\n",
       "    <tr>\n",
       "      <th>6</th>\n",
       "      <td>0.365517</td>\n",
       "      <td>7.763941</td>\n",
       "      <td>1.532909e+00</td>\n",
       "      <td>0.482459</td>\n",
       "    </tr>\n",
       "    <tr>\n",
       "      <th>7</th>\n",
       "      <td>0.393103</td>\n",
       "      <td>7.674749</td>\n",
       "      <td>1.768358e+03</td>\n",
       "      <td>0.466867</td>\n",
       "    </tr>\n",
       "    <tr>\n",
       "      <th>8</th>\n",
       "      <td>0.420690</td>\n",
       "      <td>7.507033</td>\n",
       "      <td>7.427569e+01</td>\n",
       "      <td>0.453066</td>\n",
       "    </tr>\n",
       "    <tr>\n",
       "      <th>9</th>\n",
       "      <td>0.448276</td>\n",
       "      <td>7.448244</td>\n",
       "      <td>1.954553e-01</td>\n",
       "      <td>0.440205</td>\n",
       "    </tr>\n",
       "    <tr>\n",
       "      <th>10</th>\n",
       "      <td>0.475862</td>\n",
       "      <td>-88176.882701</td>\n",
       "      <td>9.386444e-02</td>\n",
       "      <td>0.000000</td>\n",
       "    </tr>\n",
       "    <tr>\n",
       "      <th>11</th>\n",
       "      <td>0.503448</td>\n",
       "      <td>-14443.564018</td>\n",
       "      <td>9.192795e-03</td>\n",
       "      <td>0.000000</td>\n",
       "    </tr>\n",
       "    <tr>\n",
       "      <th>12</th>\n",
       "      <td>0.531034</td>\n",
       "      <td>7.433316</td>\n",
       "      <td>8.005996e-02</td>\n",
       "      <td>0.402870</td>\n",
       "    </tr>\n",
       "    <tr>\n",
       "      <th>13</th>\n",
       "      <td>0.558621</td>\n",
       "      <td>7.469303</td>\n",
       "      <td>2.271689e-01</td>\n",
       "      <td>0.392704</td>\n",
       "    </tr>\n",
       "    <tr>\n",
       "      <th>14</th>\n",
       "      <td>0.586207</td>\n",
       "      <td>7.522177</td>\n",
       "      <td>4.426740e-01</td>\n",
       "      <td>0.382696</td>\n",
       "    </tr>\n",
       "    <tr>\n",
       "      <th>15</th>\n",
       "      <td>0.613793</td>\n",
       "      <td>-15813.365303</td>\n",
       "      <td>-6.994963e-03</td>\n",
       "      <td>0.000000</td>\n",
       "    </tr>\n",
       "    <tr>\n",
       "      <th>16</th>\n",
       "      <td>0.641379</td>\n",
       "      <td>-20499.404322</td>\n",
       "      <td>-5.759120e-03</td>\n",
       "      <td>0.000000</td>\n",
       "    </tr>\n",
       "    <tr>\n",
       "      <th>17</th>\n",
       "      <td>0.668966</td>\n",
       "      <td>-48437.362069</td>\n",
       "      <td>8.396912e-02</td>\n",
       "      <td>0.000000</td>\n",
       "    </tr>\n",
       "    <tr>\n",
       "      <th>18</th>\n",
       "      <td>0.696552</td>\n",
       "      <td>7.806589</td>\n",
       "      <td>9.007883e+02</td>\n",
       "      <td>0.344570</td>\n",
       "    </tr>\n",
       "    <tr>\n",
       "      <th>19</th>\n",
       "      <td>0.724138</td>\n",
       "      <td>7.972386</td>\n",
       "      <td>5.744117e+01</td>\n",
       "      <td>0.336095</td>\n",
       "    </tr>\n",
       "    <tr>\n",
       "      <th>20</th>\n",
       "      <td>0.751724</td>\n",
       "      <td>-45698.900342</td>\n",
       "      <td>-2.998734e-02</td>\n",
       "      <td>0.000000</td>\n",
       "    </tr>\n",
       "    <tr>\n",
       "      <th>21</th>\n",
       "      <td>0.779310</td>\n",
       "      <td>8.213709</td>\n",
       "      <td>3.394008e+00</td>\n",
       "      <td>0.320340</td>\n",
       "    </tr>\n",
       "    <tr>\n",
       "      <th>22</th>\n",
       "      <td>0.806897</td>\n",
       "      <td>8.216065</td>\n",
       "      <td>1.152361e+04</td>\n",
       "      <td>0.313313</td>\n",
       "    </tr>\n",
       "    <tr>\n",
       "      <th>23</th>\n",
       "      <td>0.834483</td>\n",
       "      <td>8.469680</td>\n",
       "      <td>4.655074e+00</td>\n",
       "      <td>0.306069</td>\n",
       "    </tr>\n",
       "    <tr>\n",
       "      <th>24</th>\n",
       "      <td>0.862069</td>\n",
       "      <td>8.614484</td>\n",
       "      <td>5.299851e+00</td>\n",
       "      <td>0.299214</td>\n",
       "    </tr>\n",
       "    <tr>\n",
       "      <th>25</th>\n",
       "      <td>0.889655</td>\n",
       "      <td>8.754972</td>\n",
       "      <td>5.902424e+00</td>\n",
       "      <td>0.293112</td>\n",
       "    </tr>\n",
       "    <tr>\n",
       "      <th>26</th>\n",
       "      <td>0.917241</td>\n",
       "      <td>9.433996</td>\n",
       "      <td>1.505951e+05</td>\n",
       "      <td>0.286795</td>\n",
       "    </tr>\n",
       "    <tr>\n",
       "      <th>27</th>\n",
       "      <td>0.944828</td>\n",
       "      <td>9.062205</td>\n",
       "      <td>7.403686e+00</td>\n",
       "      <td>0.280048</td>\n",
       "    </tr>\n",
       "    <tr>\n",
       "      <th>28</th>\n",
       "      <td>0.972414</td>\n",
       "      <td>9.340519</td>\n",
       "      <td>1.666328e+04</td>\n",
       "      <td>0.274223</td>\n",
       "    </tr>\n",
       "    <tr>\n",
       "      <th>29</th>\n",
       "      <td>1.000000</td>\n",
       "      <td>9.359512</td>\n",
       "      <td>9.090152e+00</td>\n",
       "      <td>0.268777</td>\n",
       "    </tr>\n",
       "  </tbody>\n",
       "</table>\n",
       "</div>"
      ],
      "text/plain": [
       "       alpha        energy      variance  acceptance\n",
       "0   0.200000     13.391045  3.617277e+06    0.597810\n",
       "1   0.227586 -30550.158955 -2.255797e-02    0.000000\n",
       "2   0.255172      9.341777  3.197241e+04    0.553315\n",
       "3   0.282759      8.617961  5.474935e+00    0.533309\n",
       "4   0.310345      8.228832  3.665132e+00    0.515613\n",
       "5   0.337931      7.956139  2.422008e+00    0.498666\n",
       "6   0.365517      7.763941  1.532909e+00    0.482459\n",
       "7   0.393103      7.674749  1.768358e+03    0.466867\n",
       "8   0.420690      7.507033  7.427569e+01    0.453066\n",
       "9   0.448276      7.448244  1.954553e-01    0.440205\n",
       "10  0.475862 -88176.882701  9.386444e-02    0.000000\n",
       "11  0.503448 -14443.564018  9.192795e-03    0.000000\n",
       "12  0.531034      7.433316  8.005996e-02    0.402870\n",
       "13  0.558621      7.469303  2.271689e-01    0.392704\n",
       "14  0.586207      7.522177  4.426740e-01    0.382696\n",
       "15  0.613793 -15813.365303 -6.994963e-03    0.000000\n",
       "16  0.641379 -20499.404322 -5.759120e-03    0.000000\n",
       "17  0.668966 -48437.362069  8.396912e-02    0.000000\n",
       "18  0.696552      7.806589  9.007883e+02    0.344570\n",
       "19  0.724138      7.972386  5.744117e+01    0.336095\n",
       "20  0.751724 -45698.900342 -2.998734e-02    0.000000\n",
       "21  0.779310      8.213709  3.394008e+00    0.320340\n",
       "22  0.806897      8.216065  1.152361e+04    0.313313\n",
       "23  0.834483      8.469680  4.655074e+00    0.306069\n",
       "24  0.862069      8.614484  5.299851e+00    0.299214\n",
       "25  0.889655      8.754972  5.902424e+00    0.293112\n",
       "26  0.917241      9.433996  1.505951e+05    0.286795\n",
       "27  0.944828      9.062205  7.403686e+00    0.280048\n",
       "28  0.972414      9.340519  1.666328e+04    0.274223\n",
       "29  1.000000      9.359512  9.090152e+00    0.268777"
      ]
     },
     "metadata": {},
     "output_type": "display_data"
    }
   ],
   "source": [
    "display(df)"
   ]
  },
  {
   "cell_type": "code",
   "execution_count": 7,
   "metadata": {
    "collapsed": false
   },
   "outputs": [
    {
     "data": {
      "image/png": "[encoded data removed]",
      "text/plain": [
       "<matplotlib.figure.Figure at 0x7f2f8e43ed68>"
      ]
     },
     "metadata": {},
     "output_type": "display_data"
    }
   ],
   "source": [
    "plt.plot(df[\"alpha\"], df[\"energy\"])\n",
    "plt.show()"
   ]
  },
  {
   "cell_type": "code",
   "execution_count": 8,
   "metadata": {
    "collapsed": false
   },
   "outputs": [
    {
     "data": {
      "image/png": "[encoded data removed]",
      "text/plain": [
       "<matplotlib.figure.Figure at 0x7f2f8c0f0dd8>"
      ]
     },
     "metadata": {},
     "output_type": "display_data"
    }
   ],
   "source": [
    "plt.errorbar(\n",
    "    df[\"alpha\"], df[\"energy\"],\n",
    "    yerr=np.sqrt(df[\"variance\"]),\n",
    "    label=\"analytical\", fmt=\"o-\")\n",
    "plt.show()"
   ]
  }
 ],
 "metadata": {
  "anaconda-cloud": {},
  "kernelspec": {
   "display_name": "Python [conda root]",
   "language": "python",
   "name": "conda-root-py"
  },
  "language_info": {
   "codemirror_mode": {
    "name": "ipython",
    "version": 3
   },
   "file_extension": ".py",
   "mimetype": "text/x-python",
   "name": "python",
   "nbconvert_exporter": "python",
   "pygments_lexer": "ipython3",
   "version": "3.5.2"
  }
 },
 "nbformat": 4,
 "nbformat_minor": 1
}
