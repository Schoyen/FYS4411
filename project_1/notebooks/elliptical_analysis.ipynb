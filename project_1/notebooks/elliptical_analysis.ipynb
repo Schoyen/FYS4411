{
 "cells": [
  {
   "cell_type": "markdown",
   "metadata": {},
   "source": [
    "# Elliptical harmonic oscillator with interacting gaussians"
   ]
  },
  {
   "cell_type": "code",
   "execution_count": 1,
   "metadata": {
    "collapsed": false
   },
   "outputs": [],
   "source": [
    "%matplotlib inline\n",
    "\n",
    "import matplotlib.pyplot as plt\n",
    "import seaborn as sns\n",
    "import numpy as np\n",
    "import pandas as pd\n",
    "import tqdm\n",
    "\n",
    "from vmc.interface import PyEllipticalHarmonicOscillator, PyMetropolisAlgorithm, \\\n",
    "    PyInteractingEllipticalGaussian, PySampler\n",
    "from vmc import run_experiment\n",
    "\n",
    "from IPython.core.pylabtools import figsize\n",
    "from IPython.core.display import display"
   ]
  },
  {
   "cell_type": "code",
   "execution_count": 2,
   "metadata": {
    "collapsed": true
   },
   "outputs": [],
   "source": [
    "sns.set(color_codes=True)"
   ]
  },
  {
   "cell_type": "code",
   "execution_count": 3,
   "metadata": {
    "collapsed": false
   },
   "outputs": [],
   "source": [
    "mass = 1.0\n",
    "omega = 1.0\n",
    "hbar = 1.0\n",
    "\n",
    "radius = 0.043\n",
    "beta = _lambda = 2.82843\n",
    "\n",
    "num_particles = 5\n",
    "num_dimensions = 3\n",
    "\n",
    "step_length = 1.0\n",
    "num_thermalization_steps = 0\n",
    "num_samples = int(1e6)\n",
    "\n",
    "alpha_min = 0.2\n",
    "alpha_max = 0.9\n",
    "num_alphas = 29\n",
    "\n",
    "parameter_names = [\"alpha\"]\n",
    "\n",
    "alphas = np.linspace(alpha_min, alpha_max, num_alphas).reshape(num_alphas, 1)\n",
    "\n",
    "kwargs = {\n",
    "    \"num_samples\": num_samples, \"step_length\": step_length,\n",
    "    \"num_thermalization_steps\": num_thermalization_steps}"
   ]
  },
  {
   "cell_type": "code",
   "execution_count": 4,
   "metadata": {
    "collapsed": false
   },
   "outputs": [],
   "source": [
    "wavefunction = PyInteractingEllipticalGaussian(\n",
    "    num_particles, num_dimensions, mass, omega, beta, radius, spread=step_length)\n",
    "solver = PyMetropolisAlgorithm(num_particles)\n",
    "hamiltonian = PyEllipticalHarmonicOscillator(_lambda)\n",
    "\n",
    "sampler = PySampler(wavefunction, hamiltonian, solver)"
   ]
  },
  {
   "cell_type": "code",
   "execution_count": 5,
   "metadata": {
    "collapsed": false
   },
   "outputs": [
    {
     "name": "stderr",
     "output_type": "stream",
     "text": [
      "100%|██████████| 29/29 [00:29<00:00,  1.01s/it]\n"
     ]
    }
   ],
   "source": [
    "df = run_experiment(sampler, wavefunction, alphas, parameter_names, **kwargs)"
   ]
  },
  {
   "cell_type": "code",
   "execution_count": 6,
   "metadata": {
    "collapsed": false
   },
   "outputs": [
    {
     "data": {
      "text/html": [
       "<div>\n",
       "<table border=\"1\" class=\"dataframe\">\n",
       "  <thead>\n",
       "    <tr style=\"text-align: right;\">\n",
       "      <th></th>\n",
       "      <th>alpha</th>\n",
       "      <th>energy</th>\n",
       "      <th>variance</th>\n",
       "      <th>acceptance</th>\n",
       "    </tr>\n",
       "  </thead>\n",
       "  <tbody>\n",
       "    <tr>\n",
       "      <th>0</th>\n",
       "      <td>0.200</td>\n",
       "      <td>17.990878</td>\n",
       "      <td>28.204132</td>\n",
       "      <td>0.600808</td>\n",
       "    </tr>\n",
       "    <tr>\n",
       "      <th>1</th>\n",
       "      <td>0.225</td>\n",
       "      <td>16.560165</td>\n",
       "      <td>19.730820</td>\n",
       "      <td>0.579781</td>\n",
       "    </tr>\n",
       "    <tr>\n",
       "      <th>2</th>\n",
       "      <td>0.250</td>\n",
       "      <td>15.583999</td>\n",
       "      <td>14.380492</td>\n",
       "      <td>0.560169</td>\n",
       "    </tr>\n",
       "    <tr>\n",
       "      <th>3</th>\n",
       "      <td>0.275</td>\n",
       "      <td>14.822116</td>\n",
       "      <td>10.153012</td>\n",
       "      <td>0.542359</td>\n",
       "    </tr>\n",
       "    <tr>\n",
       "      <th>4</th>\n",
       "      <td>0.300</td>\n",
       "      <td>14.170846</td>\n",
       "      <td>7.063603</td>\n",
       "      <td>0.525137</td>\n",
       "    </tr>\n",
       "    <tr>\n",
       "      <th>5</th>\n",
       "      <td>0.325</td>\n",
       "      <td>13.708279</td>\n",
       "      <td>4.995193</td>\n",
       "      <td>0.510114</td>\n",
       "    </tr>\n",
       "    <tr>\n",
       "      <th>6</th>\n",
       "      <td>0.350</td>\n",
       "      <td>13.348683</td>\n",
       "      <td>3.280248</td>\n",
       "      <td>0.495385</td>\n",
       "    </tr>\n",
       "    <tr>\n",
       "      <th>7</th>\n",
       "      <td>0.375</td>\n",
       "      <td>13.087569</td>\n",
       "      <td>2.119437</td>\n",
       "      <td>0.481615</td>\n",
       "    </tr>\n",
       "    <tr>\n",
       "      <th>8</th>\n",
       "      <td>0.400</td>\n",
       "      <td>12.891711</td>\n",
       "      <td>1.234645</td>\n",
       "      <td>0.468340</td>\n",
       "    </tr>\n",
       "    <tr>\n",
       "      <th>9</th>\n",
       "      <td>0.425</td>\n",
       "      <td>12.753853</td>\n",
       "      <td>0.644573</td>\n",
       "      <td>0.455320</td>\n",
       "    </tr>\n",
       "    <tr>\n",
       "      <th>10</th>\n",
       "      <td>0.450</td>\n",
       "      <td>12.669480</td>\n",
       "      <td>0.266071</td>\n",
       "      <td>0.443373</td>\n",
       "    </tr>\n",
       "    <tr>\n",
       "      <th>11</th>\n",
       "      <td>0.475</td>\n",
       "      <td>12.633626</td>\n",
       "      <td>0.076886</td>\n",
       "      <td>0.432803</td>\n",
       "    </tr>\n",
       "    <tr>\n",
       "      <th>12</th>\n",
       "      <td>0.500</td>\n",
       "      <td>12.630782</td>\n",
       "      <td>0.039942</td>\n",
       "      <td>0.421148</td>\n",
       "    </tr>\n",
       "    <tr>\n",
       "      <th>13</th>\n",
       "      <td>0.525</td>\n",
       "      <td>12.659034</td>\n",
       "      <td>0.135628</td>\n",
       "      <td>0.410779</td>\n",
       "    </tr>\n",
       "    <tr>\n",
       "      <th>14</th>\n",
       "      <td>0.550</td>\n",
       "      <td>12.716523</td>\n",
       "      <td>0.389151</td>\n",
       "      <td>0.401512</td>\n",
       "    </tr>\n",
       "    <tr>\n",
       "      <th>15</th>\n",
       "      <td>0.575</td>\n",
       "      <td>12.779884</td>\n",
       "      <td>0.694735</td>\n",
       "      <td>0.391461</td>\n",
       "    </tr>\n",
       "    <tr>\n",
       "      <th>16</th>\n",
       "      <td>0.600</td>\n",
       "      <td>12.882024</td>\n",
       "      <td>1.080454</td>\n",
       "      <td>0.383289</td>\n",
       "    </tr>\n",
       "    <tr>\n",
       "      <th>17</th>\n",
       "      <td>0.625</td>\n",
       "      <td>13.024005</td>\n",
       "      <td>1.538073</td>\n",
       "      <td>0.374356</td>\n",
       "    </tr>\n",
       "    <tr>\n",
       "      <th>18</th>\n",
       "      <td>0.650</td>\n",
       "      <td>13.145613</td>\n",
       "      <td>2.142048</td>\n",
       "      <td>0.365131</td>\n",
       "    </tr>\n",
       "    <tr>\n",
       "      <th>19</th>\n",
       "      <td>0.675</td>\n",
       "      <td>13.282408</td>\n",
       "      <td>2.789292</td>\n",
       "      <td>0.357592</td>\n",
       "    </tr>\n",
       "    <tr>\n",
       "      <th>20</th>\n",
       "      <td>0.700</td>\n",
       "      <td>13.445526</td>\n",
       "      <td>3.454565</td>\n",
       "      <td>0.350003</td>\n",
       "    </tr>\n",
       "    <tr>\n",
       "      <th>21</th>\n",
       "      <td>0.725</td>\n",
       "      <td>13.636623</td>\n",
       "      <td>4.207750</td>\n",
       "      <td>0.341868</td>\n",
       "    </tr>\n",
       "    <tr>\n",
       "      <th>22</th>\n",
       "      <td>0.750</td>\n",
       "      <td>13.782142</td>\n",
       "      <td>5.095588</td>\n",
       "      <td>0.335484</td>\n",
       "    </tr>\n",
       "    <tr>\n",
       "      <th>23</th>\n",
       "      <td>0.775</td>\n",
       "      <td>14.016063</td>\n",
       "      <td>5.884602</td>\n",
       "      <td>0.327352</td>\n",
       "    </tr>\n",
       "    <tr>\n",
       "      <th>24</th>\n",
       "      <td>0.800</td>\n",
       "      <td>14.199369</td>\n",
       "      <td>6.718234</td>\n",
       "      <td>0.321948</td>\n",
       "    </tr>\n",
       "    <tr>\n",
       "      <th>25</th>\n",
       "      <td>0.825</td>\n",
       "      <td>14.388583</td>\n",
       "      <td>7.994132</td>\n",
       "      <td>0.315707</td>\n",
       "    </tr>\n",
       "    <tr>\n",
       "      <th>26</th>\n",
       "      <td>0.850</td>\n",
       "      <td>14.613153</td>\n",
       "      <td>8.911168</td>\n",
       "      <td>0.309588</td>\n",
       "    </tr>\n",
       "    <tr>\n",
       "      <th>27</th>\n",
       "      <td>0.875</td>\n",
       "      <td>14.840903</td>\n",
       "      <td>9.938252</td>\n",
       "      <td>0.302536</td>\n",
       "    </tr>\n",
       "    <tr>\n",
       "      <th>28</th>\n",
       "      <td>0.900</td>\n",
       "      <td>15.049746</td>\n",
       "      <td>11.059953</td>\n",
       "      <td>0.297285</td>\n",
       "    </tr>\n",
       "  </tbody>\n",
       "</table>\n",
       "</div>"
      ],
      "text/plain": [
       "    alpha     energy   variance  acceptance\n",
       "0   0.200  17.990878  28.204132    0.600808\n",
       "1   0.225  16.560165  19.730820    0.579781\n",
       "2   0.250  15.583999  14.380492    0.560169\n",
       "3   0.275  14.822116  10.153012    0.542359\n",
       "4   0.300  14.170846   7.063603    0.525137\n",
       "5   0.325  13.708279   4.995193    0.510114\n",
       "6   0.350  13.348683   3.280248    0.495385\n",
       "7   0.375  13.087569   2.119437    0.481615\n",
       "8   0.400  12.891711   1.234645    0.468340\n",
       "9   0.425  12.753853   0.644573    0.455320\n",
       "10  0.450  12.669480   0.266071    0.443373\n",
       "11  0.475  12.633626   0.076886    0.432803\n",
       "12  0.500  12.630782   0.039942    0.421148\n",
       "13  0.525  12.659034   0.135628    0.410779\n",
       "14  0.550  12.716523   0.389151    0.401512\n",
       "15  0.575  12.779884   0.694735    0.391461\n",
       "16  0.600  12.882024   1.080454    0.383289\n",
       "17  0.625  13.024005   1.538073    0.374356\n",
       "18  0.650  13.145613   2.142048    0.365131\n",
       "19  0.675  13.282408   2.789292    0.357592\n",
       "20  0.700  13.445526   3.454565    0.350003\n",
       "21  0.725  13.636623   4.207750    0.341868\n",
       "22  0.750  13.782142   5.095588    0.335484\n",
       "23  0.775  14.016063   5.884602    0.327352\n",
       "24  0.800  14.199369   6.718234    0.321948\n",
       "25  0.825  14.388583   7.994132    0.315707\n",
       "26  0.850  14.613153   8.911168    0.309588\n",
       "27  0.875  14.840903   9.938252    0.302536\n",
       "28  0.900  15.049746  11.059953    0.297285"
      ]
     },
     "metadata": {},
     "output_type": "display_data"
    }
   ],
   "source": [
    "display(df)"
   ]
  },
  {
   "cell_type": "code",
   "execution_count": 7,
   "metadata": {
    "collapsed": false
   },
   "outputs": [
    {
     "data": {
      "image/png": "[encoded data removed]",
      "text/plain": [
       "<matplotlib.figure.Figure at 0x7f4f5e47d940>"
      ]
     },
     "metadata": {},
     "output_type": "display_data"
    }
   ],
   "source": [
    "plt.plot(df[\"alpha\"], df[\"energy\"])\n",
    "plt.show()"
   ]
  },
  {
   "cell_type": "code",
   "execution_count": 8,
   "metadata": {
    "collapsed": false
   },
   "outputs": [
    {
     "data": {
      "image/png": "[encoded data removed]",
      "text/plain": [
       "<matplotlib.figure.Figure at 0x7f4f5c12eb38>"
      ]
     },
     "metadata": {},
     "output_type": "display_data"
    }
   ],
   "source": [
    "plt.errorbar(\n",
    "    df[\"alpha\"], df[\"energy\"],\n",
    "    yerr=np.sqrt(df[\"variance\"]),\n",
    "    label=\"analytical\", fmt=\"o-\")\n",
    "plt.show()"
   ]
  }
 ],
 "metadata": {
  "anaconda-cloud": {},
  "kernelspec": {
   "display_name": "Python [conda root]",
   "language": "python",
   "name": "conda-root-py"
  },
  "language_info": {
   "codemirror_mode": {
    "name": "ipython",
    "version": 3
   },
   "file_extension": ".py",
   "mimetype": "text/x-python",
   "name": "python",
   "nbconvert_exporter": "python",
   "pygments_lexer": "ipython3",
   "version": "3.5.2"
  }
 },
 "nbformat": 4,
 "nbformat_minor": 1
}
