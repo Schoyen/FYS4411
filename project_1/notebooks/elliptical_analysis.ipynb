{
 "cells": [
  {
   "cell_type": "markdown",
   "metadata": {},
   "source": [
    "# Elliptical harmonic oscillator with interacting gaussians"
   ]
  },
  {
   "cell_type": "code",
   "execution_count": 1,
   "metadata": {
    "collapsed": false
   },
   "outputs": [],
   "source": [
    "%matplotlib inline\n",
    "\n",
    "import matplotlib.pyplot as plt\n",
    "import seaborn as sns\n",
    "import numpy as np\n",
    "import pandas as pd\n",
    "import tqdm\n",
    "\n",
    "from vmc.interface import PyEllipticalHarmonicOscillator, PyMetropolisAlgorithm, \\\n",
    "    PyInteractingEllipticalGaussian, PySampler\n",
    "from vmc import run_experiment\n",
    "\n",
    "from IPython.core.pylabtools import figsize\n",
    "from IPython.core.display import display"
   ]
  },
  {
   "cell_type": "code",
   "execution_count": 2,
   "metadata": {
    "collapsed": true
   },
   "outputs": [],
   "source": [
    "sns.set(color_codes=True)"
   ]
  },
  {
   "cell_type": "code",
   "execution_count": 3,
   "metadata": {
    "collapsed": false
   },
   "outputs": [],
   "source": [
    "mass = 1.0\n",
    "omega = 1.0\n",
    "hbar = 1.0\n",
    "\n",
    "radius = 0.043\n",
    "beta = _lambda = 2.82843\n",
    "\n",
    "num_particles = 5\n",
    "num_dimensions = 3\n",
    "\n",
    "step_length = 1.0\n",
    "num_thermalization_steps = 0\n",
    "num_samples = int(1e6)\n",
    "num_local_energies = 0\n",
    "\n",
    "alpha_min = 0.2\n",
    "alpha_max = 0.9\n",
    "num_alphas = 29\n",
    "\n",
    "parameter_names = [\"alpha\"]\n",
    "\n",
    "alphas = np.linspace(alpha_min, alpha_max, num_alphas).reshape(num_alphas, 1)\n",
    "\n",
    "kwargs = {\n",
    "    \"num_samples\": num_samples, \"step_length\": step_length,\n",
    "    \"num_thermalization_steps\": num_thermalization_steps}"
   ]
  },
  {
   "cell_type": "code",
   "execution_count": 4,
   "metadata": {
    "collapsed": false
   },
   "outputs": [],
   "source": [
    "wavefunction = PyInteractingEllipticalGaussian(\n",
    "    num_particles, num_dimensions, mass, omega, beta, radius, spread=step_length)\n",
    "solver = PyMetropolisAlgorithm(num_particles)\n",
    "hamiltonian = PyEllipticalHarmonicOscillator(_lambda)\n",
    "\n",
    "sampler = PySampler(wavefunction, hamiltonian, solver, num_local_energies)"
   ]
  },
  {
   "cell_type": "code",
   "execution_count": 5,
   "metadata": {
    "collapsed": false
   },
   "outputs": [
    {
     "name": "stderr",
     "output_type": "stream",
     "text": [
      "100%|██████████| 29/29 [00:28<00:00,  1.01it/s]\n"
     ]
    }
   ],
   "source": [
    "df = run_experiment(sampler, wavefunction, alphas, parameter_names, **kwargs)"
   ]
  },
  {
   "cell_type": "code",
   "execution_count": 6,
   "metadata": {
    "collapsed": false
   },
   "outputs": [
    {
     "data": {
      "text/html": [
       "<div>\n",
       "<table border=\"1\" class=\"dataframe\">\n",
       "  <thead>\n",
       "    <tr style=\"text-align: right;\">\n",
       "      <th></th>\n",
       "      <th>alpha</th>\n",
       "      <th>energy</th>\n",
       "      <th>variance</th>\n",
       "      <th>acceptance</th>\n",
       "    </tr>\n",
       "  </thead>\n",
       "  <tbody>\n",
       "    <tr>\n",
       "      <th>0</th>\n",
       "      <td>0.200</td>\n",
       "      <td>18.029755</td>\n",
       "      <td>28.301908</td>\n",
       "      <td>0.600858</td>\n",
       "    </tr>\n",
       "    <tr>\n",
       "      <th>1</th>\n",
       "      <td>0.225</td>\n",
       "      <td>16.592299</td>\n",
       "      <td>19.820628</td>\n",
       "      <td>0.580328</td>\n",
       "    </tr>\n",
       "    <tr>\n",
       "      <th>2</th>\n",
       "      <td>0.250</td>\n",
       "      <td>15.581339</td>\n",
       "      <td>14.472652</td>\n",
       "      <td>0.560176</td>\n",
       "    </tr>\n",
       "    <tr>\n",
       "      <th>3</th>\n",
       "      <td>0.275</td>\n",
       "      <td>14.817415</td>\n",
       "      <td>10.175767</td>\n",
       "      <td>0.542502</td>\n",
       "    </tr>\n",
       "    <tr>\n",
       "      <th>4</th>\n",
       "      <td>0.300</td>\n",
       "      <td>14.150794</td>\n",
       "      <td>7.077366</td>\n",
       "      <td>0.525259</td>\n",
       "    </tr>\n",
       "    <tr>\n",
       "      <th>5</th>\n",
       "      <td>0.325</td>\n",
       "      <td>13.701522</td>\n",
       "      <td>4.914981</td>\n",
       "      <td>0.510210</td>\n",
       "    </tr>\n",
       "    <tr>\n",
       "      <th>6</th>\n",
       "      <td>0.350</td>\n",
       "      <td>13.338980</td>\n",
       "      <td>3.294917</td>\n",
       "      <td>0.495522</td>\n",
       "    </tr>\n",
       "    <tr>\n",
       "      <th>7</th>\n",
       "      <td>0.375</td>\n",
       "      <td>13.084024</td>\n",
       "      <td>2.095218</td>\n",
       "      <td>0.481412</td>\n",
       "    </tr>\n",
       "    <tr>\n",
       "      <th>8</th>\n",
       "      <td>0.400</td>\n",
       "      <td>12.886810</td>\n",
       "      <td>1.242883</td>\n",
       "      <td>0.468188</td>\n",
       "    </tr>\n",
       "    <tr>\n",
       "      <th>9</th>\n",
       "      <td>0.425</td>\n",
       "      <td>12.752763</td>\n",
       "      <td>0.639941</td>\n",
       "      <td>0.455218</td>\n",
       "    </tr>\n",
       "    <tr>\n",
       "      <th>10</th>\n",
       "      <td>0.450</td>\n",
       "      <td>12.671126</td>\n",
       "      <td>0.267432</td>\n",
       "      <td>0.443229</td>\n",
       "    </tr>\n",
       "    <tr>\n",
       "      <th>11</th>\n",
       "      <td>0.475</td>\n",
       "      <td>12.635088</td>\n",
       "      <td>0.078357</td>\n",
       "      <td>0.433119</td>\n",
       "    </tr>\n",
       "    <tr>\n",
       "      <th>12</th>\n",
       "      <td>0.500</td>\n",
       "      <td>12.629885</td>\n",
       "      <td>0.040348</td>\n",
       "      <td>0.420784</td>\n",
       "    </tr>\n",
       "    <tr>\n",
       "      <th>13</th>\n",
       "      <td>0.525</td>\n",
       "      <td>12.659187</td>\n",
       "      <td>0.136387</td>\n",
       "      <td>0.411542</td>\n",
       "    </tr>\n",
       "    <tr>\n",
       "      <th>14</th>\n",
       "      <td>0.550</td>\n",
       "      <td>12.714796</td>\n",
       "      <td>0.347518</td>\n",
       "      <td>0.401045</td>\n",
       "    </tr>\n",
       "    <tr>\n",
       "      <th>15</th>\n",
       "      <td>0.575</td>\n",
       "      <td>12.788010</td>\n",
       "      <td>0.672383</td>\n",
       "      <td>0.391524</td>\n",
       "    </tr>\n",
       "    <tr>\n",
       "      <th>16</th>\n",
       "      <td>0.600</td>\n",
       "      <td>12.888336</td>\n",
       "      <td>1.095730</td>\n",
       "      <td>0.382761</td>\n",
       "    </tr>\n",
       "    <tr>\n",
       "      <th>17</th>\n",
       "      <td>0.625</td>\n",
       "      <td>13.024366</td>\n",
       "      <td>1.529120</td>\n",
       "      <td>0.373917</td>\n",
       "    </tr>\n",
       "    <tr>\n",
       "      <th>18</th>\n",
       "      <td>0.650</td>\n",
       "      <td>13.141522</td>\n",
       "      <td>2.096467</td>\n",
       "      <td>0.365148</td>\n",
       "    </tr>\n",
       "    <tr>\n",
       "      <th>19</th>\n",
       "      <td>0.675</td>\n",
       "      <td>13.286478</td>\n",
       "      <td>2.782930</td>\n",
       "      <td>0.357886</td>\n",
       "    </tr>\n",
       "    <tr>\n",
       "      <th>20</th>\n",
       "      <td>0.700</td>\n",
       "      <td>13.450291</td>\n",
       "      <td>3.442317</td>\n",
       "      <td>0.349864</td>\n",
       "    </tr>\n",
       "    <tr>\n",
       "      <th>21</th>\n",
       "      <td>0.725</td>\n",
       "      <td>13.648446</td>\n",
       "      <td>4.224035</td>\n",
       "      <td>0.342033</td>\n",
       "    </tr>\n",
       "    <tr>\n",
       "      <th>22</th>\n",
       "      <td>0.750</td>\n",
       "      <td>13.790014</td>\n",
       "      <td>5.090773</td>\n",
       "      <td>0.335906</td>\n",
       "    </tr>\n",
       "    <tr>\n",
       "      <th>23</th>\n",
       "      <td>0.775</td>\n",
       "      <td>14.016203</td>\n",
       "      <td>5.856168</td>\n",
       "      <td>0.327967</td>\n",
       "    </tr>\n",
       "    <tr>\n",
       "      <th>24</th>\n",
       "      <td>0.800</td>\n",
       "      <td>14.192188</td>\n",
       "      <td>6.827893</td>\n",
       "      <td>0.322035</td>\n",
       "    </tr>\n",
       "    <tr>\n",
       "      <th>25</th>\n",
       "      <td>0.825</td>\n",
       "      <td>14.372829</td>\n",
       "      <td>7.965866</td>\n",
       "      <td>0.315296</td>\n",
       "    </tr>\n",
       "    <tr>\n",
       "      <th>26</th>\n",
       "      <td>0.850</td>\n",
       "      <td>14.644838</td>\n",
       "      <td>8.853359</td>\n",
       "      <td>0.309202</td>\n",
       "    </tr>\n",
       "    <tr>\n",
       "      <th>27</th>\n",
       "      <td>0.875</td>\n",
       "      <td>14.842064</td>\n",
       "      <td>9.968935</td>\n",
       "      <td>0.302474</td>\n",
       "    </tr>\n",
       "    <tr>\n",
       "      <th>28</th>\n",
       "      <td>0.900</td>\n",
       "      <td>15.067555</td>\n",
       "      <td>11.150939</td>\n",
       "      <td>0.296624</td>\n",
       "    </tr>\n",
       "  </tbody>\n",
       "</table>\n",
       "</div>"
      ],
      "text/plain": [
       "    alpha     energy   variance  acceptance\n",
       "0   0.200  18.029755  28.301908    0.600858\n",
       "1   0.225  16.592299  19.820628    0.580328\n",
       "2   0.250  15.581339  14.472652    0.560176\n",
       "3   0.275  14.817415  10.175767    0.542502\n",
       "4   0.300  14.150794   7.077366    0.525259\n",
       "5   0.325  13.701522   4.914981    0.510210\n",
       "6   0.350  13.338980   3.294917    0.495522\n",
       "7   0.375  13.084024   2.095218    0.481412\n",
       "8   0.400  12.886810   1.242883    0.468188\n",
       "9   0.425  12.752763   0.639941    0.455218\n",
       "10  0.450  12.671126   0.267432    0.443229\n",
       "11  0.475  12.635088   0.078357    0.433119\n",
       "12  0.500  12.629885   0.040348    0.420784\n",
       "13  0.525  12.659187   0.136387    0.411542\n",
       "14  0.550  12.714796   0.347518    0.401045\n",
       "15  0.575  12.788010   0.672383    0.391524\n",
       "16  0.600  12.888336   1.095730    0.382761\n",
       "17  0.625  13.024366   1.529120    0.373917\n",
       "18  0.650  13.141522   2.096467    0.365148\n",
       "19  0.675  13.286478   2.782930    0.357886\n",
       "20  0.700  13.450291   3.442317    0.349864\n",
       "21  0.725  13.648446   4.224035    0.342033\n",
       "22  0.750  13.790014   5.090773    0.335906\n",
       "23  0.775  14.016203   5.856168    0.327967\n",
       "24  0.800  14.192188   6.827893    0.322035\n",
       "25  0.825  14.372829   7.965866    0.315296\n",
       "26  0.850  14.644838   8.853359    0.309202\n",
       "27  0.875  14.842064   9.968935    0.302474\n",
       "28  0.900  15.067555  11.150939    0.296624"
      ]
     },
     "metadata": {},
     "output_type": "display_data"
    }
   ],
   "source": [
    "display(df)"
   ]
  },
  {
   "cell_type": "code",
   "execution_count": 7,
   "metadata": {
    "collapsed": false
   },
   "outputs": [
    {
     "data": {
      "image/png": "[encoded data removed]",
      "text/plain": [
       "<matplotlib.figure.Figure at 0x7fd8e027ceb8>"
      ]
     },
     "metadata": {},
     "output_type": "display_data"
    }
   ],
   "source": [
    "plt.plot(df[\"alpha\"], df[\"energy\"])\n",
    "plt.show()"
   ]
  },
  {
   "cell_type": "code",
   "execution_count": 8,
   "metadata": {
    "collapsed": false
   },
   "outputs": [
    {
     "data": {
      "image/png": "[encoded data removed]",
      "text/plain": [
       "<matplotlib.figure.Figure at 0x7fd8d968ca90>"
      ]
     },
     "metadata": {},
     "output_type": "display_data"
    }
   ],
   "source": [
    "plt.errorbar(\n",
    "    df[\"alpha\"], df[\"energy\"],\n",
    "    yerr=np.sqrt(df[\"variance\"]),\n",
    "    label=\"analytical\", fmt=\"o-\")\n",
    "plt.show()"
   ]
  }
 ],
 "metadata": {
  "anaconda-cloud": {},
  "kernelspec": {
   "display_name": "Python [conda root]",
   "language": "python",
   "name": "conda-root-py"
  },
  "language_info": {
   "codemirror_mode": {
    "name": "ipython",
    "version": 3
   },
   "file_extension": ".py",
   "mimetype": "text/x-python",
   "name": "python",
   "nbconvert_exporter": "python",
   "pygments_lexer": "ipython3",
   "version": "3.5.2"
  }
 },
 "nbformat": 4,
 "nbformat_minor": 1
}
