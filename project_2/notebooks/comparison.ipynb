{
 "cells": [
  {
   "cell_type": "markdown",
   "metadata": {},
   "source": [
    "# Comparison with article"
   ]
  },
  {
   "cell_type": "code",
   "execution_count": 1,
   "metadata": {},
   "outputs": [],
   "source": [
    "from coupled_cluster.schemes.ccd_sparse import CoupledClusterDoublesSparse\n",
    "from coupled_cluster.hartree_fock.scf_rhf import scf_rhf\n",
    "from coupled_cluster.matrix_elements.generate_matrices import (\n",
    "    get_one_body_elements, get_coulomb_elements,\n",
    "    get_antisymmetrized_elements, add_spin_to_one_body_elements,\n",
    "    get_one_body_elements_spin\n",
    ")\n",
    "from coupled_cluster.matrix_elements.index_map import (\n",
    "    generate_index_map, IndexMap\n",
    ")\n",
    "from coupled_cluster.hartree_fock.basis_transformation import (\n",
    "    transform_one_body_elements, transform_two_body_elements\n",
    ")\n",
    "\n",
    "import numpy as np\n",
    "import time\n",
    "import os"
   ]
  },
  {
   "cell_type": "code",
   "execution_count": 2,
   "metadata": {},
   "outputs": [
    {
     "name": "stdout",
     "output_type": "stream",
     "text": [
      "\n",
      "w = 2.0,\n",
      "num_shells = 10,\n",
      "l = 110,\n",
      "n = 2,\n",
      "theta = 0.9,\n",
      "filename = ../dat/coulomb_110.pkl\n",
      "\n"
     ]
    }
   ],
   "source": [
    "file_path = os.path.join(\"..\", \"dat\")\n",
    "filename = os.path.join(file_path, \"coulomb_{0}.pkl\")\n",
    "\n",
    "num_shells = 10\n",
    "generate_index_map(num_shells)\n",
    "\n",
    "omega = 2.0\n",
    "l = IndexMap.shell_arr[-1]\n",
    "n = 2\n",
    "theta = 0.9\n",
    "\n",
    "filename = filename.format(l)\n",
    "\n",
    "print (\"\"\"\n",
    "w = {0},\n",
    "num_shells = {1},\n",
    "l = {2},\n",
    "n = {3},\n",
    "theta = {4},\n",
    "filename = {5}\n",
    "\"\"\".format(omega, num_shells, l, n, theta, filename))"
   ]
  },
  {
   "cell_type": "code",
   "execution_count": 3,
   "metadata": {
    "scrolled": true
   },
   "outputs": [
    {
     "name": "stdout",
     "output_type": "stream",
     "text": [
      "Time spent creating Coulomb elements: 0.014076471328735352 sec\n",
      "Time spent in SCF RHF: 0.5671348571777344 sec\n",
      "\tRHF Energy: 5.677203807964693\n",
      "Time spent transforming two body elements: 1.901777982711792 sec\n",
      "Time spent antisymmetrizing two body elements: 4.077527284622192 sec\n",
      "Time spent setting up CCD code with HF basis: 2.5826549530029297 sec\n",
      "Time spent computing CCD energy with HF basis: 111.59288048744202 sec\n",
      "\tCCD (HF) Energy: 5.507299729972259\n",
      "\tIterations: 19\n",
      "\tSecond/iteration: 5.8733094993390536\n",
      "Time spent getting antisymmetric two body elements: 1.6580970287322998 sec\n",
      "Time spent setting up CCD code with HO basis: 1.2580914497375488 sec\n",
      "Time spent computing CCD energy with HO basis: 34.475852489471436 sec\n",
      "\tCCD Energy: 5.598330692650305\n",
      "\tIterations: 28\n",
      "\tSecond/iteration: 1.2312804460525513\n"
     ]
    }
   ],
   "source": [
    "h = omega * get_one_body_elements(l)\n",
    "t0 = time.time()\n",
    "u = np.sqrt(omega) * get_coulomb_elements(l, filename=filename, tol=1e-12)\n",
    "t1 = time.time()\n",
    "print (\"Time spent creating Coulomb elements: {0} sec\".format(t1 - t0)) \n",
    "\n",
    "t0 = time.time()\n",
    "c, energy = scf_rhf(h.todense(), u, np.eye(l//2), n//2)\n",
    "t1 = time.time()\n",
    "print (\"Time spent in SCF RHF: {0} sec\".format(t1 - t0))\n",
    "\n",
    "print (\"\\tRHF Energy: {0}\".format(energy))\n",
    "\n",
    "hi = transform_one_body_elements(h, c)\n",
    "t0 = time.time()\n",
    "oi = transform_two_body_elements(u, c)\n",
    "t1 = time.time()\n",
    "print (\"Time spent transforming two body elements: {0} sec\".format(t1 - t0))\n",
    "\n",
    "_h = add_spin_to_one_body_elements(hi, l)\n",
    "t0 = time.time()\n",
    "_u = get_antisymmetrized_elements(l, oi=oi, tol=1e-12)\n",
    "t1 = time.time()\n",
    "print (\"Time spent antisymmetrizing two body elements: {0} sec\".format(t1 - t0))\n",
    "\n",
    "t0 = time.time()\n",
    "ccd_hf = CoupledClusterDoublesSparse(_h, _u, n)\n",
    "t1 = time.time()\n",
    "print (\"Time spent setting up CCD code with HF basis: {0} sec\".format(t1 - t0))\n",
    "t0 = time.time()\n",
    "energy, iterations = ccd_hf.compute_energy(tol=1e-4, theta=theta)\n",
    "t1 = time.time()\n",
    "print (\"Time spent computing CCD energy with HF basis: {0} sec\".format(t1 - t0))\n",
    "print (\"\\tCCD (HF) Energy: {0}\\n\\tIterations: {1}\\n\\tSecond/iteration: {2}\".format(energy, iterations, (t1 - t0)/iterations))\n",
    "\n",
    "__h = omega * get_one_body_elements_spin(l)\n",
    "t0 = time.time()\n",
    "__u = np.sqrt(omega) * get_antisymmetrized_elements(l, filename=filename)\n",
    "t1 = time.time()\n",
    "print (\"Time spent getting antisymmetric two body elements: {0} sec\".format(t1 - t0))\n",
    "\n",
    "t0 = time.time()\n",
    "ccd = CoupledClusterDoublesSparse(__h, __u, n)\n",
    "t1 = time.time()\n",
    "print (\"Time spent setting up CCD code with HO basis: {0} sec\".format(t1 - t0))\n",
    "t0 = time.time()\n",
    "energy, iterations = ccd.compute_energy(theta=theta)\n",
    "t1 = time.time()\n",
    "print (\"Time spent computing CCD energy with HO basis: {0} sec\".format(t1 - t0))\n",
    "print (\"\\tCCD Energy: {0}\\n\\tIterations: {1}\\n\\tSecond/iteration: {2}\".format(energy, iterations, (t1 - t0)/iterations))"
   ]
  },
  {
   "cell_type": "code",
   "execution_count": 4,
   "metadata": {},
   "outputs": [
    {
     "name": "stdout",
     "output_type": "stream",
     "text": [
      "0.01818181818181818\n",
      "0.04608067754934772\n",
      "0.09168982992964961\n",
      "0.05140495867768595\n",
      "0.017053534594631513\n",
      "0.00909090909090909\n"
     ]
    }
   ],
   "source": [
    "print (h.density)\n",
    "print (u.density)\n",
    "print (_u.density)\n",
    "print (_h.density)\n",
    "print (__u.density)\n",
    "print (__h.density)"
   ]
  }
 ],
 "metadata": {
  "kernelspec": {
   "display_name": "Python 3",
   "language": "python",
   "name": "python3"
  },
  "language_info": {
   "codemirror_mode": {
    "name": "ipython",
    "version": 3
   },
   "file_extension": ".py",
   "mimetype": "text/x-python",
   "name": "python",
   "nbconvert_exporter": "python",
   "pygments_lexer": "ipython3",
   "version": "3.6.4"
  }
 },
 "nbformat": 4,
 "nbformat_minor": 2
}
