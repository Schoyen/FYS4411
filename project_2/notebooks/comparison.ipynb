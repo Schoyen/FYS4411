{
 "cells": [
  {
   "cell_type": "markdown",
   "metadata": {},
   "source": [
    "# Comparison with article"
   ]
  },
  {
   "cell_type": "code",
   "execution_count": 1,
   "metadata": {},
   "outputs": [],
   "source": [
    "from coupled_cluster.schemes.ccd_sparse import CoupledClusterDoublesSparse\n",
    "from coupled_cluster.hartree_fock.scf_rhf import scf_rhf\n",
    "from coupled_cluster.matrix_elements.generate_matrices import (\n",
    "    get_one_body_elements, get_coulomb_elements,\n",
    "    get_antisymmetrized_elements, add_spin_to_one_body_elements,\n",
    "    get_one_body_elements_spin\n",
    ")\n",
    "from coupled_cluster.hartree_fock.basis_transformation import (\n",
    "    transform_one_body_elements, transform_two_body_elements\n",
    ")\n",
    "\n",
    "import numpy as np\n",
    "import time\n",
    "import os"
   ]
  },
  {
   "cell_type": "code",
   "execution_count": 2,
   "metadata": {},
   "outputs": [
    {
     "name": "stdout",
     "output_type": "stream",
     "text": [
      "\n",
      "w = 1.0,\n",
      "l = 110,\n",
      "n = 20,\n",
      "theta = 0.8,\n",
      "filename = ../dat/coulomb_110.pkl\n",
      "\n"
     ]
    }
   ],
   "source": [
    "file_path = os.path.join(\"..\", \"dat\")\n",
    "filename = os.path.join(file_path, \"coulomb_{0}.pkl\")\n",
    "\n",
    "omega = 1.0\n",
    "l = 110\n",
    "n = 20\n",
    "theta = 0.8\n",
    "\n",
    "filename = filename.format(l)\n",
    "\n",
    "print (\"\"\"\n",
    "w = {0},\n",
    "l = {1},\n",
    "n = {2},\n",
    "theta = {3},\n",
    "filename = {4}\n",
    "\"\"\".format(omega, l, n, theta, filename))"
   ]
  },
  {
   "cell_type": "code",
   "execution_count": 3,
   "metadata": {
    "scrolled": true
   },
   "outputs": [
    {
     "name": "stdout",
     "output_type": "stream",
     "text": [
      "Time spent creating Coulomb elements: 0.013513803482055664 sec\n",
      "Time spent in SCF RHF: 3.2675211429595947 sec\n",
      "\tRHF Energy: 159.0375866310746\n",
      "Time spent transforming two body elements: 1.675553321838379 sec\n",
      "Time spent antisymmetrizing two body elements: 1.5380547046661377 sec\n",
      "Time spent setting up CCD code with HF basis: 1.584740400314331 sec\n",
      "157.38091434320464\n",
      "157.4211783938602\n",
      "157.445040309221\n",
      "157.4584574309236\n",
      "157.46521660528097\n",
      "157.46776879292753\n",
      "Time spent computing CCD energy with HF basis: 12.772682189941406 sec\n",
      "\tCCD (HF) Energy: 157.4677157460408\n",
      "\tIterations: 6\n",
      "\tSecond/iteration: 2.1287803649902344\n"
     ]
    },
    {
     "data": {
      "text/plain": [
       "'\\n__h = omega * get_one_body_elements_spin(l)\\nt0 = time.time()\\n__u = np.sqrt(omega) * get_antisymmetrized_elements(l, filename=filename)\\nt1 = time.time()\\nprint (\"Time spent getting antisymmetric two body elements: {0} sec\".format(t1 - t0))\\n\\nt0 = time.time()\\nccd = CoupledClusterDoublesSparse(__h, __u, n)\\nt1 = time.time()\\nprint (\"Time spent setting up CCD code with HO basis: {0} sec\".format(t1 - t0))\\nt0 = time.time()\\nenergy, iterations = ccd.compute_energy(theta=theta)\\nt1 = time.time()\\nprint (\"Time spent computing CCD energy with HO basis: {0} sec\".format(t1 - t0))\\nprint (\"\\tCCD Energy: {0}\\n\\tIterations: {1}\\n\\tSecond/iteration: {2}\".format(energy, iterations, (t1 - t0)/iterations))\\n'"
      ]
     },
     "execution_count": 3,
     "metadata": {},
     "output_type": "execute_result"
    }
   ],
   "source": [
    "h = omega * get_one_body_elements(l)\n",
    "t0 = time.time()\n",
    "u = np.sqrt(omega) * get_coulomb_elements(l, filename=filename)\n",
    "t1 = time.time()\n",
    "print (\"Time spent creating Coulomb elements: {0} sec\".format(t1 - t0))\n",
    "\n",
    "t0 = time.time()\n",
    "c, energy = scf_rhf(h.todense(), u, np.eye(l//2), n//2)\n",
    "t1 = time.time()\n",
    "print (\"Time spent in SCF RHF: {0} sec\".format(t1 - t0))\n",
    "\n",
    "print (\"\\tRHF Energy: {0}\".format(energy))\n",
    "\n",
    "hi = transform_one_body_elements(h, c)\n",
    "t0 = time.time()\n",
    "oi = transform_two_body_elements(u, c)\n",
    "t1 = time.time()\n",
    "print (\"Time spent transforming two body elements: {0} sec\".format(t1 - t0))\n",
    "\n",
    "_h = add_spin_to_one_body_elements(hi, l)\n",
    "t0 = time.time()\n",
    "_u = get_antisymmetrized_elements(l, oi=oi)\n",
    "t1 = time.time()\n",
    "print (\"Time spent antisymmetrizing two body elements: {0} sec\".format(t1 - t0))\n",
    "\n",
    "t0 = time.time()\n",
    "ccd_hf = CoupledClusterDoublesSparse(_h, _u, n)\n",
    "t1 = time.time()\n",
    "print (\"Time spent setting up CCD code with HF basis: {0} sec\".format(t1 - t0))\n",
    "t0 = time.time()\n",
    "energy, iterations = ccd_hf.compute_energy(tol=1e-4, theta=theta)\n",
    "t1 = time.time()\n",
    "print (\"Time spent computing CCD energy with HF basis: {0} sec\".format(t1 - t0))\n",
    "print (\"\\tCCD (HF) Energy: {0}\\n\\tIterations: {1}\\n\\tSecond/iteration: {2}\".format(energy, iterations, (t1 - t0)/iterations))\n",
    "\n",
    "\"\"\"\n",
    "__h = omega * get_one_body_elements_spin(l)\n",
    "t0 = time.time()\n",
    "__u = np.sqrt(omega) * get_antisymmetrized_elements(l, filename=filename)\n",
    "t1 = time.time()\n",
    "print (\"Time spent getting antisymmetric two body elements: {0} sec\".format(t1 - t0))\n",
    "\n",
    "t0 = time.time()\n",
    "ccd = CoupledClusterDoublesSparse(__h, __u, n)\n",
    "t1 = time.time()\n",
    "print (\"Time spent setting up CCD code with HO basis: {0} sec\".format(t1 - t0))\n",
    "t0 = time.time()\n",
    "energy, iterations = ccd.compute_energy(theta=theta)\n",
    "t1 = time.time()\n",
    "print (\"Time spent computing CCD energy with HO basis: {0} sec\".format(t1 - t0))\n",
    "print (\"\\tCCD Energy: {0}\\n\\tIterations: {1}\\n\\tSecond/iteration: {2}\".format(energy, iterations, (t1 - t0)/iterations))\n",
    "\"\"\""
   ]
  },
  {
   "cell_type": "code",
   "execution_count": 4,
   "metadata": {},
   "outputs": [
    {
     "name": "stdout",
     "output_type": "stream",
     "text": [
      "0.01818181818181818\n",
      "0.04608067754934772\n",
      "0.017114787241308653\n",
      "0.032231404958677684\n"
     ]
    },
    {
     "ename": "NameError",
     "evalue": "name '__u' is not defined",
     "output_type": "error",
     "traceback": [
      "\u001b[0;31m---------------------------------------------------------------------------\u001b[0m",
      "\u001b[0;31mNameError\u001b[0m                                 Traceback (most recent call last)",
      "\u001b[0;32m<ipython-input-4-c9417ac17bca>\u001b[0m in \u001b[0;36m<module>\u001b[0;34m()\u001b[0m\n\u001b[1;32m      3\u001b[0m \u001b[0mprint\u001b[0m \u001b[0;34m(\u001b[0m\u001b[0m_u\u001b[0m\u001b[0;34m.\u001b[0m\u001b[0mdensity\u001b[0m\u001b[0;34m)\u001b[0m\u001b[0;34m\u001b[0m\u001b[0m\n\u001b[1;32m      4\u001b[0m \u001b[0mprint\u001b[0m \u001b[0;34m(\u001b[0m\u001b[0m_h\u001b[0m\u001b[0;34m.\u001b[0m\u001b[0mdensity\u001b[0m\u001b[0;34m)\u001b[0m\u001b[0;34m\u001b[0m\u001b[0m\n\u001b[0;32m----> 5\u001b[0;31m \u001b[0mprint\u001b[0m \u001b[0;34m(\u001b[0m\u001b[0m__u\u001b[0m\u001b[0;34m.\u001b[0m\u001b[0mdensity\u001b[0m\u001b[0;34m)\u001b[0m\u001b[0;34m\u001b[0m\u001b[0m\n\u001b[0m\u001b[1;32m      6\u001b[0m \u001b[0mprint\u001b[0m \u001b[0;34m(\u001b[0m\u001b[0m__h\u001b[0m\u001b[0;34m.\u001b[0m\u001b[0mdensity\u001b[0m\u001b[0;34m)\u001b[0m\u001b[0;34m\u001b[0m\u001b[0m\n",
      "\u001b[0;31mNameError\u001b[0m: name '__u' is not defined"
     ]
    }
   ],
   "source": [
    "print (h.density)\n",
    "print (u.density)\n",
    "print (_u.density)\n",
    "print (_h.density)\n",
    "print (__u.density)\n",
    "print (__h.density)"
   ]
  }
 ],
 "metadata": {
  "kernelspec": {
   "display_name": "Python 3",
   "language": "python",
   "name": "python3"
  },
  "language_info": {
   "codemirror_mode": {
    "name": "ipython",
    "version": 3
   },
   "file_extension": ".py",
   "mimetype": "text/x-python",
   "name": "python",
   "nbconvert_exporter": "python",
   "pygments_lexer": "ipython3",
   "version": "3.6.4"
  }
 },
 "nbformat": 4,
 "nbformat_minor": 2
}
