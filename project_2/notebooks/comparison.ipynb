{
 "cells": [
  {
   "cell_type": "markdown",
   "metadata": {},
   "source": [
    "# Comparison with article"
   ]
  },
  {
   "cell_type": "code",
   "execution_count": 20,
   "metadata": {},
   "outputs": [],
   "source": [
    "from coupled_cluster.schemes.ccd_sparse import CoupledClusterDoublesSparse\n",
    "from coupled_cluster.hartree_fock.scf_rhf import scf_rhf\n",
    "from coupled_cluster.matrix_elements.generate_matrices import (\n",
    "    get_one_body_elements, get_coulomb_elements,\n",
    "    get_antisymmetrized_elements, add_spin_to_one_body_elements,\n",
    "    get_one_body_elements_spin\n",
    ")\n",
    "from coupled_cluster.hartree_fock.basis_transformation import (\n",
    "    transform_one_body_elements, transform_two_body_elements\n",
    ")\n",
    "\n",
    "import numpy as np\n",
    "import time"
   ]
  },
  {
   "cell_type": "code",
   "execution_count": 21,
   "metadata": {},
   "outputs": [
    {
     "name": "stdout",
     "output_type": "stream",
     "text": [
      "\n",
      "w = 0.5,\n",
      "l = 30,\n",
      "n = 2\n",
      "\n",
      "RHF Energy: 1.7998563827038119\n",
      "CCD (HF) Energy: 1.672689553578182\n",
      "CCD Energy: 1.7590538638203967\n"
     ]
    }
   ],
   "source": [
    "omega = 0.5\n",
    "l = 30\n",
    "n = 2\n",
    "\n",
    "print (\"\"\"\n",
    "w = {0},\n",
    "l = {1},\n",
    "n = {2}\n",
    "\"\"\".format(omega, l, n))\n",
    "\n",
    "h = omega * get_one_body_elements(l)\n",
    "u = np.sqrt(omega) * get_coulomb_elements(l)\n",
    "\n",
    "c, energy = scf_rhf(h.todense(), u, np.eye(l//2), n//2)\n",
    "\n",
    "print (\"RHF Energy: {0}\".format(energy))\n",
    "\n",
    "hi = transform_one_body_elements(h, c)\n",
    "oi = transform_two_body_elements(u, c)\n",
    "\n",
    "_h = add_spin_to_one_body_elements(hi, l)\n",
    "_u = get_antisymmetrized_elements(l, oi=oi)\n",
    "\n",
    "ccd_hf = CoupledClusterDoublesSparse(_h, _u, n)\n",
    "print (\"CCD (HF) Energy: {0}\".format(ccd_hf.compute_energy()))\n",
    "\n",
    "__h = omega * get_one_body_elements_spin(l)\n",
    "__u = np.sqrt(omega) * get_antisymmetrized_elements(l)\n",
    "\n",
    "ccd = CoupledClusterDoublesSparse(__h, __u, n)\n",
    "print (\"CCD Energy: {0}\".format(ccd.compute_energy()))"
   ]
  }
 ],
 "metadata": {
  "kernelspec": {
   "display_name": "Python 3",
   "language": "python",
   "name": "python3"
  },
  "language_info": {
   "codemirror_mode": {
    "name": "ipython",
    "version": 3
   },
   "file_extension": ".py",
   "mimetype": "text/x-python",
   "name": "python",
   "nbconvert_exporter": "python",
   "pygments_lexer": "ipython3",
   "version": "3.6.4"
  }
 },
 "nbformat": 4,
 "nbformat_minor": 2
}
