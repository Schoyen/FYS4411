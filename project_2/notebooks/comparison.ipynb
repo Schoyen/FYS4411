{
 "cells": [
  {
   "cell_type": "markdown",
   "metadata": {},
   "source": [
    "# Comparison with article"
   ]
  },
  {
   "cell_type": "code",
   "execution_count": 1,
   "metadata": {},
   "outputs": [],
   "source": [
    "from coupled_cluster.schemes.ccd_sparse import CoupledClusterDoublesSparse\n",
    "from coupled_cluster.hartree_fock.scf_rhf import scf_rhf\n",
    "from coupled_cluster.matrix_elements.generate_matrices import (\n",
    "    get_one_body_elements, get_coulomb_elements,\n",
    "    get_antisymmetrized_elements, add_spin_to_one_body_elements,\n",
    "    get_one_body_elements_spin\n",
    ")\n",
    "from coupled_cluster.hartree_fock.basis_transformation import (\n",
    "    transform_one_body_elements, transform_two_body_elements\n",
    ")\n",
    "\n",
    "import numpy as np\n",
    "import time\n",
    "import os"
   ]
  },
  {
   "cell_type": "code",
   "execution_count": 2,
   "metadata": {},
   "outputs": [
    {
     "name": "stdout",
     "output_type": "stream",
     "text": [
      "\n",
      "w = 1.0,\n",
      "l = 110,\n",
      "n = 12,\n",
      "theta = 0.8,\n",
      "filename = ../dat/coulomb_110.pkl\n",
      "\n"
     ]
    }
   ],
   "source": [
    "file_path = os.path.join(\"..\", \"dat\")\n",
    "filename = os.path.join(file_path, \"coulomb_{0}.pkl\")\n",
    "\n",
    "omega = 1.0\n",
    "l = 110\n",
    "n = 12\n",
    "theta = 0.8\n",
    "\n",
    "filename = filename.format(l)\n",
    "\n",
    "print (\"\"\"\n",
    "w = {0},\n",
    "l = {1},\n",
    "n = {2},\n",
    "theta = {3},\n",
    "filename = {4}\n",
    "\"\"\".format(omega, l, n, theta, filename))"
   ]
  },
  {
   "cell_type": "code",
   "execution_count": 6,
   "metadata": {
    "scrolled": true
   },
   "outputs": [
    {
     "name": "stdout",
     "output_type": "stream",
     "text": [
      "Time spent creating Coulomb elements: 0.014165401458740234 sec\n",
      "Time spent in SCF RHF: 1.668471097946167 sec\n",
      "\tRHF Energy: 66.91203513015792\n",
      "Time spent transforming two body elements: 1.6217572689056396 sec\n",
      "Time spent antisymmetrizing two body elements: 3.9934065341949463 sec\n",
      "Time spent setting up CCD code with HF basis: 1.9100799560546875 sec\n",
      "Energy(0): 65.92007084659997\n",
      "Energy(1): 65.92417143718545\n",
      "Energy(2): 65.92525544511189\n",
      "Energy(3): 65.9244515521034\n",
      "Energy(4): 65.92252655453329\n",
      "Energy(5): 65.9199951258632\n",
      "Energy(6): 65.91719684823983\n",
      "Energy(7): 65.91435033114868\n",
      "Energy(8): 65.91159121430107\n",
      "Energy(9): 65.90899880372052\n",
      "Energy(10): 65.9066146803206\n",
      "Energy(11): 65.90445563916563\n",
      "Energy(12): 65.90252262918219\n",
      "Energy(13): 65.9008068772314\n",
      "Energy(14): 65.89929403621161\n",
      "Energy(15): 65.89796695235957\n",
      "Energy(16): 65.89680747302806\n",
      "Energy(17): 65.8957975924947\n",
      "Energy(18): 65.89492014535256\n",
      "Energy(19): 65.89415919449509\n",
      "Energy(20): 65.89350021633258\n",
      "Energy(21): 65.8929301544545\n",
      "Energy(22): 65.89243739076166\n",
      "Energy(23): 65.89201166747334\n",
      "Energy(24): 65.89164398246902\n",
      "Energy(25): 65.89132647279234\n",
      "Energy(26): 65.89105229586146\n",
      "Energy(27): 65.89081551430027\n",
      "Energy(28): 65.89061098784066\n",
      "Energy(29): 65.89043427409483\n",
      "Energy(30): 65.89028153891248\n",
      "Energy(31): 65.89014947634188\n",
      "Energy(32): 65.8900352377821\n",
      "Time spent computing CCD energy with HF basis: 290.4071161746979 sec\n",
      "\tCCD (HF) Energy: 65.88993636965546\n",
      "\tIterations: 33\n",
      "\tSecond/iteration: 8.80021564165751\n",
      "Time spent getting antisymmetric two body elements: 1.5011305809020996 sec\n",
      "Time spent setting up CCD code with HO basis: 1.2023296356201172 sec\n",
      "Energy(0): 72.53751160782026\n",
      "Energy(1): 72.60892107429382\n",
      "Energy(2): 72.64532546673941\n",
      "Energy(3): 72.66117299469099\n",
      "Energy(4): 72.66486282494824\n",
      "Energy(5): 72.66134220147107\n",
      "Energy(6): 72.65354935770891\n",
      "Energy(7): 72.64323671362396\n",
      "Energy(8): 72.63144923447189\n",
      "Energy(9): 72.6188061946249\n",
      "Energy(10): 72.60566892601122\n",
      "Energy(11): 72.59224159140625\n",
      "Energy(12): 72.57863220880671\n",
      "Energy(13): 72.56488987572875\n",
      "Energy(14): 72.55102762772596\n",
      "Energy(15): 72.5370365597557\n",
      "Energy(16): 72.52289459546992\n"
     ]
    },
    {
     "ename": "KeyboardInterrupt",
     "evalue": "",
     "output_type": "error",
     "traceback": [
      "\u001b[0;31m---------------------------------------------------------------------------\u001b[0m",
      "\u001b[0;31mKeyboardInterrupt\u001b[0m                         Traceback (most recent call last)",
      "\u001b[0;32m<ipython-input-6-9a580405519d>\u001b[0m in \u001b[0;36m<module>\u001b[0;34m()\u001b[0m\n\u001b[1;32m     45\u001b[0m \u001b[0mprint\u001b[0m \u001b[0;34m(\u001b[0m\u001b[0;34m\"Time spent setting up CCD code with HO basis: {0} sec\"\u001b[0m\u001b[0;34m.\u001b[0m\u001b[0mformat\u001b[0m\u001b[0;34m(\u001b[0m\u001b[0mt1\u001b[0m \u001b[0;34m-\u001b[0m \u001b[0mt0\u001b[0m\u001b[0;34m)\u001b[0m\u001b[0;34m)\u001b[0m\u001b[0;34m\u001b[0m\u001b[0m\n\u001b[1;32m     46\u001b[0m \u001b[0mt0\u001b[0m \u001b[0;34m=\u001b[0m \u001b[0mtime\u001b[0m\u001b[0;34m.\u001b[0m\u001b[0mtime\u001b[0m\u001b[0;34m(\u001b[0m\u001b[0;34m)\u001b[0m\u001b[0;34m\u001b[0m\u001b[0m\n\u001b[0;32m---> 47\u001b[0;31m \u001b[0menergy\u001b[0m\u001b[0;34m,\u001b[0m \u001b[0miterations\u001b[0m \u001b[0;34m=\u001b[0m \u001b[0mccd\u001b[0m\u001b[0;34m.\u001b[0m\u001b[0mcompute_energy\u001b[0m\u001b[0;34m(\u001b[0m\u001b[0mtheta\u001b[0m\u001b[0;34m=\u001b[0m\u001b[0mtheta\u001b[0m\u001b[0;34m)\u001b[0m\u001b[0;34m\u001b[0m\u001b[0m\n\u001b[0m\u001b[1;32m     48\u001b[0m \u001b[0mt1\u001b[0m \u001b[0;34m=\u001b[0m \u001b[0mtime\u001b[0m\u001b[0;34m.\u001b[0m\u001b[0mtime\u001b[0m\u001b[0;34m(\u001b[0m\u001b[0;34m)\u001b[0m\u001b[0;34m\u001b[0m\u001b[0m\n\u001b[1;32m     49\u001b[0m \u001b[0mprint\u001b[0m \u001b[0;34m(\u001b[0m\u001b[0;34m\"Time spent computing CCD energy with HO basis: {0} sec\"\u001b[0m\u001b[0;34m.\u001b[0m\u001b[0mformat\u001b[0m\u001b[0;34m(\u001b[0m\u001b[0mt1\u001b[0m \u001b[0;34m-\u001b[0m \u001b[0mt0\u001b[0m\u001b[0;34m)\u001b[0m\u001b[0;34m)\u001b[0m\u001b[0;34m\u001b[0m\u001b[0m\n",
      "\u001b[0;32m~/anaconda3/lib/python3.6/site-packages/coupled_cluster/schemes/cc.py\u001b[0m in \u001b[0;36mcompute_energy\u001b[0;34m(self, max_iterations, tol, theta)\u001b[0m\n\u001b[1;32m     43\u001b[0m \u001b[0;34m\u001b[0m\u001b[0m\n\u001b[1;32m     44\u001b[0m         \u001b[0;32mwhile\u001b[0m \u001b[0mdiff\u001b[0m \u001b[0;34m>\u001b[0m \u001b[0mtol\u001b[0m \u001b[0;32mand\u001b[0m \u001b[0miterations\u001b[0m \u001b[0;34m<\u001b[0m \u001b[0mmax_iterations\u001b[0m\u001b[0;34m:\u001b[0m\u001b[0;34m\u001b[0m\u001b[0m\n\u001b[0;32m---> 45\u001b[0;31m             \u001b[0mself\u001b[0m\u001b[0;34m.\u001b[0m\u001b[0m_compute_amplitudes\u001b[0m\u001b[0;34m(\u001b[0m\u001b[0mtheta\u001b[0m\u001b[0;34m)\u001b[0m\u001b[0;34m\u001b[0m\u001b[0m\n\u001b[0m\u001b[1;32m     46\u001b[0m             \u001b[0menergy_prev\u001b[0m \u001b[0;34m=\u001b[0m \u001b[0menergy\u001b[0m\u001b[0;34m\u001b[0m\u001b[0m\n\u001b[1;32m     47\u001b[0m             \u001b[0mprint\u001b[0m \u001b[0;34m(\u001b[0m\u001b[0;34m\"Energy({0}): {1}\"\u001b[0m\u001b[0;34m.\u001b[0m\u001b[0mformat\u001b[0m\u001b[0;34m(\u001b[0m\u001b[0miterations\u001b[0m\u001b[0;34m,\u001b[0m \u001b[0menergy\u001b[0m\u001b[0;34m)\u001b[0m\u001b[0;34m)\u001b[0m\u001b[0;34m\u001b[0m\u001b[0m\n",
      "\u001b[0;32m~/anaconda3/lib/python3.6/site-packages/coupled_cluster/schemes/ccd_sparse.py\u001b[0m in \u001b[0;36m_compute_amplitudes\u001b[0;34m(self, theta)\u001b[0m\n\u001b[1;32m     76\u001b[0m \u001b[0;34m\u001b[0m\u001b[0m\n\u001b[1;32m     77\u001b[0m     \u001b[0;32mdef\u001b[0m \u001b[0m_compute_amplitudes\u001b[0m\u001b[0;34m(\u001b[0m\u001b[0mself\u001b[0m\u001b[0;34m,\u001b[0m \u001b[0mtheta\u001b[0m\u001b[0;34m)\u001b[0m\u001b[0;34m:\u001b[0m\u001b[0;34m\u001b[0m\u001b[0m\n\u001b[0;32m---> 78\u001b[0;31m         \u001b[0mself\u001b[0m\u001b[0;34m.\u001b[0m\u001b[0m_compute_intermediates\u001b[0m\u001b[0;34m(\u001b[0m\u001b[0;34m)\u001b[0m\u001b[0;34m\u001b[0m\u001b[0m\n\u001b[0m\u001b[1;32m     79\u001b[0m \u001b[0;34m\u001b[0m\u001b[0m\n\u001b[1;32m     80\u001b[0m         \u001b[0mt_one_body\u001b[0m \u001b[0;34m=\u001b[0m \u001b[0mself\u001b[0m\u001b[0;34m.\u001b[0m\u001b[0m_compute_one_body_amplitude\u001b[0m\u001b[0;34m(\u001b[0m\u001b[0;34m)\u001b[0m\u001b[0;34m\u001b[0m\u001b[0m\n",
      "\u001b[0;32m~/anaconda3/lib/python3.6/site-packages/coupled_cluster/schemes/ccd_sparse.py\u001b[0m in \u001b[0;36m_compute_intermediates\u001b[0;34m(self)\u001b[0m\n\u001b[1;32m    132\u001b[0m \u001b[0;34m\u001b[0m\u001b[0m\n\u001b[1;32m    133\u001b[0m         self.chi_bc = 0.5*sparse.tensordot(\n\u001b[0;32m--> 134\u001b[0;31m                 t, u[o, o, v, v], axes=((1, 2, 3), (2, 0, 1)))\n\u001b[0m\u001b[1;32m    135\u001b[0m \u001b[0;34m\u001b[0m\u001b[0m\n\u001b[1;32m    136\u001b[0m         \u001b[0mself\u001b[0m\u001b[0;34m.\u001b[0m\u001b[0mchi_bc\u001b[0m \u001b[0;34m=\u001b[0m \u001b[0mself\u001b[0m\u001b[0;34m.\u001b[0m\u001b[0mchi_bc\u001b[0m \u001b[0;34m+\u001b[0m \u001b[0mself\u001b[0m\u001b[0;34m.\u001b[0m\u001b[0mu_bc\u001b[0m\u001b[0;34m\u001b[0m\u001b[0m\n",
      "\u001b[0;32m~/anaconda3/lib/python3.6/site-packages/sparse/coo.py\u001b[0m in \u001b[0;36m__getitem__\u001b[0;34m(self, index)\u001b[0m\n\u001b[1;32m    545\u001b[0m \u001b[0;34m\u001b[0m\u001b[0m\n\u001b[1;32m    546\u001b[0m                 \u001b[0mdt\u001b[0m \u001b[0;34m=\u001b[0m \u001b[0mnp\u001b[0m\u001b[0;34m.\u001b[0m\u001b[0mmin_scalar_type\u001b[0m\u001b[0;34m(\u001b[0m\u001b[0mmin\u001b[0m\u001b[0;34m(\u001b[0m\u001b[0;34m-\u001b[0m\u001b[0;34m(\u001b[0m\u001b[0mdim\u001b[0m \u001b[0;34m-\u001b[0m \u001b[0;36m1\u001b[0m\u001b[0;34m)\u001b[0m \u001b[0;32mif\u001b[0m \u001b[0mdim\u001b[0m \u001b[0;34m!=\u001b[0m \u001b[0;36m0\u001b[0m \u001b[0;32melse\u001b[0m \u001b[0;34m-\u001b[0m\u001b[0;36m1\u001b[0m \u001b[0;32mfor\u001b[0m \u001b[0mdim\u001b[0m \u001b[0;32min\u001b[0m \u001b[0mshape\u001b[0m\u001b[0;34m)\u001b[0m\u001b[0;34m)\u001b[0m\u001b[0;34m\u001b[0m\u001b[0m\n\u001b[0;32m--> 547\u001b[0;31m                 \u001b[0mcoords\u001b[0m\u001b[0;34m.\u001b[0m\u001b[0mappend\u001b[0m\u001b[0;34m(\u001b[0m\u001b[0;34m(\u001b[0m\u001b[0mself\u001b[0m\u001b[0;34m.\u001b[0m\u001b[0mcoords\u001b[0m\u001b[0;34m[\u001b[0m\u001b[0mi\u001b[0m\u001b[0;34m,\u001b[0m \u001b[0mmask\u001b[0m\u001b[0;34m]\u001b[0m\u001b[0;34m.\u001b[0m\u001b[0mastype\u001b[0m\u001b[0;34m(\u001b[0m\u001b[0mdt\u001b[0m\u001b[0;34m)\u001b[0m \u001b[0;34m-\u001b[0m \u001b[0mstart\u001b[0m\u001b[0;34m)\u001b[0m \u001b[0;34m//\u001b[0m \u001b[0mstep\u001b[0m\u001b[0;34m)\u001b[0m\u001b[0;34m\u001b[0m\u001b[0m\n\u001b[0m\u001b[1;32m    548\u001b[0m                 \u001b[0mi\u001b[0m \u001b[0;34m+=\u001b[0m \u001b[0;36m1\u001b[0m\u001b[0;34m\u001b[0m\u001b[0m\n\u001b[1;32m    549\u001b[0m             \u001b[0;32melif\u001b[0m \u001b[0misinstance\u001b[0m\u001b[0;34m(\u001b[0m\u001b[0mind\u001b[0m\u001b[0;34m,\u001b[0m \u001b[0mIterable\u001b[0m\u001b[0;34m)\u001b[0m\u001b[0;34m:\u001b[0m\u001b[0;34m\u001b[0m\u001b[0m\n",
      "\u001b[0;31mKeyboardInterrupt\u001b[0m: "
     ]
    }
   ],
   "source": [
    "h = omega * get_one_body_elements(l)\n",
    "t0 = time.time()\n",
    "u = np.sqrt(omega) * get_coulomb_elements(l, filename=filename, tol=1e-12)\n",
    "t1 = time.time()\n",
    "print (\"Time spent creating Coulomb elements: {0} sec\".format(t1 - t0)) \n",
    "\n",
    "t0 = time.time()\n",
    "c, energy = scf_rhf(h.todense(), u, np.eye(l//2), n//2)\n",
    "t1 = time.time()\n",
    "print (\"Time spent in SCF RHF: {0} sec\".format(t1 - t0))\n",
    "\n",
    "print (\"\\tRHF Energy: {0}\".format(energy))\n",
    "\n",
    "hi = transform_one_body_elements(h, c)\n",
    "t0 = time.time()\n",
    "oi = transform_two_body_elements(u, c)\n",
    "t1 = time.time()\n",
    "print (\"Time spent transforming two body elements: {0} sec\".format(t1 - t0))\n",
    "\n",
    "_h = add_spin_to_one_body_elements(hi, l)\n",
    "t0 = time.time()\n",
    "_u = get_antisymmetrized_elements(l, oi=oi, tol=1e-12)\n",
    "t1 = time.time()\n",
    "print (\"Time spent antisymmetrizing two body elements: {0} sec\".format(t1 - t0))\n",
    "\n",
    "t0 = time.time()\n",
    "ccd_hf = CoupledClusterDoublesSparse(_h, _u, n)\n",
    "t1 = time.time()\n",
    "print (\"Time spent setting up CCD code with HF basis: {0} sec\".format(t1 - t0))\n",
    "t0 = time.time()\n",
    "energy, iterations = ccd_hf.compute_energy(tol=1e-4, theta=theta)\n",
    "t1 = time.time()\n",
    "print (\"Time spent computing CCD energy with HF basis: {0} sec\".format(t1 - t0))\n",
    "print (\"\\tCCD (HF) Energy: {0}\\n\\tIterations: {1}\\n\\tSecond/iteration: {2}\".format(energy, iterations, (t1 - t0)/iterations))\n",
    "\n",
    "__h = omega * get_one_body_elements_spin(l)\n",
    "t0 = time.time()\n",
    "__u = np.sqrt(omega) * get_antisymmetrized_elements(l, filename=filename)\n",
    "t1 = time.time()\n",
    "print (\"Time spent getting antisymmetric two body elements: {0} sec\".format(t1 - t0))\n",
    "\n",
    "t0 = time.time()\n",
    "ccd = CoupledClusterDoublesSparse(__h, __u, n)\n",
    "t1 = time.time()\n",
    "print (\"Time spent setting up CCD code with HO basis: {0} sec\".format(t1 - t0))\n",
    "t0 = time.time()\n",
    "energy, iterations = ccd.compute_energy(theta=theta)\n",
    "t1 = time.time()\n",
    "print (\"Time spent computing CCD energy with HO basis: {0} sec\".format(t1 - t0))\n",
    "print (\"\\tCCD Energy: {0}\\n\\tIterations: {1}\\n\\tSecond/iteration: {2}\".format(energy, iterations, (t1 - t0)/iterations))"
   ]
  },
  {
   "cell_type": "code",
   "execution_count": null,
   "metadata": {},
   "outputs": [],
   "source": [
    "print (h.density)\n",
    "print (u.density)\n",
    "print (_u.density)\n",
    "print (_h.density)\n",
    "print (__u.density)\n",
    "print (__h.density)"
   ]
  }
 ],
 "metadata": {
  "kernelspec": {
   "display_name": "Python 3",
   "language": "python",
   "name": "python3"
  },
  "language_info": {
   "codemirror_mode": {
    "name": "ipython",
    "version": 3
   },
   "file_extension": ".py",
   "mimetype": "text/x-python",
   "name": "python",
   "nbconvert_exporter": "python",
   "pygments_lexer": "ipython3",
   "version": "3.6.4"
  }
 },
 "nbformat": 4,
 "nbformat_minor": 2
}
