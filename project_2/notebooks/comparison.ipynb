{
 "cells": [
  {
   "cell_type": "markdown",
   "metadata": {},
   "source": [
    "# Comparison with article"
   ]
  },
  {
   "cell_type": "code",
   "execution_count": 1,
   "metadata": {
    "collapsed": true
   },
   "outputs": [],
   "source": [
    "from coupled_cluster.schemes.ccd_sparse import CoupledClusterDoublesSparse\n",
    "from coupled_cluster.hartree_fock.scf_rhf import scf_rhf\n",
    "from coupled_cluster.matrix_elements.generate_matrices import (\n",
    "    get_one_body_elements, get_coulomb_elements,\n",
    "    get_antisymmetrized_elements, add_spin_to_one_body_elements,\n",
    "    get_one_body_elements_spin\n",
    ")\n",
    "from coupled_cluster.matrix_elements.index_map import (\n",
    "    generate_index_map, IndexMap\n",
    ")\n",
    "from coupled_cluster.hartree_fock.basis_transformation import (\n",
    "    transform_one_body_elements, transform_two_body_elements\n",
    ")\n",
    "\n",
    "import numpy as np\n",
    "import time\n",
    "import os"
   ]
  },
  {
   "cell_type": "code",
   "execution_count": 2,
   "metadata": {},
   "outputs": [
    {
     "name": "stdout",
     "output_type": "stream",
     "text": [
      "\n",
      "w = 1.0,\n",
      "l = 72,\n",
      "n = 12,\n",
      "theta = 0.8,\n",
      "filename = ../dat/coulomb_72.pkl\n",
      "\n"
     ]
    }
   ],
   "source": [
    "file_path = os.path.join(\"..\", \"dat\")\n",
    "filename = os.path.join(file_path, \"coulomb_{0}.pkl\")\n",
    "\n",
    "num_shells = 8\n",
    "generate_index_map(num_shells)\n",
    "\n",
    "omega = 1.0\n",
    "l = IndexMap.shell_arr[-1]\n",
    "n = 12\n",
    "theta = 0.8\n",
    "\n",
    "filename = filename.format(l)\n",
    "\n",
    "print (\"\"\"\n",
    "w = {0},\n",
    "l = {1},\n",
    "n = {2},\n",
    "theta = {3},\n",
    "filename = {4}\n",
    "\"\"\".format(omega, l, n, theta, filename))"
   ]
  },
  {
   "cell_type": "code",
   "execution_count": 3,
   "metadata": {
    "scrolled": true
   },
   "outputs": [
    {
     "name": "stdout",
     "output_type": "stream",
     "text": [
      "Time spent creating Coulomb elements: 31.046775102615356 sec\n",
      "Time spent in SCF RHF: 0.7470028400421143 sec\n",
      "\tRHF Energy: 66.92309448217796\n",
      "Time spent transforming two body elements: 0.461284875869751 sec\n",
      "Time spent antisymmetrizing two body elements: 3.0064141750335693 sec\n",
      "Time spent setting up CCD code with HF basis: 2.5227301120758057 sec\n",
      "Time spent computing CCD energy with HF basis: 154.82737588882446 sec\n",
      "\tCCD (HF) Energy: 65.97274237528121\n",
      "\tIterations: 32\n",
      "\tSecond/iteration: 4.8383554965257645\n",
      "Time spent getting antisymmetric two body elements: 0.81784987449646 sec\n",
      "Time spent setting up CCD code with HO basis: 0.9535810947418213 sec\n"
     ]
    },
    {
     "name": "stderr",
     "output_type": "stream",
     "text": [
      "/Users/Schoyen/anaconda3/lib/python3.6/site-packages/sparse/utils.py:190: RuntimeWarning: invalid value encountered in subtract\n",
      "  return self.func(*totargs, **kwargs)\n",
      "/Users/Schoyen/anaconda3/lib/python3.6/site-packages/sparse/utils.py:190: RuntimeWarning: invalid value encountered in add\n",
      "  return self.func(*totargs, **kwargs)\n"
     ]
    },
    {
     "name": "stdout",
     "output_type": "stream",
     "text": [
      "Time spent computing CCD energy with HO basis: 40.11674213409424 sec\n",
      "\tCCD Energy: nan\n",
      "\tIterations: 63\n",
      "\tSecond/iteration: 0.6367736846681625\n"
     ]
    }
   ],
   "source": [
    "h = omega * get_one_body_elements(l)\n",
    "t0 = time.time()\n",
    "u = np.sqrt(omega) * get_coulomb_elements(l, filename=filename, tol=1e-12)\n",
    "t1 = time.time()\n",
    "print (\"Time spent creating Coulomb elements: {0} sec\".format(t1 - t0)) \n",
    "\n",
    "t0 = time.time()\n",
    "c, energy = scf_rhf(h.todense(), u, np.eye(l//2), n//2)\n",
    "t1 = time.time()\n",
    "print (\"Time spent in SCF RHF: {0} sec\".format(t1 - t0))\n",
    "\n",
    "print (\"\\tRHF Energy: {0}\".format(energy))\n",
    "\n",
    "hi = transform_one_body_elements(h, c)\n",
    "t0 = time.time()\n",
    "oi = transform_two_body_elements(u, c)\n",
    "t1 = time.time()\n",
    "print (\"Time spent transforming two body elements: {0} sec\".format(t1 - t0))\n",
    "\n",
    "_h = add_spin_to_one_body_elements(hi, l)\n",
    "t0 = time.time()\n",
    "_u = get_antisymmetrized_elements(l, oi=oi, tol=1e-12)\n",
    "t1 = time.time()\n",
    "print (\"Time spent antisymmetrizing two body elements: {0} sec\".format(t1 - t0))\n",
    "\n",
    "t0 = time.time()\n",
    "ccd_hf = CoupledClusterDoublesSparse(_h, _u, n)\n",
    "t1 = time.time()\n",
    "print (\"Time spent setting up CCD code with HF basis: {0} sec\".format(t1 - t0))\n",
    "t0 = time.time()\n",
    "energy, iterations = ccd_hf.compute_energy(tol=1e-4, theta=theta)\n",
    "t1 = time.time()\n",
    "print (\"Time spent computing CCD energy with HF basis: {0} sec\".format(t1 - t0))\n",
    "print (\"\\tCCD (HF) Energy: {0}\\n\\tIterations: {1}\\n\\tSecond/iteration: {2}\".format(energy, iterations, (t1 - t0)/iterations))\n",
    "\n",
    "__h = omega * get_one_body_elements_spin(l)\n",
    "t0 = time.time()\n",
    "__u = np.sqrt(omega) * get_antisymmetrized_elements(l, filename=filename)\n",
    "t1 = time.time()\n",
    "print (\"Time spent getting antisymmetric two body elements: {0} sec\".format(t1 - t0))\n",
    "\n",
    "t0 = time.time()\n",
    "ccd = CoupledClusterDoublesSparse(__h, __u, n)\n",
    "t1 = time.time()\n",
    "print (\"Time spent setting up CCD code with HO basis: {0} sec\".format(t1 - t0))\n",
    "t0 = time.time()\n",
    "energy, iterations = ccd.compute_energy(theta=theta)\n",
    "t1 = time.time()\n",
    "print (\"Time spent computing CCD energy with HO basis: {0} sec\".format(t1 - t0))\n",
    "print (\"\\tCCD Energy: {0}\\n\\tIterations: {1}\\n\\tSecond/iteration: {2}\".format(energy, iterations, (t1 - t0)/iterations))"
   ]
  },
  {
   "cell_type": "code",
   "execution_count": 4,
   "metadata": {},
   "outputs": [
    {
     "name": "stdout",
     "output_type": "stream",
     "text": [
      "0.027777777777777776\n",
      "0.05720831428135955\n",
      "0.10878022119341564\n",
      "0.06172839506172839\n",
      "0.021026234567901234\n",
      "0.013888888888888888\n"
     ]
    }
   ],
   "source": [
    "print (h.density)\n",
    "print (u.density)\n",
    "print (_u.density)\n",
    "print (_h.density)\n",
    "print (__u.density)\n",
    "print (__h.density)"
   ]
  }
 ],
 "metadata": {
  "kernelspec": {
   "display_name": "Python 3",
   "language": "python",
   "name": "python3"
  },
  "language_info": {
   "codemirror_mode": {
    "name": "ipython",
    "version": 3
   },
   "file_extension": ".py",
   "mimetype": "text/x-python",
   "name": "python",
   "nbconvert_exporter": "python",
   "pygments_lexer": "ipython3",
   "version": "3.6.1"
  }
 },
 "nbformat": 4,
 "nbformat_minor": 2
}
