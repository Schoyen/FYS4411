{
 "cells": [
  {
   "cell_type": "markdown",
   "metadata": {},
   "source": [
    "# Comparison with article"
   ]
  },
  {
   "cell_type": "code",
   "execution_count": 1,
   "metadata": {},
   "outputs": [],
   "source": [
    "from coupled_cluster.schemes.ccd_sparse import CoupledClusterDoublesSparse\n",
    "from coupled_cluster.hartree_fock.scf_rhf import scf_rhf\n",
    "from coupled_cluster.matrix_elements.generate_matrices import (\n",
    "    get_one_body_elements, get_coulomb_elements,\n",
    "    get_antisymmetrized_elements, add_spin_to_one_body_elements,\n",
    "    get_one_body_elements_spin\n",
    ")\n",
    "from coupled_cluster.hartree_fock.basis_transformation import (\n",
    "    transform_one_body_elements, transform_two_body_elements\n",
    ")\n",
    "\n",
    "import numpy as np\n",
    "import time"
   ]
  },
  {
   "cell_type": "code",
   "execution_count": 2,
   "metadata": {},
   "outputs": [
    {
     "name": "stdout",
     "output_type": "stream",
     "text": [
      "\n",
      "w = 0.5,\n",
      "l = 42,\n",
      "n = 2\n",
      "\n",
      "Time spent creating Coulomb elements: 2.5337469577789307 sec\n",
      "Time spent in SCF RHF: 0.03344917297363281 sec\n",
      "\tRHF Energy: 1.7997479365496687\n",
      "Time spent transforming two body elements: 0.016511917114257812 sec\n",
      "Time spent antisymmetrizing two body elements: 0.057221412658691406 sec\n",
      "Time spent computing CCD energy with HF basis: 2.8599085807800293 sec\n",
      "\tCCD (HF) Energy: 1.6679773214356806\n",
      "Time spent getting antisymmetric two body elements: 2.5226221084594727 sec\n",
      "Time spent computing CCD energy with HO basis: 3.1022937297821045 sec\n",
      "\tCCD Energy: 1.7482518328406547\n"
     ]
    }
   ],
   "source": [
    "omega = 0.5\n",
    "l = 42\n",
    "n = 2\n",
    "\n",
    "print (\"\"\"\n",
    "w = {0},\n",
    "l = {1},\n",
    "n = {2}\n",
    "\"\"\".format(omega, l, n))\n",
    "\n",
    "h = omega * get_one_body_elements(l)\n",
    "t0 = time.time()\n",
    "u = np.sqrt(omega) * get_coulomb_elements(l)\n",
    "t1 = time.time()\n",
    "print (\"Time spent creating Coulomb elements: {0} sec\".format(t1 - t0))\n",
    "\n",
    "t0 = time.time()\n",
    "c, energy = scf_rhf(h.todense(), u, np.eye(l//2), n//2)\n",
    "t1 = time.time()\n",
    "print (\"Time spent in SCF RHF: {0} sec\".format(t1 - t0))\n",
    "\n",
    "print (\"\\tRHF Energy: {0}\".format(energy))\n",
    "\n",
    "hi = transform_one_body_elements(h, c)\n",
    "t0 = time.time()\n",
    "oi = transform_two_body_elements(u, c)\n",
    "t1 = time.time()\n",
    "print (\"Time spent transforming two body elements: {0} sec\".format(t1 - t0))\n",
    "\n",
    "_h = add_spin_to_one_body_elements(hi, l)\n",
    "t0 = time.time()\n",
    "_u = get_antisymmetrized_elements(l, oi=oi)\n",
    "t1 = time.time()\n",
    "print (\"Time spent antisymmetrizing two body elements: {0} sec\".format(t1 - t0))\n",
    "\n",
    "t0 = time.time()\n",
    "ccd_hf = CoupledClusterDoublesSparse(_h, _u, n)\n",
    "t1 = time.time()\n",
    "print (\"Time spent computing CCD energy with HF basis: {0} sec\".format(t1 - t0))\n",
    "print (\"\\tCCD (HF) Energy: {0}\".format(ccd_hf.compute_energy()))\n",
    "\n",
    "__h = omega * get_one_body_elements_spin(l)\n",
    "t0 = time.time()\n",
    "__u = np.sqrt(omega) * get_antisymmetrized_elements(l)\n",
    "t1 = time.time()\n",
    "print (\"Time spent getting antisymmetric two body elements: {0} sec\".format(t1 - t0))\n",
    "\n",
    "t0 = time.time()\n",
    "ccd = CoupledClusterDoublesSparse(__h, __u, n)\n",
    "t1 = time.time()\n",
    "print (\"Time spent computing CCD energy with HO basis: {0} sec\".format(t1 - t0))\n",
    "print (\"\\tCCD Energy: {0}\".format(ccd.compute_energy()))"
   ]
  },
  {
   "cell_type": "code",
   "execution_count": 3,
   "metadata": {},
   "outputs": [
    {
     "name": "stdout",
     "output_type": "stream",
     "text": [
      "0.047619047619047616\n",
      "0.07560121554290651\n",
      "0.050019024994729565\n",
      "0.05782312925170068\n",
      "0.027410132609355157\n",
      "0.023809523809523808\n"
     ]
    }
   ],
   "source": [
    "print (h.density)\n",
    "print (u.density)\n",
    "print (_u.density)\n",
    "print (_h.density)\n",
    "print (__u.density)\n",
    "print (__h.density)"
   ]
  }
 ],
 "metadata": {
  "kernelspec": {
   "display_name": "Python 3",
   "language": "python",
   "name": "python3"
  },
  "language_info": {
   "codemirror_mode": {
    "name": "ipython",
    "version": 3
   },
   "file_extension": ".py",
   "mimetype": "text/x-python",
   "name": "python",
   "nbconvert_exporter": "python",
   "pygments_lexer": "ipython3",
   "version": "3.6.4"
  }
 },
 "nbformat": 4,
 "nbformat_minor": 2
}
