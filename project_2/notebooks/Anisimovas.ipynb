{
 "cells": [
  {
   "cell_type": "markdown",
   "metadata": {},
   "source": [
    "# Coloumb Matrix Elements"
   ]
  },
  {
   "cell_type": "markdown",
   "metadata": {},
   "source": [
    "\\begin{align*}\n",
    "\\langle 12| V | 34 \\rangle =& \n",
    "\\delta_{s_1, s_4} \\delta_{s_2, s_3} \\delta_{m_1 + m_2, m_3 + m_4}\n",
    "\\Big[\\prod_{i=1}^4 \\frac{n_i!}{(|m_i| + n_i)} \\Big]^{1/2}\n",
    "\\sum_{(4)j=0}^n \\frac{(-1)^{j_1+j_2+j_3+j_4}}{j_1!j_2!j_3!j_4!} \\\\\n",
    "&\\times \\Big[\\prod_{i=1}^n {n_i + |m_i| \\choose n_i + j_i} \\Big]\n",
    "\\frac{1}{2^{(G+1)/2}} \\sum_{(4)l=0}^\\gamma (-1)^{\\gamma_2 + \\gamma_3 - l_2 - l_3} \\\\\n",
    "&\\times \\delta_{l_1 + l_2, l_3 + l_4} \\Big[\\prod_{i=1}^4 {\\gamma_i \\choose l_i} \\Big] \\Gamma\\Big(1 + \\frac{\\Lambda}{2} \\Big)\\Gamma\\Big(\\frac{G - \\Lambda + 1}{2}\\Big)\n",
    "\\end{align*}"
   ]
  },
  {
   "cell_type": "markdown",
   "metadata": {},
   "source": [
    "The symbols $j_i$ are integer summation indices (regular indices) running from $0$ to $n_i$.\n",
    "The symbols $\\gamma_i$ stand for numbers,\n",
    "\\begin{align*}\n",
    "\\gamma_1 &= j_1 + j_4 + (|m_1| + m_1)/2 + (|m_4| - m_4)/2 \\\\\n",
    "\\gamma_4 &= j_1 + j_4 + (|m_1| - m_1)/2 + (|m_4| + m_4)/2\n",
    "\\end{align*}\n",
    "$\\gamma_2$ and $\\gamma_3$ can be obtained by replacing indices $1 \\to 2$ and $4 \\to 3$."
   ]
  },
  {
   "cell_type": "markdown",
   "metadata": {},
   "source": [
    "Moreover,\n",
    "\\begin{align*}\n",
    "\\sum_{(4)j=0}^n =\n",
    "\\sum_{j_1=0}^{n_1}\\sum_{j_2=0}^{n_2}\\sum_{j_3=0}^{n_3}\\sum_{j_4=0}^{n_4},\n",
    "\\quad \n",
    "G = \\sum_i \\gamma_i, \n",
    "\\quad\n",
    "\\Lambda = \\sum_i l_i\n",
    "\\end{align*}"
   ]
  },
  {
   "cell_type": "code",
   "execution_count": 20,
   "metadata": {},
   "outputs": [],
   "source": [
    "import numpy as np\n",
    "import numba\n",
    "from scipy.special import factorial, comb, gamma"
   ]
  },
  {
   "cell_type": "code",
   "execution_count": 2,
   "metadata": {},
   "outputs": [],
   "source": [
    "delta = lambda p, q: p == q"
   ]
  },
  {
   "cell_type": "code",
   "execution_count": 32,
   "metadata": {},
   "outputs": [],
   "source": [
    "@numba.njit(cache=True)\n",
    "def logfac(n: int) -> float:\n",
    "    assert n > 0\n",
    "\n",
    "    val = 0.0\n",
    "    for i in range(2, n + 1):\n",
    "        val += np.log(i)\n",
    "    return val"
   ]
  },
  {
   "cell_type": "code",
   "execution_count": 51,
   "metadata": {},
   "outputs": [],
   "source": [
    "@numba.njit(cache=True)\n",
    "def logratio_1(n_1: int, n_2: int, n_3: int, n_4: int) -> float:\n",
    "    return -logfac(n_1) - logfac(n_2) - logfac(n_3) - logfac(n_4)"
   ]
  },
  {
   "cell_type": "code",
   "execution_count": 52,
   "metadata": {},
   "outputs": [],
   "source": [
    "@numba.njit(cache=True)\n",
    "def logratio_2(g: int) -> float:\n",
    "    return -0.5 * (g + 1) * np.log(2)"
   ]
  },
  {
   "cell_type": "code",
   "execution_count": 3,
   "metadata": {},
   "outputs": [],
   "source": [
    "def _compute_prefactor(n, m):\n",
    "    return np.sqrt(np.prod(factorial(n)/factorial(np.abs(m) + n)))"
   ]
  },
  {
   "cell_type": "code",
   "execution_count": 17,
   "metadata": {},
   "outputs": [],
   "source": [
    "def _compute_l_sum(gam):\n",
    "    l_sum = 0\n",
    "    G = np.sum(gam)\n",
    "    l = np.zeros_like(gam)\n",
    "    for l_1 in range(int(gam[0])):\n",
    "        for l_2 in range(int(gam[1])):\n",
    "            for l_3 in range(int(gam[2])):\n",
    "                for l_4 in range(int(gam[3])):\n",
    "                    if l_1 + l_2 != l_3 + l_4:\n",
    "                        continue\n",
    "                    sign = (-1)**(gam[1] + gam[2] - l_2 - l_3)\n",
    "\n",
    "                    l[0] = l_1\n",
    "                    l[1] = l_2\n",
    "                    l[2] = l_3\n",
    "                    l[3] = l_4\n",
    "                    #l = np.array([l_1, l_2, l_3, l_4])\n",
    "                    _lambda = np.sum(l)\n",
    "\n",
    "                    term = np.prod(comb(gam, l))\n",
    "                    term *= gamma(1 + _lambda/2.0)\n",
    "                    term *= gamma((G - _lambda + 1)/2.0)\n",
    "\n",
    "                    l_sum += sign * term\n",
    "\n",
    "    return l_sum"
   ]
  },
  {
   "cell_type": "code",
   "execution_count": 18,
   "metadata": {},
   "outputs": [],
   "source": [
    "def compute_two_body_element(_1, _2, _3, _4):\n",
    "    n_1, m_1 = _1\n",
    "    n_2, m_2 = _2\n",
    "    n_3, m_3 = _3\n",
    "    n_4, m_4 = _4\n",
    "\n",
    "    n = np.zeros(4)\n",
    "    m = np.zeros_like(n)\n",
    "    j = np.zeros_like(n)\n",
    "    gam = np.zeros_like(n)\n",
    "\n",
    "    n[0] = n_1\n",
    "    n[1] = n_2\n",
    "    n[2] = n_3\n",
    "    n[3] = n_4\n",
    "\n",
    "    m[0] = m_1\n",
    "    m[1] = m_2\n",
    "    m[2] = m_3\n",
    "    m[3] = m_4\n",
    "\n",
    "    if m_1 + m_2 != m_3 + m_4:\n",
    "        return 0\n",
    "\n",
    "    prefactor = _compute_prefactor(n, m)\n",
    "    element = 0\n",
    "\n",
    "    for j_1 in range(n_1):\n",
    "        fact_1 = factorial(j_1)\n",
    "        for j_2 in range(n_2):\n",
    "            fact_2 = factorial(j_2)\n",
    "            for j_3 in range(n_3):\n",
    "                fact_3 = factorial(j_3)\n",
    "                for j_4 in range(n_4):\n",
    "                    fact_4 = factorial(j_4)\n",
    "\n",
    "                    j[0] = j_1\n",
    "                    j[1] = j_2\n",
    "                    j[2] = j_3\n",
    "                    j[3] = j_4\n",
    "                    \n",
    "                    gam[0] = j_1 + j_4 + (abs(m_1) + m_1)/2 + (abs(m_4) - m_4)/2\n",
    "                    gam[1] = j_2 + j_3 + (abs(m_2) + m_2)/2 + (abs(m_3) - m_3)/2\n",
    "                    gam[2] = j_3 + j_2 + (abs(m_3) + m_3)/2 + (abs(m_2) - m_2)/2\n",
    "                    gam[3] = j_4 + j_1 + (abs(m_4) + m_4)/2 + (abs(m_1) - m_1)/2\n",
    "\n",
    "                    divisor = fact_1 * fact_2 * fact_3 * fact_4\n",
    "                    sign = -1 if (j_1 + j_2 + j_3 + j_4) & 0x1 != 0 else 1\n",
    "                    term_1 = sign / float(divisor)\n",
    "\n",
    "                    G = np.sum(gam)\n",
    "                    term_2 = np.prod(comb(n + np.abs(m), n - j)) / 2**((G + 1)/2.0)\n",
    "\n",
    "                    l_sum = _compute_l_sum(gam)\n",
    "\n",
    "                    element += term_1 * term_2 * l_sum\n",
    "\n",
    "    return element"
   ]
  },
  {
   "cell_type": "code",
   "execution_count": 19,
   "metadata": {},
   "outputs": [
    {
     "name": "stdout",
     "output_type": "stream",
     "text": [
      "17.624730055999226\n"
     ]
    }
   ],
   "source": [
    "_0 = (2, 0)\n",
    "print (compute_two_body_element(_0, _0, _0, _0))"
   ]
  }
 ],
 "metadata": {
  "anaconda-cloud": {},
  "kernelspec": {
   "display_name": "Python 3",
   "language": "python",
   "name": "python3"
  },
  "language_info": {
   "codemirror_mode": {
    "name": "ipython",
    "version": 3
   },
   "file_extension": ".py",
   "mimetype": "text/x-python",
   "name": "python",
   "nbconvert_exporter": "python",
   "pygments_lexer": "ipython3",
   "version": "3.7.3"
  }
 },
 "nbformat": 4,
 "nbformat_minor": 2
}
