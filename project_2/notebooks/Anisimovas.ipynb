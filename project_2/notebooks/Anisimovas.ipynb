{
 "cells": [
  {
   "cell_type": "markdown",
   "metadata": {},
   "source": [
    "# Coloumb Matrix Elements"
   ]
  },
  {
   "cell_type": "markdown",
   "metadata": {},
   "source": [
    "\\begin{align*}\n",
    "\\langle 12| V | 34 \\rangle =& \n",
    "\\delta_{s_1, s_4} \\delta_{s_2, s_3} \\delta_{m_1 + m_2, m_3 + m_4}\n",
    "\\Big[\\prod_{i=1}^4 \\frac{n_i!}{(|m_i| + n_i)} \\Big]^{1/2}\n",
    "\\sum_{(4)j=0}^n \\frac{(-1)^{j_1+j_2+j_3+j_4}}{j_1!j_2!j_3!j_4!} \\\\\n",
    "&\\times \\Big[\\prod_{i=1}^n {n_i + |m_i| \\choose n_i + j_i} \\Big]\n",
    "\\frac{1}{2^{(G+1)/2}} \\sum_{(4)l=0}^\\gamma (-1)^{\\gamma_2 + \\gamma_3 - l_2 - l_3} \\\\\n",
    "&\\times \\delta_{l_1 + l_2, l_3 + l_4} \\Big[\\prod_{i=1}^4 {\\gamma_i \\choose l_i} \\Big] \\Gamma\\Big(1 + \\frac{\\Lambda}{2} \\Big)\\Gamma\\Big(\\frac{G - \\Lambda + 1}{2}\\Big)\n",
    "\\end{align*}"
   ]
  },
  {
   "cell_type": "markdown",
   "metadata": {},
   "source": [
    "The symbols $j_i$ are integer summation indices running from $0$ to $n_i$.\n",
    "The symbols $\\gamma_i$ stand for numbers,\n",
    "\\begin{align*}\n",
    "\\gamma_1 &= j_1 + j_4 + (|m_1| + m_1)/2 + (|m_4| - m_4)/2 \\\\\n",
    "\\gamma_4 &= j_1 + j_4 + (|m_1| - m_1)/2 + (|m_4| + m_4)/2\n",
    "\\end{align*}\n",
    "$\\gamma_2$ and $\\gamma_3$ can be obtained by replacing indices $1 \\to 2$ and $4 \\to 3$."
   ]
  },
  {
   "cell_type": "markdown",
   "metadata": {},
   "source": [
    "Moreover,\n",
    "\\begin{align*}\n",
    "\\sum_{(4)j=0}^n =\n",
    "\\sum_{j_1=0}^{n_1}\\sum_{j_2=0}^{n_2}\\sum_{j_3=0}^{n_3}\\sum_{j_4=0}^{n_4},\n",
    "\\quad \n",
    "G = \\sum_i \\gamma_i, \n",
    "\\quad\n",
    "\\Lambda = \\sum_i l_i\n",
    "\\end{align*}"
   ]
  },
  {
   "cell_type": "code",
   "execution_count": 1,
   "metadata": {},
   "outputs": [],
   "source": [
    "import numpy as np\n",
    "from scipy.misc import factorial"
   ]
  },
  {
   "cell_type": "code",
   "execution_count": null,
   "metadata": {},
   "outputs": [],
   "source": [
    "n = np.zeros(4)\n",
    "m = np.zeros(4)\n",
    "j = np.zeros(4)\n",
    "\n",
    "    first_product = 1\n",
    "    for i in range(4):\n",
    "        first_product *= (factorial(n[i] / np.abs())"
   ]
  }
 ],
 "metadata": {
  "kernelspec": {
   "display_name": "Python 3",
   "language": "python",
   "name": "python3"
  },
  "language_info": {
   "codemirror_mode": {
    "name": "ipython",
    "version": 3
   },
   "file_extension": ".py",
   "mimetype": "text/x-python",
   "name": "python",
   "nbconvert_exporter": "python",
   "pygments_lexer": "ipython3",
   "version": "3.6.1"
  }
 },
 "nbformat": 4,
 "nbformat_minor": 2
}
