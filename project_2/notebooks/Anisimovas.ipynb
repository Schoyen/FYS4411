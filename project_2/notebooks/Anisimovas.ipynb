{
 "cells": [
  {
   "cell_type": "markdown",
   "metadata": {},
   "source": [
    "# Coloumb Matrix Elements"
   ]
  },
  {
   "cell_type": "markdown",
   "metadata": {},
   "source": [
    "\\begin{align*}\n",
    "\\langle 12| V | 34 \\rangle =& \n",
    "\\delta_{s_1, s_4} \\delta_{s_2, s_3} \\delta_{m_1 + m_2, m_3 + m_4}\n",
    "\\Big[\\prod_{i=1}^4 \\frac{n_i!}{(|m_i| + n_i)} \\Big]^{1/2}\n",
    "\\sum_{(4)j=0}^n \\frac{(-1)^{j_1+j_2+j_3+j_4}}{j_1!j_2!j_3!j_4!} \\\\\n",
    "&\\times \\Big[\\prod_{i=1}^n {n_i + |m_i| \\choose n_i + j_i} \\Big]\n",
    "\\frac{1}{2^{(G+1)/2}} \\sum_{(4)l=0}^\\gamma (-1)^{\\gamma_2 + \\gamma_3 - l_2 - l_3} \\\\\n",
    "&\\times \\delta_{l_1 + l_2, l_3 + l_4} \\Big[\\prod_{i=1}^4 {\\gamma_i \\choose l_i} \\Big] \\Gamma\\Big(1 + \\frac{\\Lambda}{2} \\Big)\\Gamma\\Big(\\frac{G - \\Lambda + 1}{2}\\Big)\n",
    "\\end{align*}"
   ]
  },
  {
   "cell_type": "markdown",
   "metadata": {},
   "source": [
    "The symbols $j_i$ are integer summation indices (??) running from $0$ to $n_i$.\n",
    "The symbols $\\gamma_i$ stand for numbers,\n",
    "\\begin{align*}\n",
    "\\gamma_1 &= j_1 + j_4 + (|m_1| + m_1)/2 + (|m_4| - m_4)/2 \\\\\n",
    "\\gamma_4 &= j_1 + j_4 + (|m_1| - m_1)/2 + (|m_4| + m_4)/2\n",
    "\\end{align*}\n",
    "$\\gamma_2$ and $\\gamma_3$ can be obtained by replacing indices $1 \\to 2$ and $4 \\to 3$."
   ]
  },
  {
   "cell_type": "markdown",
   "metadata": {},
   "source": [
    "Moreover,\n",
    "\\begin{align*}\n",
    "\\sum_{(4)j=0}^n =\n",
    "\\sum_{j_1=0}^{n_1}\\sum_{j_2=0}^{n_2}\\sum_{j_3=0}^{n_3}\\sum_{j_4=0}^{n_4},\n",
    "\\quad \n",
    "G = \\sum_i \\gamma_i, \n",
    "\\quad\n",
    "\\Lambda = \\sum_i l_i\n",
    "\\end{align*}"
   ]
  },
  {
   "cell_type": "code",
   "execution_count": 50,
   "metadata": {},
   "outputs": [],
   "source": [
    "import numpy as np\n",
    "from scipy.special import factorial, comb, gamma"
   ]
  },
  {
   "cell_type": "code",
   "execution_count": 43,
   "metadata": {},
   "outputs": [],
   "source": [
    "n = np.zeros(4)\n",
    "n[:] = 2\n",
    "m = np.zeros(4)\n",
    "j = np.zeros(4)"
   ]
  },
  {
   "cell_type": "code",
   "execution_count": 58,
   "metadata": {},
   "outputs": [],
   "source": [
    "delta = lambda p, q: p == q"
   ]
  },
  {
   "cell_type": "code",
   "execution_count": 62,
   "metadata": {},
   "outputs": [
    {
     "ename": "TypeError",
     "evalue": "int() can't convert non-string with explicit base",
     "output_type": "error",
     "traceback": [
      "\u001b[0;31m---------------------------------------------------------------------------\u001b[0m",
      "\u001b[0;31mTypeError\u001b[0m                                 Traceback (most recent call last)",
      "\u001b[0;32m<ipython-input-62-5c152d9a064b>\u001b[0m in \u001b[0;36m<module>\u001b[0;34m()\u001b[0m\n\u001b[1;32m     41\u001b[0m                                     \u001b[0mproduct_two\u001b[0m \u001b[0;34m*=\u001b[0m \u001b[0mgamma\u001b[0m\u001b[0;34m(\u001b[0m\u001b[0;36m1\u001b[0m \u001b[0;34m+\u001b[0m \u001b[0msum\u001b[0m\u001b[0;34m(\u001b[0m\u001b[0ml\u001b[0m\u001b[0;34m)\u001b[0m\u001b[0;34m/\u001b[0m\u001b[0;36m2\u001b[0m\u001b[0;34m)\u001b[0m\u001b[0;34m\u001b[0m\u001b[0m\n\u001b[1;32m     42\u001b[0m                                     \u001b[0mproduct_two\u001b[0m \u001b[0;34m*=\u001b[0m \u001b[0mgamma\u001b[0m\u001b[0;34m(\u001b[0m\u001b[0;34m(\u001b[0m\u001b[0msum\u001b[0m\u001b[0;34m(\u001b[0m\u001b[0mgammas\u001b[0m\u001b[0;34m)\u001b[0m \u001b[0;34m-\u001b[0m \u001b[0msum\u001b[0m\u001b[0;34m(\u001b[0m\u001b[0ml\u001b[0m\u001b[0;34m)\u001b[0m \u001b[0;34m+\u001b[0m \u001b[0;36m1\u001b[0m\u001b[0;34m)\u001b[0m\u001b[0;34m/\u001b[0m\u001b[0;36m2\u001b[0m\u001b[0;34m)\u001b[0m\u001b[0;34m\u001b[0m\u001b[0m\n\u001b[0;32m---> 43\u001b[0;31m                                     \u001b[0mproduct_two\u001b[0m \u001b[0;34m*=\u001b[0m \u001b[0mdelta\u001b[0m\u001b[0;34m(\u001b[0m\u001b[0mint\u001b[0m\u001b[0;34m(\u001b[0m\u001b[0ml_1\u001b[0m \u001b[0;34m+\u001b[0m \u001b[0ml_2\u001b[0m\u001b[0;34m)\u001b[0m\u001b[0;34m,\u001b[0m \u001b[0mint\u001b[0m\u001b[0;34m(\u001b[0m\u001b[0ml_3\u001b[0m\u001b[0;34m,\u001b[0m \u001b[0ml_4\u001b[0m\u001b[0;34m)\u001b[0m\u001b[0;34m)\u001b[0m\u001b[0;34m\u001b[0m\u001b[0m\n\u001b[0m\u001b[1;32m     44\u001b[0m \u001b[0;34m\u001b[0m\u001b[0m\n\u001b[1;32m     45\u001b[0m                                 \u001b[0msecond_sum\u001b[0m \u001b[0;34m*=\u001b[0m \u001b[0mproduct_two\u001b[0m\u001b[0;34m\u001b[0m\u001b[0m\n",
      "\u001b[0;31mTypeError\u001b[0m: int() can't convert non-string with explicit base"
     ]
    }
   ],
   "source": [
    "# FIRST PRODUCT\n",
    "first_product = 1\n",
    "for i in range(4):\n",
    "    first_product *= (factorial(n[i]) / factorial(np.abs(m[i]) + n[i]))\n",
    "\n",
    "first_product = first_product**0.5 #* delta(int(m[0] + m[1]), int(m[2], m[3]))\n",
    "    \n",
    "# FIRST SUM (including some product) and SECOND SUM\n",
    "first_sum = 0\n",
    "second_sum = 0\n",
    "for j_1 in range(int(n[0])):\n",
    "    for j_2 in range(int(n[1])):\n",
    "        for j_3 in range(int(n[2])):\n",
    "            for j_4 in range(int(n[3])):\n",
    "                numerator   = (-1)**(j_1 + j_2 + j_3 + j_4)\n",
    "                denominator = factorial(j_1)*factorial(j_2)*\\\n",
    "                                factorial(j_3)*factorial(j_4)\n",
    "                \n",
    "                j = [j_1, j_2, j_3, j_4]\n",
    "                product_one = 1\n",
    "                for i in range(4):\n",
    "                    product_one *= comb(int(n[i] + np.abs(m[i])), int(n[i] - j[i]))\n",
    "                    \n",
    "                first_sum += (numerator / denominator) * product_one\n",
    "                \n",
    "                gamma_1 = j_1 + j_4 + (np.abs(m[0]) + m[0])/2 + (np.abs(m[3]) - m[3])\n",
    "                gamma_4 = j_1 + j_4 + (np.abs(m[0]) - m[0])/2 + (np.abs(m[3]) + m[3])\n",
    "                gamma_2 = j_2 + j_3 + (np.abs(m[1]) + m[1])/2 + (np.abs(m[2]) - m[2])\n",
    "                gamma_3 = j_2 + j_3 + (np.abs(m[1]) - m[1])/2 + (np.abs(m[2]) + m[2])\n",
    "                \n",
    "                gammas = [gamma_1, gamma_2, gamma_3, gamma_4]\n",
    "                \n",
    "                for l_1 in range(int(gamma_1)):\n",
    "                    for l_2 in range(int(gamma_2)):\n",
    "                        for l_3 in range(int(gamma_3)):\n",
    "                            for l_4 in range(int(gamma_4)):\n",
    "                                second_sum += (-1)**(gamma_2 + gamma_3 - l_2 - l_3)\n",
    "                                product_two = 1\n",
    "                                l = [l_1, l_2, l_3, l_4]\n",
    "                                for i in range(4):\n",
    "                                    product_two *= comb(int(gammas[i]), int(l[i]))\n",
    "                                    product_two *= gamma(1 + sum(l)/2)\n",
    "                                    product_two *= gamma((sum(gammas) - sum(l) + 1)/2)\n",
    "                                    product_two *= delta(int(l_1 + l_2), int(l_3, l_4))\n",
    "                                \n",
    "                                second_sum *= product_two\n",
    "\n",
    "entire_shit = first_sum * second_sum"
   ]
  },
  {
   "cell_type": "code",
   "execution_count": 59,
   "metadata": {},
   "outputs": [
    {
     "data": {
      "text/plain": [
       "5"
      ]
     },
     "execution_count": 59,
     "metadata": {},
     "output_type": "execute_result"
    }
   ],
   "source": []
  }
 ],
 "metadata": {
  "kernelspec": {
   "display_name": "Python 3",
   "language": "python",
   "name": "python3"
  },
  "language_info": {
   "codemirror_mode": {
    "name": "ipython",
    "version": 3
   },
   "file_extension": ".py",
   "mimetype": "text/x-python",
   "name": "python",
   "nbconvert_exporter": "python",
   "pygments_lexer": "ipython3",
   "version": "3.6.1"
  }
 },
 "nbformat": 4,
 "nbformat_minor": 2
}
